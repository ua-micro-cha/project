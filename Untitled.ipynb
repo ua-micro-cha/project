{
 "cells": [
  {
   "cell_type": "code",
   "execution_count": 3,
   "id": "21192256-cff6-4bc3-9aef-ba262d57babe",
   "metadata": {},
   "outputs": [
    {
     "name": "stdout",
     "output_type": "stream",
     "text": [
      "README.md  Untitled.ipynb  \u001b[0m\u001b[34;42mdocs\u001b[0m/  \u001b[34;42mmkdocs-material\u001b[0m/  mkdocs.yml\n"
     ]
    }
   ],
   "source": [
    "ls"
   ]
  },
  {
   "cell_type": "code",
   "execution_count": null,
   "id": "e54039af-a257-4cb7-aaa9-4350f2ee1b64",
   "metadata": {},
   "outputs": [],
   "source": []
  }
 ],
 "metadata": {
  "kernelspec": {
   "display_name": "Python 3 (ipykernel)",
   "language": "python",
   "name": "python3"
  },
  "language_info": {
   "codemirror_mode": {
    "name": "ipython",
    "version": 3
   },
   "file_extension": ".py",
   "mimetype": "text/x-python",
   "name": "python",
   "nbconvert_exporter": "python",
   "pygments_lexer": "ipython3",
   "version": "3.10.13"
  }
 },
 "nbformat": 4,
 "nbformat_minor": 5
}
