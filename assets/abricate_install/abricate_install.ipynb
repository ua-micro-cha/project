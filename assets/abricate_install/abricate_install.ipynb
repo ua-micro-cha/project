{
 "cells": [
  {
   "cell_type": "markdown",
   "id": "cd89175d",
   "metadata": {},
   "source": [
    "- https://apptainer.org/docs/user/latest/\n",
    "- https://biocontainers.pro/tools/abricate\n",
    "- https://github.com/tseemann/abricate\n",
    "- https://biocontainers-edu.readthedocs.io/en/latest/index.html\n",
    "- https://hpcdocs.hpc.arizona.edu/events/workshop_materials/intro_to_containers/\n",
    "- https://hpcdocs.hpc.arizona.edu/software/containers/building_containers/#bootstrapping-off-a-local-image"
   ]
  },
  {
   "cell_type": "code",
   "execution_count": null,
   "id": "115a76b3",
   "metadata": {},
   "outputs": [],
   "source": [
    "# Update 'cache directory' location if needed\n",
    "# - https://hpcdocs.hpc.arizona.edu/software/containers/containers_on_hpc/#sharing-your-containers\n",
    "export APPTAINER_CACHEDIR=/xdisk/kcooper/caparicio/.apptainer"
   ]
  },
  {
   "cell_type": "code",
   "execution_count": 1,
   "id": "97d286b9",
   "metadata": {},
   "outputs": [
    {
     "name": "stdout",
     "output_type": "stream",
     "text": [
      "apptainer version 1.3.0-1.el7\n"
     ]
    }
   ],
   "source": [
    "# Refresh until Apptainer is loaded\n",
    "apptainer --version"
   ]
  },
  {
   "cell_type": "raw",
   "id": "6de670f4",
   "metadata": {},
   "source": [
    "### Create container"
   ]
  },
  {
   "cell_type": "markdown",
   "id": "1bca7e7d",
   "metadata": {},
   "source": [
    "```\n",
    "Bootstrap: docker\n",
    "From: quay.io/biocontainers/abricate:1.0.1--ha8f3691_2\n",
    "\n",
    "%post\n",
    "    # Set the installation directory\n",
    "    export INSTALL_DIR=/xdisk/kcooper/caparici/tree-fruit/08abricate\n",
    "    \n",
    "    # Update the package lists and install necessary packages\n",
    "    apt-get update && apt-get install -y \\\n",
    "        bioperl \\\n",
    "        gzip \\\n",
    "        libjson-perl \\\n",
    "        liblwp-protocol-https-perl \\\n",
    "        libpath-tiny-perl \\\n",
    "        libtext-csv-perl \\\n",
    "        libwww-perl \\\n",
    "        ncbi-blast+ \\\n",
    "        unzip \\\n",
    "        wget \\\n",
    "        git && \\\n",
    "    apt-get clean && \\\n",
    "    rm -rf /var/lib/apt/lists/* /tmp/* /var/tmp/*\n",
    "\n",
    "    # Clone abricate repository and set up the database\n",
    "    git clone https://github.com/tseemann/abricate.git $INSTALL_DIR/abricate && \\\n",
    "    cd $INSTALL_DIR/abricate && \\\n",
    "    ./bin/abricate --setupdb\n",
    "\n",
    "%runscript\n",
    "    # Run abricate with passed arguments\n",
    "    $INSTALL_DIR/abricate/bin/abricate \"$@\"\n",
    "```"
   ]
  },
  {
   "cell_type": "code",
   "execution_count": 8,
   "id": "6d8c9d01",
   "metadata": {},
   "outputs": [
    {
     "name": "stdout",
     "output_type": "stream",
     "text": [
      "/xdisk/kcooper/caparicio/tree-fruit/08abricate\n"
     ]
    }
   ],
   "source": [
    "# Confirm working directory \n",
    "pwd"
   ]
  },
  {
   "cell_type": "code",
   "execution_count": 11,
   "id": "af0ca157",
   "metadata": {},
   "outputs": [],
   "source": [
    "# Rid hidden and unexpected characters from file\n",
    "sed -i 's/\\xC2\\xA0/ /g' abricate1_0_1.def"
   ]
  },
  {
   "cell_type": "code",
   "execution_count": 12,
   "id": "e69f4f7f",
   "metadata": {},
   "outputs": [
    {
     "name": "stdout",
     "output_type": "stream",
     "text": [
      "\u001b[34mINFO:   \u001b[0m User not listed in /etc/subuid, trying root-mapped namespace\n",
      "\u001b[34mINFO:   \u001b[0m The %post section will be run under fakeroot\n",
      "\u001b[34mINFO:   \u001b[0m Starting build...\n",
      "Getting image source signatures\n",
      "Copying blob 642efca944a0 skipped: already exists  \n",
      "Copying blob bd9ddc54bea9 skipped: already exists  \n",
      "Copying blob b73c64b9592d skipped: already exists  \n",
      "\u001b[3A\u001b[JCopying blob 642efca944a0 skipped: already exists  \n",
      "Copying blob bd9ddc54bea9 skipped: already exists  \n",
      "Copying blob b73c64b9592d skipped: already exists  \n",
      "\u001b[3A\u001b[JCopying blob 642efca944a0 skipped: already exists  \n",
      "Copying blob bd9ddc54bea9 skipped: already exists  \n",
      "Copying blob b73c64b9592d skipped: already exists  \n",
      "Copying config 218f0ed75e done   | \n",
      "\u001b[1A\u001b[JCopying config 218f0ed75e done   | \n",
      "\u001b[1A\u001b[JCopying config 218f0ed75e done   | \n",
      "\u001b[1A\u001b[JCopying config 218f0ed75e done   | \n",
      "Writing manifest to image destination\n",
      "2024/07/19 02:29:12  info unpack layer: sha256:642efca944a099a40fb3c07af9503df633650ab4299bba89f04e2106bfe2d85e\n",
      "2024/07/19 02:29:12  info unpack layer: sha256:bd9ddc54bea929a22b334e73e026d4136e5b73f5cc29942896c72e4ece69b13d\n",
      "2024/07/19 02:29:12  info unpack layer: sha256:b73c64b9592d11f14d1241eb2566518db1a2bc17063d99f12b3a8c5b83fb273b\n",
      "\u001b[34mINFO:   \u001b[0m Running post scriptlet\n",
      "+ export INSTALL_DIR=/xdisk/kcooper/caparici/tree-fruit/08abricate\n",
      "+ INSTALL_DIR=/xdisk/kcooper/caparici/tree-fruit/08abricate\n",
      "+ apt-get update\n",
      "/.post.script: line 5: apt-get: command not found\n",
      "+ git clone https://github.com/tseemann/abricate.git /xdisk/kcooper/caparici/tree-fruit/08abricate/abricate\n",
      "Cloning into '/xdisk/kcooper/caparici/tree-fruit/08abricate/abricate'...\n",
      "remote: Enumerating objects: 1235, done.        \n",
      "remote: Counting objects: 100% (244/244), done.        \n",
      "remote: Compressing objects: 100% (40/40), done.        \n",
      "remote: Total 1235 (delta 208), reused 204 (delta 204), pack-reused 991        \n",
      "Receiving objects: 100% (1235/1235), 16.22 MiB | 13.59 MiB/s, done.\n",
      "Resolving deltas: 100% (645/645), done.\n",
      "+ cd /xdisk/kcooper/caparici/tree-fruit/08abricate/abricate\n",
      "+ ./bin/abricate --setupdb\n",
      "Removing old BLAST indices for /xdisk/kcooper/caparici/tree-fruit/08abricate/abricate/db/card/sequences\n",
      "Making nucl BLAST index for /xdisk/kcooper/caparici/tree-fruit/08abricate/abricate/db/card/sequences\n",
      "Removing old BLAST indices for /xdisk/kcooper/caparici/tree-fruit/08abricate/abricate/db/argannot/sequences\n",
      "Making nucl BLAST index for /xdisk/kcooper/caparici/tree-fruit/08abricate/abricate/db/argannot/sequences\n",
      "Removing old BLAST indices for /xdisk/kcooper/caparici/tree-fruit/08abricate/abricate/db/ecoli_vf/sequences\n",
      "Making nucl BLAST index for /xdisk/kcooper/caparici/tree-fruit/08abricate/abricate/db/ecoli_vf/sequences\n",
      "Removing old BLAST indices for /xdisk/kcooper/caparici/tree-fruit/08abricate/abricate/db/megares/sequences\n",
      "Making nucl BLAST index for /xdisk/kcooper/caparici/tree-fruit/08abricate/abricate/db/megares/sequences\n",
      "Removing old BLAST indices for /xdisk/kcooper/caparici/tree-fruit/08abricate/abricate/db/ecoh/sequences\n",
      "Making nucl BLAST index for /xdisk/kcooper/caparici/tree-fruit/08abricate/abricate/db/ecoh/sequences\n",
      "Removing old BLAST indices for /xdisk/kcooper/caparici/tree-fruit/08abricate/abricate/db/resfinder/sequences\n",
      "Making nucl BLAST index for /xdisk/kcooper/caparici/tree-fruit/08abricate/abricate/db/resfinder/sequences\n",
      "Removing old BLAST indices for /xdisk/kcooper/caparici/tree-fruit/08abricate/abricate/db/plasmidfinder/sequences\n",
      "Making nucl BLAST index for /xdisk/kcooper/caparici/tree-fruit/08abricate/abricate/db/plasmidfinder/sequences\n",
      "Removing old BLAST indices for /xdisk/kcooper/caparici/tree-fruit/08abricate/abricate/db/ncbi/sequences\n",
      "Making nucl BLAST index for /xdisk/kcooper/caparici/tree-fruit/08abricate/abricate/db/ncbi/sequences\n",
      "Removing old BLAST indices for /xdisk/kcooper/caparici/tree-fruit/08abricate/abricate/db/vfdb/sequences\n",
      "Making nucl BLAST index for /xdisk/kcooper/caparici/tree-fruit/08abricate/abricate/db/vfdb/sequences\n",
      "DATABASE\tSEQUENCES\tDBTYPE\tDATE\n",
      "card\t2631\tnucl\t2024-Jul-19\n",
      "argannot\t2223\tnucl\t2024-Jul-19\n",
      "ecoli_vf\t2701\tnucl\t2024-Jul-19\n",
      "megares\t6635\tnucl\t2024-Jul-19\n",
      "ecoh\t597\tnucl\t2024-Jul-19\n",
      "resfinder\t3077\tnucl\t2024-Jul-19\n",
      "plasmidfinder\t460\tnucl\t2024-Jul-19\n",
      "ncbi\t5386\tnucl\t2024-Jul-19\n",
      "vfdb\t2597\tnucl\t2024-Jul-19\n",
      "\u001b[34mINFO:   \u001b[0m Adding runscript\n",
      "\u001b[34mINFO:   \u001b[0m Creating SIF file...\n",
      "\u001b[34mINFO:   \u001b[0m Build complete: abricate1_0_1.sif\n"
     ]
    }
   ],
   "source": [
    "# build container\n",
    "apptainer build abricate1_0_1.sif abricate1_0_1.def"
   ]
  },
  {
   "cell_type": "code",
   "execution_count": 13,
   "id": "4edfd41e",
   "metadata": {},
   "outputs": [
    {
     "name": "stdout",
     "output_type": "stream",
     "text": [
      "DATABASE\tSEQUENCES\tDBTYPE\tDATE\n",
      "ecoh\t597\tnucl\t2023-Nov-4\n",
      "vfdb\t2597\tnucl\t2023-Nov-4\n",
      "argannot\t2223\tnucl\t2023-Nov-4\n",
      "ecoli_vf\t2701\tnucl\t2023-Nov-4\n",
      "card\t2631\tnucl\t2023-Nov-4\n",
      "ncbi\t5386\tnucl\t2023-Nov-4\n",
      "megares\t6635\tnucl\t2023-Nov-4\n",
      "plasmidfinder\t460\tnucl\t2023-Nov-4\n",
      "resfinder\t3077\tnucl\t2023-Nov-4\n"
     ]
    }
   ],
   "source": [
    "# Verify database setup\n",
    "apptainer exec abricate1_0_1.sif abricate --list"
   ]
  }
 ],
 "metadata": {
  "kernelspec": {
   "display_name": "Bash",
   "language": "bash",
   "name": "bash"
  },
  "language_info": {
   "codemirror_mode": "shell",
   "file_extension": ".sh",
   "mimetype": "text/x-sh",
   "name": "bash"
  }
 },
 "nbformat": 4,
 "nbformat_minor": 5
}
