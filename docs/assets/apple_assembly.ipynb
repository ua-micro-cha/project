{
 "cells": [
  {
   "cell_type": "markdown",
   "id": "15682bda",
   "metadata": {},
   "source": [
    "### metaSPAdes Apple Assembly"
   ]
  },
  {
   "cell_type": "markdown",
   "id": "9bd378d5",
   "metadata": {},
   "source": [
    "https://ablab.github.io/spades/"
   ]
  },
  {
   "cell_type": "code",
   "execution_count": 1,
   "id": "ddc4b2b8",
   "metadata": {},
   "outputs": [],
   "source": [
    "module load spades"
   ]
  },
  {
   "cell_type": "markdown",
   "id": "e10a2b62",
   "metadata": {},
   "source": [
    "#### Change working directory"
   ]
  },
  {
   "cell_type": "code",
   "execution_count": 2,
   "id": "d8c8c7cc",
   "metadata": {},
   "outputs": [],
   "source": [
    "cd /xdisk/kcooper/caparicio/tree-fruit/"
   ]
  },
  {
   "cell_type": "markdown",
   "id": "c67f552b",
   "metadata": {},
   "source": [
    "#### Confirm directory change"
   ]
  },
  {
   "cell_type": "code",
   "execution_count": 3,
   "id": "a4ca9c36",
   "metadata": {},
   "outputs": [
    {
     "name": "stdout",
     "output_type": "stream",
     "text": [
      "/xdisk/kcooper/caparicio/tree-fruit\n"
     ]
    }
   ],
   "source": [
    "pwd"
   ]
  },
  {
   "cell_type": "markdown",
   "id": "8f21e07e",
   "metadata": {},
   "source": [
    "#### To test-run the FIRST SAMPLE, run this code"
   ]
  },
  {
   "cell_type": "code",
   "execution_count": null,
   "id": "a5da5dc8",
   "metadata": {},
   "outputs": [],
   "source": [
    "spades.py --meta \\\n",
    "-1 01c_fastp_reads/apples313_1.trimmed.fastq \\\n",
    "-2 01c_fastp_reads/apples313_2.trimmed.fastq \\\n",
    "-k 21,33,55,77 \\\n",
    "-o 02_assembly/apples313"
   ]
  },
  {
   "cell_type": "markdown",
   "id": "5055f47f",
   "metadata": {},
   "source": [
    "#### If the above ran normally, run the following to PROCESS REMAINING"
   ]
  },
  {
   "cell_type": "code",
   "execution_count": null,
   "id": "8edfa623",
   "metadata": {},
   "outputs": [
    {
     "name": "stdout",
     "output_type": "stream",
     "text": [
      "Output directory 02_assembly/apples313 is not empty. Cleaning up...\n",
      "Starting new SPAdes assembly in 02_assembly/apples313\n",
      "Running command: spades.py --meta -k 21,33,55,77 -o 02_assembly/apples313 --tmp-dir 02_assembly/apples313/tmp -1 01c_fastp_reads/apples313_1.trimmed.fastq -2 01c_fastp_reads/apples313_2.trimmed.fastq\n",
      "\n",
      "\n",
      "== Warning ==  output dir is not empty! Please, clean output directory before run.\n",
      "\n",
      "\n",
      "Command line: /opt/ohpc/pub/apps/spades/3.15.5/bin/spades.py\t--meta\t-k\t21,33,55,77\t-o\t/xdisk/kcooper/caparicio/tree-fruit/02_assembly/apples313\t--tmp-dir\t/xdisk/kcooper/caparicio/tree-fruit/02_assembly/apples313/tmp\t-1\t/xdisk/kcooper/caparicio/tree-fruit/01c_fastp_reads/apples313_1.trimmed.fastq\t-2\t/xdisk/kcooper/caparicio/tree-fruit/01c_fastp_reads/apples313_2.trimmed.fastq\t\n",
      "\n",
      "System information:\n",
      "  SPAdes version: 3.15.5\n",
      "  Python version: 2.7.5\n",
      "  OS: Linux-3.10.0-1160.108.1.el7.x86_64-x86_64-with-centos-7.9.2009-Core\n",
      "\n",
      "Output dir: /xdisk/kcooper/caparicio/tree-fruit/02_assembly/apples313\n",
      "Mode: read error correction and assembling\n",
      "Debug mode is turned OFF\n",
      "\n",
      "Dataset parameters:\n",
      "  Metagenomic mode\n",
      "  Reads:\n",
      "    Library number: 1, library type: paired-end\n",
      "      orientation: fr\n",
      "      left reads: ['/xdisk/kcooper/caparicio/tree-fruit/01c_fastp_reads/apples313_1.trimmed.fastq']\n",
      "      right reads: ['/xdisk/kcooper/caparicio/tree-fruit/01c_fastp_reads/apples313_2.trimmed.fastq']\n",
      "      interlaced reads: not specified\n",
      "      single reads: not specified\n",
      "      merged reads: not specified\n",
      "Read error correction parameters:\n",
      "  Iterations: 1\n",
      "  PHRED offset will be auto-detected\n",
      "  Corrected reads will be compressed\n",
      "Assembly parameters:\n",
      "  k: [21, 33, 55, 77]\n",
      "  Repeat resolution is enabled\n",
      "  Mismatch careful mode is turned OFF\n",
      "  MismatchCorrector will be SKIPPED\n",
      "  Coverage cutoff is turned OFF\n",
      "Other parameters:\n",
      "  Dir for temp files: /xdisk/kcooper/caparicio/tree-fruit/02_assembly/apples313/tmp\n",
      "  Threads: 16\n",
      "  Memory limit (in Gb): 250\n",
      "\n",
      "\n",
      "======= SPAdes pipeline started. Log can be found here: /xdisk/kcooper/caparicio/tree-fruit/02_assembly/apples313/spades.log\n",
      "\n",
      "/xdisk/kcooper/caparicio/tree-fruit/01c_fastp_reads/apples313_2.trimmed.fastq: max reads length: 151\n",
      "/xdisk/kcooper/caparicio/tree-fruit/01c_fastp_reads/apples313_1.trimmed.fastq: max reads length: 151\n",
      "\n",
      "Reads length: 151\n",
      "\n",
      "\n",
      "===== Before start started. \n",
      "\n",
      "\n",
      "===== Read error correction started. \n",
      "\n",
      "\n",
      "===== Read error correction started. \n",
      "\n",
      "\n",
      "== Running: /opt/ohpc/pub/apps/spades/3.15.5/bin/spades-hammer /xdisk/kcooper/caparicio/tree-fruit/02_assembly/apples313/corrected/configs/config.info\n",
      "\n",
      "  0:00:00.000     1M / 11M   INFO    General                 (main.cpp                  :  75)   Starting BayesHammer, built from refs/heads/spades_3.15.5, git revision e757b8216f9a038fb616e9551a2d4891b2d19ad7\n",
      "  0:00:00.000     1M / 11M   INFO    General                 (main.cpp                  :  76)   Loading config from /xdisk/kcooper/caparicio/tree-fruit/02_assembly/apples313/corrected/configs/config.info\n",
      "  0:00:00.000     1M / 11M   INFO    General                 (main.cpp                  :  78)   Maximum # of threads to use (adjusted due to OMP capabilities): 1\n",
      "  0:00:00.000     1M / 11M   INFO    General                 (memory_limit.cpp          :  54)   Memory limit set to 250 Gb\n",
      "  0:00:00.000     1M / 11M   INFO    General                 (main.cpp                  :  86)   Trying to determine PHRED offset\n",
      "  0:00:00.001     1M / 11M   INFO    General                 (main.cpp                  :  92)   Determined value is 33\n",
      "  0:00:00.001     1M / 11M   INFO    General                 (hammer_tools.cpp          :  38)   Hamming graph threshold tau=1, k=21, subkmer positions = [ 0 10 ]\n",
      "  0:00:00.001     1M / 11M   INFO    General                 (main.cpp                  : 113)   Size of aux. kmer data 24 bytes\n",
      "     === ITERATION 0 begins ===\n",
      "  0:00:00.001     1M / 11M   INFO   K-mer Counting           (kmer_data.cpp             : 283)   Estimating k-mer count\n",
      "  0:00:00.002    17M / 22M   INFO   K-mer Counting           (kmer_data.cpp             : 288)   Processing /xdisk/kcooper/caparicio/tree-fruit/01c_fastp_reads/apples313_1.trimmed.fastq\n",
      "  0:03:16.986    17M / 22M   INFO   K-mer Counting           (kmer_data.cpp             : 297)   Processed 28653761 reads\n",
      "  0:03:16.987    17M / 22M   INFO   K-mer Counting           (kmer_data.cpp             : 288)   Processing /xdisk/kcooper/caparicio/tree-fruit/01c_fastp_reads/apples313_2.trimmed.fastq\n",
      "  0:06:31.610    17M / 22M   INFO   K-mer Counting           (kmer_data.cpp             : 297)   Processed 57307522 reads\n",
      "  0:06:31.610    17M / 22M   INFO   K-mer Counting           (kmer_data.cpp             : 302)   Total 57307522 reads processed\n",
      "  0:06:31.814    17M / 22M   INFO   K-mer Counting           (kmer_data.cpp             : 305)   Estimated 4932016594 distinct kmers\n",
      "  0:06:31.814     1M / 22M   INFO   K-mer Counting           (kmer_data.cpp             : 309)   Filtering singleton k-mers\n",
      "  0:06:31.815    21G / 21G   INFO   K-mer Counting           (kmer_data.cpp             : 315)   Processing /xdisk/kcooper/caparicio/tree-fruit/01c_fastp_reads/apples313_1.trimmed.fastq\n",
      "  0:25:20.093    21G / 21G   INFO   K-mer Counting           (kmer_data.cpp             : 324)   Processed 28653761 reads\n",
      "  0:25:20.093    21G / 21G   INFO   K-mer Counting           (kmer_data.cpp             : 315)   Processing /xdisk/kcooper/caparicio/tree-fruit/01c_fastp_reads/apples313_2.trimmed.fastq\n",
      "  0:46:16.665    21G / 21G   INFO   K-mer Counting           (kmer_data.cpp             : 324)   Processed 57307522 reads\n",
      "  0:46:16.665    21G / 21G   INFO   K-mer Counting           (kmer_data.cpp             : 329)   Total 57307522 reads processed\n",
      "  0:46:16.678    21G / 21G   INFO    General                 (kmer_index_builder.hpp    : 243)   Splitting kmer instances into 16 files using 1 threads. This might take a while.\n",
      "  0:46:16.681    21G / 21G   INFO    General                 (file_limit.hpp            :  42)   Open file limit set to 4096\n",
      "  0:46:16.681    21G / 21G   INFO    General                 (kmer_splitter.hpp         :  93)   Memory available for splitting buffers: 76.5764 Gb\n",
      "  0:46:16.681    21G / 21G   INFO    General                 (kmer_splitter.hpp         : 101)   Using cell size of 4194304\n",
      "  0:46:16.684    21G / 21G   INFO   K-mer Splitting          (kmer_data.cpp             :  97)   Processing /xdisk/kcooper/caparicio/tree-fruit/01c_fastp_reads/apples313_1.trimmed.fastq\n",
      "  0:46:34.887    21G / 21G   INFO   K-mer Splitting          (kmer_data.cpp             : 107)   Processed 403106 reads\n",
      "  0:46:52.600    21G / 21G   INFO   K-mer Splitting          (kmer_data.cpp             : 107)   Processed 802484 reads\n",
      "  0:47:10.038    21G / 21G   INFO   K-mer Splitting          (kmer_data.cpp             : 107)   Processed 1200821 reads\n",
      "  0:47:27.633    21G / 21G   INFO   K-mer Splitting          (kmer_data.cpp             : 107)   Processed 1599026 reads\n",
      "  0:47:45.154    21G / 21G   INFO   K-mer Splitting          (kmer_data.cpp             : 107)   Processed 1995697 reads\n",
      "  0:48:02.988    21G / 21G   INFO   K-mer Splitting          (kmer_data.cpp             : 107)   Processed 2393613 reads\n",
      "  0:48:20.844    21G / 21G   INFO   K-mer Splitting          (kmer_data.cpp             : 107)   Processed 2792480 reads\n",
      "  0:49:31.350    21G / 21G   INFO   K-mer Splitting          (kmer_data.cpp             : 107)   Processed 4377129 reads\n",
      "  0:52:43.500    21G / 21G   INFO   K-mer Splitting          (kmer_data.cpp             : 107)   Processed 8749981 reads\n",
      "  0:59:07.493    21G / 21G   INFO   K-mer Splitting          (kmer_data.cpp             : 107)   Processed 17127272 reads\n",
      "  1:08:28.336    21G / 21G   INFO   K-mer Splitting          (kmer_data.cpp             :  97)   Processing /xdisk/kcooper/caparicio/tree-fruit/01c_fastp_reads/apples313_2.trimmed.fastq\n",
      "  1:12:16.324    21G / 21G   INFO   K-mer Splitting          (kmer_data.cpp             : 107)   Processed 33831025 reads\n",
      "  1:30:37.786    21G / 21G   INFO   K-mer Splitting          (kmer_data.cpp             : 112)   Total 57307522 reads processed\n",
      "  1:30:37.786    21G / 21G   INFO    General                 (kmer_index_builder.hpp    : 249)   Starting k-mer counting.\n",
      "  1:42:24.091    21G / 25G   INFO    General                 (kmer_index_builder.hpp    : 260)   K-mer counting done. There are 2753296398 kmers in total.\n",
      "  1:42:24.159    18M / 25G   INFO   K-mer Index Building     (kmer_index_builder.hpp    : 395)   Building perfect hash indices\n",
      "  1:56:30.171  1987M / 25G   INFO   K-mer Index Building     (kmer_index_builder.hpp    : 431)   Index built. Total 2753296398 kmers, 1988618936 bytes occupied (5.77815 bits per kmer).\n",
      "  1:56:30.171  1987M / 25G   INFO   K-mer Counting           (kmer_data.cpp             : 354)   Arranging kmers in hash map order\n",
      "  2:06:07.236    43G / 44G   INFO    General                 (main.cpp                  : 148)   Clustering Hamming graph.\n"
     ]
    }
   ],
   "source": [
    "files1=(01c_fastp_reads/*apples*_1.trimmed.fastq)\n",
    "\n",
    "for f1 in \"${files1[@]}\"; do\n",
    "    f2=\"${f1/_1.trimmed.fastq/_2.trimmed.fastq}\" # Constructs the path to the reverse read file\n",
    "    sample_name=$(basename \"$f1\" \"_1.trimmed.fastq\") # Extracts the sample name\n",
    "    output_dir=\"02_assembly/${sample_name}\" # Specifies the output directory based on the sample name\n",
    "\n",
    "    # Ensure a clean start by checking and cleaning any previous run data in the output directory\n",
    "    if [ \"$(ls -A $output_dir)\" ]; then\n",
    "        echo \"Output directory $output_dir is not empty. Cleaning up...\"\n",
    "        rm -rf ${output_dir:?}/{,.[!.],..?}* # This attempts to remove all files, including hidden ones\n",
    "        # Verify clean-up success\n",
    "        if [ \"$(ls -A $output_dir)\" ]; then\n",
    "            echo \"Failed to clean the directory, attempting again...\"\n",
    "            rm -rf ${output_dir:?}/{,.[!.],..?}*\n",
    "            # Final verification\n",
    "            if [ \"$(ls -A $output_dir)\" ]; then\n",
    "                echo \"Critical error: Output directory $output_dir cannot be cleaned.\"\n",
    "                exit 1 # Exit if still not clean to prevent SPAdes error\n",
    "            fi\n",
    "        fi\n",
    "    else\n",
    "        echo \"Creating output directory $output_dir\"\n",
    "        mkdir -p \"$output_dir\"\n",
    "    fi\n",
    "    \n",
    "    # Move or backup the old log file if not resuming\n",
    "    if [ -f \"${output_dir}/spades_apple.log\" ]; then\n",
    "        mv \"${output_dir}/spades_apple.log\" \"${output_dir}/spades_apple.log.backup\"\n",
    "    fi\n",
    "\n",
    "    # Creates the temporary directory only after successful cleaning verification\n",
    "    mkdir -p \"${output_dir}/tmp\" \n",
    "    temp_dir=\"${output_dir}/tmp\" # Specifies a temporary directory for SPAdes processing within the output directory\n",
    "\n",
    "    # Construct the initial SPAdes command\n",
    "    cmd=\"spades.py --meta -k 21,33,55,77 -o $output_dir --tmp-dir $temp_dir -1 $f1 -2 $f2\"\n",
    "    \n",
    "    # If a previous SPAdes log exists, modify the command to resume from the last checkpoint\n",
    "    if [ -f \"${output_dir}/spades_apple.log\" ]; then\n",
    "        echo \"Attempting to resume SPAdes assembly in $output_dir\"\n",
    "        cmd=\"spades.py -o $output_dir --restart-from last\"\n",
    "    else\n",
    "        echo \"Starting new SPAdes assembly in $output_dir\"\n",
    "    fi\n",
    "    \n",
    "    echo \"Running command: $cmd\"\n",
    "    eval $cmd\n",
    "    \n",
    "    # Check for successful completion and clean up temporary files\n",
    "    if [ -f \"${output_dir}/contigs.fasta\" ]; then\n",
    "        echo \"Assembly completed successfully for $sample_name. Cleaning up temporary files.\"\n",
    "        rm -rf \"$temp_dir\"\n",
    "    else\n",
    "        echo \"Assembly incomplete or failed for $sample_name. Temporary files retained for troubleshooting.\"\n",
    "    fi\n",
    "done"
   ]
  }
 ],
 "metadata": {
  "kernelspec": {
   "display_name": "Bash",
   "language": "bash",
   "name": "bash"
  },
  "language_info": {
   "codemirror_mode": "shell",
   "file_extension": ".sh",
   "mimetype": "text/x-sh",
   "name": "bash"
  }
 },
 "nbformat": 4,
 "nbformat_minor": 5
}
