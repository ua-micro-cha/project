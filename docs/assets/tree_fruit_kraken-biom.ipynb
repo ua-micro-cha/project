{
 "cells": [
  {
   "cell_type": "markdown",
   "id": "04997c3e",
   "metadata": {},
   "source": [
    "# Fruit Tree kraken-biom"
   ]
  },
  {
   "cell_type": "markdown",
   "id": "67d23038",
   "metadata": {},
   "source": [
    "## Install the Jupyter 'h5py' custom kernel in an Interactive Terminal Session\n",
    "\n",
    "- Python Modules https://hpcdocs.static.arizona.edu/software/popular_software/python\n",
    "- Open On Demand-Jupyter https://uarizona.atlassian.net/wiki/x/bIaHB\n",
    "- Using Python & Python Packages https://uarizona.atlassian.net/wiki/x/N4eHB\n",
    "- HPC Containers https://uarizona.atlassian.net/wiki/x/QoaHB"
   ]
  },
  {
   "cell_type": "code",
   "execution_count": null,
   "id": "24ffcded",
   "metadata": {},
   "outputs": [],
   "source": [
    "The following Python command `python3 -m venv --system-site-packages /path/to/virtual/env` is used to create a new virtual environment for managing Python packages. \n",
    "\n",
    "- `python3`: Specifies which version of Python to use. \n",
    "- `-m venv`: Tells Python to use the `venv` module to create a virtual environment. The `venv` module is a built-in module that comes with Python 3 and provides support for creating lightweight \"virtual environments\" with their own site directories, isolated from system site directories if desired.\n",
    "- `--system-site-packages`: Allows the virtual environment to access packages installed system-wide and in the virtual environment. By default, a virtual environment is isolated and cannot access packages.\n",
    "- `/path/to/virtual/env`: Directory where the virtual environment is created."
   ]
  },
  {
   "cell_type": "markdown",
   "id": "1ee261de",
   "metadata": {},
   "source": [
    "### In the interactive terminal:"
   ]
  },
  {
   "cell_type": "code",
   "execution_count": null,
   "id": "c32e60ad",
   "metadata": {},
   "outputs": [],
   "source": [
    "module load python"
   ]
  },
  {
   "cell_type": "markdown",
   "id": "930f9f27",
   "metadata": {},
   "source": [
    "### Create 'h5py' virtual environment"
   ]
  },
  {
   "cell_type": "code",
   "execution_count": null,
   "id": "7f5dfa96",
   "metadata": {},
   "outputs": [],
   "source": [
    "python3 -m venv --system-site-packages ~/virtual/h5py_env/ "
   ]
  },
  {
   "cell_type": "markdown",
   "id": "960d95de",
   "metadata": {},
   "source": [
    "### Activate the 'h5py_env' environment"
   ]
  },
  {
   "cell_type": "code",
   "execution_count": null,
   "id": "42914b7d",
   "metadata": {},
   "outputs": [],
   "source": [
    "source ~/virtual/h5py_env/bin/activate"
   ]
  },
  {
   "cell_type": "markdown",
   "id": "84fb47ee",
   "metadata": {},
   "source": [
    "### Update package installer for Python"
   ]
  },
  {
   "cell_type": "code",
   "execution_count": null,
   "id": "93b05ed1",
   "metadata": {},
   "outputs": [],
   "source": [
    "pip install --upgrade pip"
   ]
  },
  {
   "cell_type": "markdown",
   "id": "94b301cb",
   "metadata": {},
   "source": [
    "### Install the `h5py` package in this virtual environment:"
   ]
  },
  {
   "cell_type": "code",
   "execution_count": null,
   "id": "075b47fb",
   "metadata": {},
   "outputs": [],
   "source": [
    "pip install h5py"
   ]
  },
  {
   "cell_type": "markdown",
   "id": "7e1dd58b",
   "metadata": {},
   "source": [
    "### Install the `jupyter` package in the virtual environment"
   ]
  },
  {
   "cell_type": "code",
   "execution_count": null,
   "id": "93816240",
   "metadata": {},
   "outputs": [],
   "source": [
    "pip install jupyter --force-reinstall"
   ]
  },
  {
   "cell_type": "markdown",
   "id": "37d0be26",
   "metadata": {},
   "source": [
    "### Install the ipython kernel in the 'h5py_env' virtual environment"
   ]
  },
  {
   "cell_type": "code",
   "execution_count": null,
   "id": "ee923f81",
   "metadata": {},
   "outputs": [],
   "source": [
    "ipython kernel install --name h5py_env --user"
   ]
  },
  {
   "cell_type": "markdown",
   "id": "bd7c980b",
   "metadata": {},
   "source": [
    "### Create a new kernel linked to the virtual environment"
   ]
  },
  {
   "cell_type": "code",
   "execution_count": null,
   "id": "6522de93",
   "metadata": {},
   "outputs": [],
   "source": [
    "python -m ipykernel install --user --name=h5py_kernel --display-name=\"Python (h5py)\""
   ]
  },
  {
   "cell_type": "markdown",
   "id": "60151600",
   "metadata": {},
   "source": [
    "### Install `h5py` or other packages needed in this virtual environment"
   ]
  },
  {
   "cell_type": "code",
   "execution_count": null,
   "id": "9d37d0d8",
   "metadata": {},
   "outputs": [],
   "source": [
    "pip install h5py"
   ]
  },
  {
   "cell_type": "markdown",
   "id": "21d915e3",
   "metadata": {},
   "source": [
    "### Open the hidden kernel configuration file `kernel.json` which is what sets up the virtual environment at runtime"
   ]
  },
  {
   "cell_type": "code",
   "execution_count": null,
   "id": "c1641ad5",
   "metadata": {},
   "outputs": [],
   "source": [
    "$HOME/.local/share/jupyter/kernels/h5py_env/kernel.json"
   ]
  },
  {
   "cell_type": "code",
   "execution_count": null,
   "id": "7b5fa43e",
   "metadata": {},
   "outputs": [],
   "source": [
    "# - Make a note of the (1) path `</path/to/your/environment>/bin/python` and (2) <kernel_name> to use in the edited file.\n",
    "# - Replace `<your_modules_here>` with the modules you would like to load.\n",
    "# - Replace the 'kernel.json' code after the '\"argv\": [' line with the following:\n",
    "{\n",
    " \"argv\": [\n",
    " \"bash\",\n",
    " \"-c\",\n",
    " \"module load <your_modules_here> ; </path/to/your/environment>/bin/python -m ipykernel_launcher -f {connection_file}\"\n",
    " ],\n",
    " \"display_name\": \"<kernel_name>\",\n",
    " \"language\": \"python\",\n",
    " \"metadata\": {\n",
    " \"debugger\": true\n",
    " }\n",
    "}"
   ]
  },
  {
   "cell_type": "code",
   "execution_count": null,
   "id": "93340239",
   "metadata": {},
   "outputs": [],
   "source": [
    "# Example code\n",
    " \"bash\",\n",
    " \"-c\",\n",
    " \"module load python ; ~/virtual/h5py_env/bin/python3 -m ipykernel_launcher -f {connection_file}\"\n",
    " ],\n",
    " \"display_name\": \"h5py_env\",\n",
    " \"language\": \"python\",\n",
    " \"metadata\": {\n",
    " \"debugger\": true\n",
    " }\n",
    "}"
   ]
  },
  {
   "cell_type": "markdown",
   "id": "2f93680c",
   "metadata": {},
   "source": [
    "### Save the `kernel.json` file and restart the Jupyter notebook session.\n",
    "\n",
    "'Kernel' menu > 'Change kernel' > 'h5py_env'"
   ]
  },
  {
   "cell_type": "markdown",
   "id": "73572f21",
   "metadata": {},
   "source": [
    "## Run kraken-biom\n",
    "\n",
    "- kraken-biom github https://github.com/smdabdoub/kraken-biom\n",
    "- kraken-biom biocontainers https://biocontainers.pro/tools/kraken-biom\n",
    "- Pulling Docker Containers https://hpcdocs.static.arizona.edu/software/containers/pulling_containers/#pulling-docker-containers"
   ]
  },
  {
   "cell_type": "markdown",
   "id": "6a4ffed5",
   "metadata": {},
   "source": [
    "Options used:\n",
    "\n",
    "- `--kraken_reports_fp`: Input file path. ENSURE THAT THIS DIRECTORY ONLY CONTAINS 'reports.txt' FILES.*\n",
    "- `--max` and `--min`: Defines the maximum and minimum taxonomic ranks for which counts are recorded. By default, these are set to 'Order' (`O`) for `--max` and 'Species' (`S`) for `--min`. For our project, the default setting (`--max O --min S`) is useful for comprehensive microbial community analyses that require detail at the species level but also include higher taxonomic levels. This range ensures a detailed view of microbial diversity while preventing excessive granular data that may not be useful or could complicate analysis without adding informative value.\n",
    "- `--output_fp`: Specifies the output file path for the BIOM-format table.\n",
    "- `--fmt hdf5`: Phyloseq can import BIOM files using the `biomformat` package in R, which supports both BIOM 1.0 and 2.x formats. This format is advantageous due to its compact size and efficiency of handling large datasets."
   ]
  },
  {
   "cell_type": "markdown",
   "id": "35023390",
   "metadata": {},
   "source": [
    "#### Navigate to working directory"
   ]
  },
  {
   "cell_type": "code",
   "execution_count": 18,
   "id": "cb5357d8",
   "metadata": {},
   "outputs": [
    {
     "name": "stdout",
     "output_type": "stream",
     "text": [
      "/xdisk/kcooper/caparicio/tree-fruit\n"
     ]
    }
   ],
   "source": [
    "cd /xdisk/kcooper/caparicio/tree-fruit"
   ]
  },
  {
   "cell_type": "markdown",
   "id": "61f3faef",
   "metadata": {},
   "source": [
    "### *MOVE 'output.txt' files\n",
    "\n",
    "Create '04a_reads_kraken2_output' directory"
   ]
  },
  {
   "cell_type": "code",
   "execution_count": 19,
   "id": "1f5e5a61",
   "metadata": {},
   "outputs": [],
   "source": [
    "import os # Library to interact with operating system\n",
    "os.makedirs('04a_reads_kraken2_output', exist_ok=True)"
   ]
  },
  {
   "cell_type": "markdown",
   "id": "27bd75e4",
   "metadata": {},
   "source": [
    "Ensure executable permissions to move files "
   ]
  },
  {
   "cell_type": "code",
   "execution_count": 22,
   "id": "9ff6a54f",
   "metadata": {},
   "outputs": [],
   "source": [
    "import stat # Module which provides constants and functions for interpreting the results of 'os'\n",
    "\n",
    "dir_path = \"/xdisk/kcooper/caparicio/tree-fruit/04a_reads_kraken2\"\n",
    "\n",
    "# Ensure the directory path is absolute or adjust as necessary\n",
    "for filename in os.listdir(dir_path):\n",
    "    file_path = os.path.join(dir_path, filename)\n",
    "    if os.path.isfile(file_path):  # Check if it's a file\n",
    "        # Add execute permissions for owner, group, and others\n",
    "        os.chmod(file_path, os.stat(file_path).st_mode | stat.S_IXUSR | stat.S_IXGRP | stat.S_IXOTH)"
   ]
  },
  {
   "cell_type": "markdown",
   "id": "a9725aa0",
   "metadata": {},
   "source": [
    "Move 'output.txt' files from '/04a_reads_kraken2' to '/04a_reads_kraken2_output'"
   ]
  },
  {
   "cell_type": "code",
   "execution_count": 25,
   "id": "3b830938",
   "metadata": {},
   "outputs": [
    {
     "name": "stdout",
     "output_type": "stream",
     "text": [
      "Moved: k2_oranges415_output.txt to /xdisk/kcooper/caparicio/tree-fruit/04a_reads_kraken2_output\n",
      "Moved: k2_oranges368_output.txt to /xdisk/kcooper/caparicio/tree-fruit/04a_reads_kraken2_output\n",
      "Moved: k2_oranges412_output.txt to /xdisk/kcooper/caparicio/tree-fruit/04a_reads_kraken2_output\n",
      "Moved: k2_apples340_output.txt to /xdisk/kcooper/caparicio/tree-fruit/04a_reads_kraken2_output\n",
      "Moved: k2_oranges363_output.txt to /xdisk/kcooper/caparicio/tree-fruit/04a_reads_kraken2_output\n",
      "Moved: k2_peaches289_output.txt to /xdisk/kcooper/caparicio/tree-fruit/04a_reads_kraken2_output\n",
      "Moved: k2_peaches202_output.txt to /xdisk/kcooper/caparicio/tree-fruit/04a_reads_kraken2_output\n",
      "Moved: k2_oranges378_output.txt to /xdisk/kcooper/caparicio/tree-fruit/04a_reads_kraken2_output\n",
      "Moved: k2_oranges407_output.txt to /xdisk/kcooper/caparicio/tree-fruit/04a_reads_kraken2_output\n",
      "Moved: k2_apples335_output.txt to /xdisk/kcooper/caparicio/tree-fruit/04a_reads_kraken2_output\n",
      "Moved: k2_oranges422_output.txt to /xdisk/kcooper/caparicio/tree-fruit/04a_reads_kraken2_output\n",
      "Moved: k2_peaches191_output.txt to /xdisk/kcooper/caparicio/tree-fruit/04a_reads_kraken2_output\n",
      "Moved: k2_apples313_output.txt to /xdisk/kcooper/caparicio/tree-fruit/04a_reads_kraken2_output\n",
      "Moved: k2_oranges379_output.txt to /xdisk/kcooper/caparicio/tree-fruit/04a_reads_kraken2_output\n",
      "Moved: k2_oranges424_output.txt to /xdisk/kcooper/caparicio/tree-fruit/04a_reads_kraken2_output\n",
      "Moved: k2_oranges426_output.txt to /xdisk/kcooper/caparicio/tree-fruit/04a_reads_kraken2_output\n",
      "Moved: k2_oranges347_output.txt to /xdisk/kcooper/caparicio/tree-fruit/04a_reads_kraken2_output\n",
      "Moved: k2_oranges417_output.txt to /xdisk/kcooper/caparicio/tree-fruit/04a_reads_kraken2_output\n",
      "Moved: k2_oranges419_output.txt to /xdisk/kcooper/caparicio/tree-fruit/04a_reads_kraken2_output\n",
      "Moved: k2_apples322_output.txt to /xdisk/kcooper/caparicio/tree-fruit/04a_reads_kraken2_output\n",
      "Moved: k2_apples337_output.txt to /xdisk/kcooper/caparicio/tree-fruit/04a_reads_kraken2_output\n",
      "Moved: k2_oranges400_output.txt to /xdisk/kcooper/caparicio/tree-fruit/04a_reads_kraken2_output\n",
      "Moved: k2_apples341_output.txt to /xdisk/kcooper/caparicio/tree-fruit/04a_reads_kraken2_output\n",
      "Moved: k2_oranges420_output.txt to /xdisk/kcooper/caparicio/tree-fruit/04a_reads_kraken2_output\n",
      "Moved: k2_oranges369_output.txt to /xdisk/kcooper/caparicio/tree-fruit/04a_reads_kraken2_output\n",
      "Moved: k2_peaches244_output.txt to /xdisk/kcooper/caparicio/tree-fruit/04a_reads_kraken2_output\n",
      "Moved: k2_peaches204_output.txt to /xdisk/kcooper/caparicio/tree-fruit/04a_reads_kraken2_output\n",
      "Moved: k2_peaches302_output.txt to /xdisk/kcooper/caparicio/tree-fruit/04a_reads_kraken2_output\n",
      "Moved: k2_peaches253_output.txt to /xdisk/kcooper/caparicio/tree-fruit/04a_reads_kraken2_output\n",
      "Moved: k2_peaches241_output.txt to /xdisk/kcooper/caparicio/tree-fruit/04a_reads_kraken2_output\n",
      "Moved: k2_oranges367_output.txt to /xdisk/kcooper/caparicio/tree-fruit/04a_reads_kraken2_output\n",
      "Moved: k2_peaches252_output.txt to /xdisk/kcooper/caparicio/tree-fruit/04a_reads_kraken2_output\n",
      "Moved: k2_oranges409_output.txt to /xdisk/kcooper/caparicio/tree-fruit/04a_reads_kraken2_output\n",
      "Moved: k2_peaches303_output.txt to /xdisk/kcooper/caparicio/tree-fruit/04a_reads_kraken2_output\n",
      "Moved: k2_oranges410_output.txt to /xdisk/kcooper/caparicio/tree-fruit/04a_reads_kraken2_output\n",
      "Moved: k2_oranges365_output.txt to /xdisk/kcooper/caparicio/tree-fruit/04a_reads_kraken2_output\n",
      "Moved: k2_peaches263_output.txt to /xdisk/kcooper/caparicio/tree-fruit/04a_reads_kraken2_output\n",
      "Moved: k2_oranges386_output.txt to /xdisk/kcooper/caparicio/tree-fruit/04a_reads_kraken2_output\n",
      "Moved: k2_peaches304_output.txt to /xdisk/kcooper/caparicio/tree-fruit/04a_reads_kraken2_output\n",
      "Moved: k2_oranges354_output.txt to /xdisk/kcooper/caparicio/tree-fruit/04a_reads_kraken2_output\n",
      "Moved: k2_oranges373_output.txt to /xdisk/kcooper/caparicio/tree-fruit/04a_reads_kraken2_output\n",
      "Moved: k2_apples320_output.txt to /xdisk/kcooper/caparicio/tree-fruit/04a_reads_kraken2_output\n",
      "Moved: k2_oranges371_output.txt to /xdisk/kcooper/caparicio/tree-fruit/04a_reads_kraken2_output\n",
      "Moved: k2_peaches274_output.txt to /xdisk/kcooper/caparicio/tree-fruit/04a_reads_kraken2_output\n",
      "Moved: k2_oranges401_output.txt to /xdisk/kcooper/caparicio/tree-fruit/04a_reads_kraken2_output\n",
      "Moved: k2_oranges356_output.txt to /xdisk/kcooper/caparicio/tree-fruit/04a_reads_kraken2_output\n",
      "Moved: k2_peaches290_output.txt to /xdisk/kcooper/caparicio/tree-fruit/04a_reads_kraken2_output\n",
      "Moved: k2_oranges366_output.txt to /xdisk/kcooper/caparicio/tree-fruit/04a_reads_kraken2_output\n",
      "Moved: k2_oranges370_output.txt to /xdisk/kcooper/caparicio/tree-fruit/04a_reads_kraken2_output\n",
      "Moved: k2_oranges372_output.txt to /xdisk/kcooper/caparicio/tree-fruit/04a_reads_kraken2_output\n",
      "Moved: k2_peaches288_output.txt to /xdisk/kcooper/caparicio/tree-fruit/04a_reads_kraken2_output\n",
      "Moved: k2_oranges416_output.txt to /xdisk/kcooper/caparicio/tree-fruit/04a_reads_kraken2_output\n",
      "Moved: k2_peaches254_output.txt to /xdisk/kcooper/caparicio/tree-fruit/04a_reads_kraken2_output\n",
      "Moved: k2_oranges358_output.txt to /xdisk/kcooper/caparicio/tree-fruit/04a_reads_kraken2_output\n",
      "Moved: k2_peaches283_output.txt to /xdisk/kcooper/caparicio/tree-fruit/04a_reads_kraken2_output\n",
      "Moved: k2_oranges402_output.txt to /xdisk/kcooper/caparicio/tree-fruit/04a_reads_kraken2_output\n",
      "Moved: k2_apples321_output.txt to /xdisk/kcooper/caparicio/tree-fruit/04a_reads_kraken2_output\n",
      "Moved: k2_oranges425_output.txt to /xdisk/kcooper/caparicio/tree-fruit/04a_reads_kraken2_output\n",
      "Moved: k2_oranges382_output.txt to /xdisk/kcooper/caparicio/tree-fruit/04a_reads_kraken2_output\n",
      "Moved: k2_peaches262_output.txt to /xdisk/kcooper/caparicio/tree-fruit/04a_reads_kraken2_output\n",
      "Moved: k2_peaches284_output.txt to /xdisk/kcooper/caparicio/tree-fruit/04a_reads_kraken2_output\n",
      "Moved: k2_peaches279_output.txt to /xdisk/kcooper/caparicio/tree-fruit/04a_reads_kraken2_output\n",
      "Moved: k2_peaches192_output.txt to /xdisk/kcooper/caparicio/tree-fruit/04a_reads_kraken2_output\n",
      "Moved: k2_apples315_output.txt to /xdisk/kcooper/caparicio/tree-fruit/04a_reads_kraken2_output\n",
      "Moved: k2_peaches264_output.txt to /xdisk/kcooper/caparicio/tree-fruit/04a_reads_kraken2_output\n",
      "Moved: k2_oranges418_output.txt to /xdisk/kcooper/caparicio/tree-fruit/04a_reads_kraken2_output\n",
      "Moved: k2_oranges421_output.txt to /xdisk/kcooper/caparicio/tree-fruit/04a_reads_kraken2_output\n",
      "Moved: k2_oranges427_output.txt to /xdisk/kcooper/caparicio/tree-fruit/04a_reads_kraken2_output\n",
      "Moved: k2_oranges403_output.txt to /xdisk/kcooper/caparicio/tree-fruit/04a_reads_kraken2_output\n",
      "Moved: k2_peaches203_output.txt to /xdisk/kcooper/caparicio/tree-fruit/04a_reads_kraken2_output\n",
      "Moved: k2_peaches273_output.txt to /xdisk/kcooper/caparicio/tree-fruit/04a_reads_kraken2_output\n",
      "Moved: k2_oranges364_output.txt to /xdisk/kcooper/caparicio/tree-fruit/04a_reads_kraken2_output\n",
      "Moved: k2_apples338_output.txt to /xdisk/kcooper/caparicio/tree-fruit/04a_reads_kraken2_output\n",
      "Moved: k2_peaches205_output.txt to /xdisk/kcooper/caparicio/tree-fruit/04a_reads_kraken2_output\n",
      "Moved: k2_peaches234_output.txt to /xdisk/kcooper/caparicio/tree-fruit/04a_reads_kraken2_output\n"
     ]
    }
   ],
   "source": [
    "import shutil  # Shell utilities module\n",
    "\n",
    "source_dir = \"/xdisk/kcooper/caparicio/tree-fruit/04a_reads_kraken2\"\n",
    "target_dir = \"/xdisk/kcooper/caparicio/tree-fruit/04a_reads_kraken2_output\"\n",
    "\n",
    "# Iterate through files in the source directory\n",
    "for filename in os.listdir(source_dir):\n",
    "    if filename.endswith('output.txt'):  # Check if the file ends with 'output.txt'\n",
    "        source_path = os.path.join(source_dir, filename)\n",
    "        target_path = os.path.join(target_dir, filename)\n",
    "        \n",
    "        # Move the file\n",
    "        shutil.move(source_path, target_path)\n",
    "        print(f\"Moved: {filename} to {target_dir}\")"
   ]
  },
  {
   "cell_type": "markdown",
   "id": "ac861ef0",
   "metadata": {},
   "source": [
    "### Pull the latest kraken-biom container image"
   ]
  },
  {
   "cell_type": "code",
   "execution_count": 4,
   "id": "67b22715",
   "metadata": {},
   "outputs": [
    {
     "name": "stderr",
     "output_type": "stream",
     "text": [
      "INFO:    Converting OCI blobs to SIF format\n",
      "INFO:    Starting build...\n",
      "Getting image source signatures\n",
      "Copying blob sha256:581f44a8dfce1bf79f4da15b1397143379bf83612ad2a68f417a2e8e9f9bbcdd\n",
      "Copying blob sha256:c1a16a04cedd950c541fa85e64b62b17eb3b73a7f7e29ea3db23dc9b83dfcade\n",
      "Copying blob sha256:4ca545ee6d5db5c1170386eeb39b2ffe3bd46e5d4a73a9acbebc805f19607eb3\n",
      "Copying config sha256:f2b8ab953b50f8d8932f214ab7c5cd9208cc8e2a1365bfd0556de6a2cb7a51f8\n",
      "Writing manifest to image destination\n",
      "2024/05/08 11:28:52  info unpack layer: sha256:c1a16a04cedd950c541fa85e64b62b17eb3b73a7f7e29ea3db23dc9b83dfcade\n",
      "2024/05/08 11:28:52  info unpack layer: sha256:4ca545ee6d5db5c1170386eeb39b2ffe3bd46e5d4a73a9acbebc805f19607eb3\n",
      "2024/05/08 11:28:52  info unpack layer: sha256:581f44a8dfce1bf79f4da15b1397143379bf83612ad2a68f417a2e8e9f9bbcdd\n",
      "INFO:    Creating SIF file...\n"
     ]
    }
   ],
   "source": [
    "%%bash\n",
    "apptainer pull --name kraken-biom.sif docker://quay.io/biocontainers/kraken-biom:1.2.0--pyh5e36f6f_0"
   ]
  },
  {
   "cell_type": "markdown",
   "id": "d3c26dd6",
   "metadata": {},
   "source": [
    "### Run kraken-biom using the pulled container"
   ]
  },
  {
   "cell_type": "code",
   "execution_count": 27,
   "id": "4557852c",
   "metadata": {},
   "outputs": [
    {
     "name": "stdout",
     "output_type": "stream",
     "text": [
      "BIOM file was successfully produced: 05_kraken-biom/tree-fruit_reads.biom\n"
     ]
    }
   ],
   "source": [
    "%%bash\n",
    "apptainer exec kraken-biom.sif kraken-biom \\\n",
    "  --kraken_reports_fp 04a_reads_kraken2/ \\\n",
    "  --output_fp 05_kraken-biom/tree-fruit_reads.biom \\\n",
    "  --max O --min S --fmt hdf5\n",
    "\n",
    "# Check if the file was created and echo a confirmation\n",
    "if [ -f \"05_kraken-biom/tree-fruit_reads.biom\" ]; then\n",
    "    echo \"BIOM file was successfully produced: 05_kraken-biom/tree-fruit_reads.biom\"\n",
    "else\n",
    "    echo \"Failed to produce BIOM file.\"\n",
    "fi  "
   ]
  }
 ],
 "metadata": {
  "kernelspec": {
   "display_name": "h5py_env",
   "language": "python",
   "name": "h5py_env"
  },
  "language_info": {
   "codemirror_mode": {
    "name": "ipython",
    "version": 3
   },
   "file_extension": ".py",
   "mimetype": "text/x-python",
   "name": "python",
   "nbconvert_exporter": "python",
   "pygments_lexer": "ipython3",
   "version": "3.11.4"
  }
 },
 "nbformat": 4,
 "nbformat_minor": 5
}
