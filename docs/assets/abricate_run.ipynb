{
 "cells": [
  {
   "cell_type": "markdown",
   "id": "6981a69d",
   "metadata": {},
   "source": [
    "https://apptainer.org/docs/user/latest/\n",
    "https://github.com/tseemann/abricate\n",
    "https://hpcdocs.hpc.arizona.edu/software/containers/using_containers/\n",
    "\n",
    "Run Time = 24 ; Core count on a single node = 35 ; Memory per core = 5"
   ]
  },
  {
   "cell_type": "code",
   "execution_count": 2,
   "id": "7f2efdd6",
   "metadata": {},
   "outputs": [
    {
     "name": "stdout",
     "output_type": "stream",
     "text": [
      "apptainer version 1.3.0-1.el7\r\n"
     ]
    }
   ],
   "source": [
    "# Refresh until Apptainer is loaded\n",
    "!apptainer --version"
   ]
  },
  {
   "cell_type": "code",
   "execution_count": 3,
   "id": "1cb826da",
   "metadata": {},
   "outputs": [],
   "source": [
    "# Chunk 1: Import necessary libraries\n",
    "import os\n",
    "from concurrent.futures import ThreadPoolExecutor, as_completed"
   ]
  },
  {
   "cell_type": "code",
   "execution_count": 4,
   "id": "13ea4c21",
   "metadata": {},
   "outputs": [],
   "source": [
    "# Chunk 2: Define a function to list all .fasta files\n",
    "def list_fasta_files(directory):\n",
    "    return [os.path.join(directory, f) for f in os.listdir(directory) if f.endswith('.fasta')]"
   ]
  },
  {
   "cell_type": "code",
   "execution_count": 5,
   "id": "63b75437",
   "metadata": {},
   "outputs": [],
   "source": [
    "# Chunk 3: Define a function to run abricate on a single file for all databases\n",
    "def run_abricate(file_path):\n",
    "    databases = ['ncbi', 'card', 'resfinder', 'argannot', 'megares', 'vfdb']\n",
    "    for db in databases:\n",
    "        output_file = f\"{file_path}_{db}.tab\"\n",
    "        command = f\"apptainer exec abricate.sif abricate --db {db} {file_path} > {output_file}\"\n",
    "        os.system(command)"
   ]
  },
  {
   "cell_type": "code",
   "execution_count": 6,
   "id": "139c5cd9",
   "metadata": {},
   "outputs": [],
   "source": [
    "# Chunk 4: Main processing logic using ThreadPoolExecutor\n",
    "def process_files_in_parallel(file_paths):\n",
    "    with ThreadPoolExecutor(max_workers=4) as executor:\n",
    "        future_to_file = {executor.submit(run_abricate, file_path): file_path for file_path in file_paths}\n",
    "        for future in as_completed(future_to_file):\n",
    "            file_path = future_to_file[future]\n",
    "            try:\n",
    "                future.result()\n",
    "                print(f\"Processing completed for {file_path}\")\n",
    "            except Exception as exc:\n",
    "                print(f\"Error for {file_path}: {exc}\")"
   ]
  },
  {
   "cell_type": "code",
   "execution_count": 7,
   "id": "8488e2d0",
   "metadata": {},
   "outputs": [],
   "source": [
    "# Chunk 5: Main function to orchestrate the processing\n",
    "def main(directory):\n",
    "    fasta_files = list_fasta_files(directory)\n",
    "    process_files_in_parallel(fasta_files)"
   ]
  },
  {
   "cell_type": "code",
   "execution_count": 8,
   "id": "96103967",
   "metadata": {},
   "outputs": [
    {
     "name": "stderr",
     "output_type": "stream",
     "text": [
      "Using nucl database ncbi:  5386 sequences -  2023-Nov-4\n",
      "Processing: /xdisk/kcooper/caparicio/tree-fruit/08abricate/peach192_contig.fasta\n",
      "Using nucl database ncbi:  5386 sequences -  2023-Nov-4\n",
      "Processing: /xdisk/kcooper/caparicio/tree-fruit/08abricate/apple338_contig.fasta\n",
      "Using nucl database ncbi:  5386 sequences -  2023-Nov-4\n",
      "Processing: /xdisk/kcooper/caparicio/tree-fruit/08abricate/peach304_contig.fasta\n",
      "Using nucl database ncbi:  5386 sequences -  2023-Nov-4\n",
      "Processing: /xdisk/kcooper/caparicio/tree-fruit/08abricate/apple341_contig.fasta\n",
      "Found 9 genes in /xdisk/kcooper/caparicio/tree-fruit/08abricate/peach304_contig.fasta\n",
      "Tip: found a bug in abricate? Post it at https://github.com/tseemann/abricate/issues.\n",
      "Done.\n",
      "Using nucl database card:  2631 sequences -  2023-Nov-4\n",
      "Processing: /xdisk/kcooper/caparicio/tree-fruit/08abricate/peach304_contig.fasta\n",
      "Found 9 genes in /xdisk/kcooper/caparicio/tree-fruit/08abricate/peach304_contig.fasta\n",
      "Tip: it's important to realise abricate uses DNA matching, not AA.\n",
      "Done.\n",
      "Using nucl database resfinder:  3077 sequences -  2023-Nov-4\n",
      "Processing: /xdisk/kcooper/caparicio/tree-fruit/08abricate/peach304_contig.fasta\n",
      "Found 0 genes in /xdisk/kcooper/caparicio/tree-fruit/08abricate/peach192_contig.fasta\n",
      "Tip: the --fofn option allows you to feed in a big list of files to run on.\n",
      "Done.\n",
      "Using nucl database card:  2631 sequences -  2023-Nov-4\n",
      "Processing: /xdisk/kcooper/caparicio/tree-fruit/08abricate/peach192_contig.fasta\n",
      "Found 8 genes in /xdisk/kcooper/caparicio/tree-fruit/08abricate/peach304_contig.fasta\n",
      "Tip: have a suggestion for abricate? Tell me at https://github.com/tseemann/abricate/issues\n",
      "Done.\n",
      "Using nucl database argannot:  2223 sequences -  2023-Nov-4\n",
      "Processing: /xdisk/kcooper/caparicio/tree-fruit/08abricate/peach304_contig.fasta\n",
      "Found 0 genes in /xdisk/kcooper/caparicio/tree-fruit/08abricate/peach192_contig.fasta\n",
      "Tip: the abricate manual is at https://github.com/tseemann/abricate/blob/master/README.md\n",
      "Done.\n",
      "Using nucl database resfinder:  3077 sequences -  2023-Nov-4\n",
      "Processing: /xdisk/kcooper/caparicio/tree-fruit/08abricate/peach192_contig.fasta\n",
      "Found 11 genes in /xdisk/kcooper/caparicio/tree-fruit/08abricate/peach304_contig.fasta\n",
      "Tip: you can use the --summary option to combine reports in a presence/absence matrix.\n",
      "Done.\n",
      "Using nucl database megares:  6635 sequences -  2023-Nov-4\n",
      "Processing: /xdisk/kcooper/caparicio/tree-fruit/08abricate/peach304_contig.fasta\n",
      "Found 0 genes in /xdisk/kcooper/caparicio/tree-fruit/08abricate/peach192_contig.fasta\n",
      "Tip: the --fofn option allows you to feed in a big list of files to run on.\n",
      "Done.\n",
      "Using nucl database argannot:  2223 sequences -  2023-Nov-4\n",
      "Processing: /xdisk/kcooper/caparicio/tree-fruit/08abricate/peach192_contig.fasta\n",
      "Found 10 genes in /xdisk/kcooper/caparicio/tree-fruit/08abricate/peach304_contig.fasta\n",
      "Tip: found a bug in abricate? Post it at https://github.com/tseemann/abricate/issues.\n",
      "Done.\n",
      "Using nucl database vfdb:  2597 sequences -  2023-Nov-4\n",
      "Processing: /xdisk/kcooper/caparicio/tree-fruit/08abricate/peach304_contig.fasta\n",
      "Found 0 genes in /xdisk/kcooper/caparicio/tree-fruit/08abricate/peach192_contig.fasta\n",
      "Tip: did you know? abricate was named after 'A'nti 'B'acterial 'R'esistiance\n",
      "Done.\n",
      "Using nucl database megares:  6635 sequences -  2023-Nov-4\n",
      "Processing: /xdisk/kcooper/caparicio/tree-fruit/08abricate/peach192_contig.fasta\n",
      "Found 8 genes in /xdisk/kcooper/caparicio/tree-fruit/08abricate/peach304_contig.fasta\n",
      "Tip: the abricate manual is at https://github.com/tseemann/abricate/blob/master/README.md\n",
      "Done.\n"
     ]
    },
    {
     "name": "stdout",
     "output_type": "stream",
     "text": [
      "Processing completed for /xdisk/kcooper/caparicio/tree-fruit/08abricate/peach304_contig.fasta\n"
     ]
    },
    {
     "name": "stderr",
     "output_type": "stream",
     "text": [
      "Using nucl database ncbi:  5386 sequences -  2023-Nov-4\n",
      "Processing: /xdisk/kcooper/caparicio/tree-fruit/08abricate/peach284_contig.fasta\n",
      "Found 1 genes in /xdisk/kcooper/caparicio/tree-fruit/08abricate/peach284_contig.fasta\n",
      "Tip: it's important to realise abricate uses DNA matching, not AA.\n",
      "Done.\n",
      "Using nucl database card:  2631 sequences -  2023-Nov-4\n",
      "Processing: /xdisk/kcooper/caparicio/tree-fruit/08abricate/peach284_contig.fasta\n",
      "Found 1 genes in /xdisk/kcooper/caparicio/tree-fruit/08abricate/peach284_contig.fasta\n",
      "Tip: have a suggestion for abricate? Tell me at https://github.com/tseemann/abricate/issues\n",
      "Done.\n",
      "Using nucl database resfinder:  3077 sequences -  2023-Nov-4\n",
      "Processing: /xdisk/kcooper/caparicio/tree-fruit/08abricate/peach284_contig.fasta\n",
      "Found 1 genes in /xdisk/kcooper/caparicio/tree-fruit/08abricate/peach284_contig.fasta\n",
      "Tip: it's important to realise abricate uses DNA matching, not AA.\n",
      "Done.\n",
      "Using nucl database argannot:  2223 sequences -  2023-Nov-4\n",
      "Processing: /xdisk/kcooper/caparicio/tree-fruit/08abricate/peach284_contig.fasta\n",
      "Found 1 genes in /xdisk/kcooper/caparicio/tree-fruit/08abricate/peach284_contig.fasta\n",
      "Tip: remember that abricate is unable to find AMR-mediated SNPs.\n",
      "Done.\n",
      "Using nucl database megares:  6635 sequences -  2023-Nov-4\n",
      "Processing: /xdisk/kcooper/caparicio/tree-fruit/08abricate/peach284_contig.fasta\n",
      "Found 1 genes in /xdisk/kcooper/caparicio/tree-fruit/08abricate/peach284_contig.fasta\n",
      "Tip: remember that abricate is unable to find AMR-mediated SNPs.\n",
      "Done.\n",
      "Using nucl database vfdb:  2597 sequences -  2023-Nov-4\n",
      "Processing: /xdisk/kcooper/caparicio/tree-fruit/08abricate/peach284_contig.fasta\n",
      "Found 0 genes in /xdisk/kcooper/caparicio/tree-fruit/08abricate/peach284_contig.fasta\n",
      "Tip: found a bug in abricate? Post it at https://github.com/tseemann/abricate/issues.\n",
      "Done.\n"
     ]
    },
    {
     "name": "stdout",
     "output_type": "stream",
     "text": [
      "Processing completed for /xdisk/kcooper/caparicio/tree-fruit/08abricate/peach284_contig.fasta\n"
     ]
    },
    {
     "name": "stderr",
     "output_type": "stream",
     "text": [
      "Using nucl database ncbi:  5386 sequences -  2023-Nov-4\n",
      "Processing: /xdisk/kcooper/caparicio/tree-fruit/08abricate/orange415_contig.fasta\n",
      "Found 0 genes in /xdisk/kcooper/caparicio/tree-fruit/08abricate/peach192_contig.fasta\n",
      "Tip: it's important to realise abricate uses DNA matching, not AA.\n",
      "Done.\n",
      "Using nucl database vfdb:  2597 sequences -  2023-Nov-4\n",
      "Processing: /xdisk/kcooper/caparicio/tree-fruit/08abricate/peach192_contig.fasta\n",
      "Found 0 genes in /xdisk/kcooper/caparicio/tree-fruit/08abricate/orange415_contig.fasta\n",
      "Tip: did you know? abricate was named after 'A'nti 'B'acterial 'R'esistiance\n",
      "Done.\n",
      "Using nucl database card:  2631 sequences -  2023-Nov-4\n",
      "Processing: /xdisk/kcooper/caparicio/tree-fruit/08abricate/orange415_contig.fasta\n",
      "Found 3 genes in /xdisk/kcooper/caparicio/tree-fruit/08abricate/peach192_contig.fasta\n",
      "Tip: found a bug in abricate? Post it at https://github.com/tseemann/abricate/issues.\n",
      "Done.\n"
     ]
    },
    {
     "name": "stdout",
     "output_type": "stream",
     "text": [
      "Processing completed for /xdisk/kcooper/caparicio/tree-fruit/08abricate/peach192_contig.fasta\n"
     ]
    },
    {
     "name": "stderr",
     "output_type": "stream",
     "text": [
      "Using nucl database ncbi:  5386 sequences -  2023-Nov-4\n",
      "Processing: /xdisk/kcooper/caparicio/tree-fruit/08abricate/orange412_contig.fasta\n",
      "Found 0 genes in /xdisk/kcooper/caparicio/tree-fruit/08abricate/orange415_contig.fasta\n",
      "Tip: the abricate manual is at https://github.com/tseemann/abricate/blob/master/README.md\n",
      "Done.\n",
      "Using nucl database resfinder:  3077 sequences -  2023-Nov-4\n",
      "Processing: /xdisk/kcooper/caparicio/tree-fruit/08abricate/orange415_contig.fasta\n",
      "Found 4 genes in /xdisk/kcooper/caparicio/tree-fruit/08abricate/apple338_contig.fasta\n",
      "Tip: the --fofn option allows you to feed in a big list of files to run on.\n",
      "Done.\n",
      "Using nucl database card:  2631 sequences -  2023-Nov-4\n",
      "Processing: /xdisk/kcooper/caparicio/tree-fruit/08abricate/apple338_contig.fasta\n",
      "Found 0 genes in /xdisk/kcooper/caparicio/tree-fruit/08abricate/orange415_contig.fasta\n",
      "Tip: found a bug in abricate? Post it at https://github.com/tseemann/abricate/issues.\n",
      "Done.\n",
      "Using nucl database argannot:  2223 sequences -  2023-Nov-4\n",
      "Processing: /xdisk/kcooper/caparicio/tree-fruit/08abricate/orange415_contig.fasta\n",
      "Found 0 genes in /xdisk/kcooper/caparicio/tree-fruit/08abricate/orange412_contig.fasta\n",
      "Tip: you can use the --summary option to combine reports in a presence/absence matrix.\n",
      "Done.\n",
      "Using nucl database card:  2631 sequences -  2023-Nov-4\n",
      "Processing: /xdisk/kcooper/caparicio/tree-fruit/08abricate/orange412_contig.fasta\n",
      "Found 0 genes in /xdisk/kcooper/caparicio/tree-fruit/08abricate/orange415_contig.fasta\n",
      "Tip: the --fofn option allows you to feed in a big list of files to run on.\n",
      "Done.\n",
      "Using nucl database megares:  6635 sequences -  2023-Nov-4\n",
      "Processing: /xdisk/kcooper/caparicio/tree-fruit/08abricate/orange415_contig.fasta\n",
      "Found 0 genes in /xdisk/kcooper/caparicio/tree-fruit/08abricate/orange412_contig.fasta\n",
      "Tip: abricate can also find virulence factors; use --list to see all supported databases.\n",
      "Done.\n",
      "Using nucl database resfinder:  3077 sequences -  2023-Nov-4\n",
      "Processing: /xdisk/kcooper/caparicio/tree-fruit/08abricate/orange412_contig.fasta\n",
      "Found 22 genes in /xdisk/kcooper/caparicio/tree-fruit/08abricate/apple341_contig.fasta\n",
      "Tip: have a suggestion for abricate? Tell me at https://github.com/tseemann/abricate/issues\n",
      "Done.\n",
      "Using nucl database card:  2631 sequences -  2023-Nov-4\n",
      "Processing: /xdisk/kcooper/caparicio/tree-fruit/08abricate/apple341_contig.fasta\n",
      "Found 0 genes in /xdisk/kcooper/caparicio/tree-fruit/08abricate/orange415_contig.fasta\n",
      "Tip: the --fofn option allows you to feed in a big list of files to run on.\n",
      "Done.\n",
      "Using nucl database vfdb:  2597 sequences -  2023-Nov-4\n",
      "Processing: /xdisk/kcooper/caparicio/tree-fruit/08abricate/orange415_contig.fasta\n",
      "Found 0 genes in /xdisk/kcooper/caparicio/tree-fruit/08abricate/orange412_contig.fasta\n",
      "Tip: the abricate manual is at https://github.com/tseemann/abricate/blob/master/README.md\n",
      "Done.\n",
      "Using nucl database argannot:  2223 sequences -  2023-Nov-4\n",
      "Processing: /xdisk/kcooper/caparicio/tree-fruit/08abricate/orange412_contig.fasta\n",
      "Found 6 genes in /xdisk/kcooper/caparicio/tree-fruit/08abricate/orange415_contig.fasta\n",
      "Tip: the abricate manual is at https://github.com/tseemann/abricate/blob/master/README.md\n",
      "Done.\n"
     ]
    },
    {
     "name": "stdout",
     "output_type": "stream",
     "text": [
      "Processing completed for /xdisk/kcooper/caparicio/tree-fruit/08abricate/orange415_contig.fasta\n"
     ]
    },
    {
     "name": "stderr",
     "output_type": "stream",
     "text": [
      "Using nucl database ncbi:  5386 sequences -  2023-Nov-4\n",
      "Processing: /xdisk/kcooper/caparicio/tree-fruit/08abricate/orange363_contig.fasta\n",
      "Found 0 genes in /xdisk/kcooper/caparicio/tree-fruit/08abricate/orange412_contig.fasta\n",
      "Tip: the abricate manual is at https://github.com/tseemann/abricate/blob/master/README.md\n",
      "Done.\n",
      "Using nucl database megares:  6635 sequences -  2023-Nov-4\n",
      "Processing: /xdisk/kcooper/caparicio/tree-fruit/08abricate/orange412_contig.fasta\n",
      "Found 10 genes in /xdisk/kcooper/caparicio/tree-fruit/08abricate/apple338_contig.fasta\n",
      "Tip: did you know? abricate was named after 'A'nti 'B'acterial 'R'esistiance\n",
      "Done.\n",
      "Using nucl database resfinder:  3077 sequences -  2023-Nov-4\n",
      "Processing: /xdisk/kcooper/caparicio/tree-fruit/08abricate/apple338_contig.fasta\n",
      "Found 0 genes in /xdisk/kcooper/caparicio/tree-fruit/08abricate/orange363_contig.fasta\n",
      "Tip: you can use the --summary option to combine reports in a presence/absence matrix.\n",
      "Done.\n",
      "Using nucl database card:  2631 sequences -  2023-Nov-4\n",
      "Processing: /xdisk/kcooper/caparicio/tree-fruit/08abricate/orange363_contig.fasta\n",
      "Found 0 genes in /xdisk/kcooper/caparicio/tree-fruit/08abricate/orange363_contig.fasta\n",
      "Tip: the --fofn option allows you to feed in a big list of files to run on.\n",
      "Done.\n",
      "Using nucl database resfinder:  3077 sequences -  2023-Nov-4\n",
      "Processing: /xdisk/kcooper/caparicio/tree-fruit/08abricate/orange363_contig.fasta\n",
      "Found 0 genes in /xdisk/kcooper/caparicio/tree-fruit/08abricate/orange363_contig.fasta\n",
      "Tip: did you know? abricate was named after 'A'nti 'B'acterial 'R'esistiance\n",
      "Done.\n",
      "Using nucl database argannot:  2223 sequences -  2023-Nov-4\n",
      "Processing: /xdisk/kcooper/caparicio/tree-fruit/08abricate/orange363_contig.fasta\n",
      "Found 0 genes in /xdisk/kcooper/caparicio/tree-fruit/08abricate/orange363_contig.fasta\n",
      "Tip: it's important to realise abricate uses DNA matching, not AA.\n",
      "Done.\n",
      "Using nucl database megares:  6635 sequences -  2023-Nov-4\n",
      "Processing: /xdisk/kcooper/caparicio/tree-fruit/08abricate/orange363_contig.fasta\n",
      "Found 0 genes in /xdisk/kcooper/caparicio/tree-fruit/08abricate/orange412_contig.fasta\n",
      "Tip: abricate can also find virulence factors; use --list to see all supported databases.\n",
      "Done.\n",
      "Using nucl database vfdb:  2597 sequences -  2023-Nov-4\n",
      "Processing: /xdisk/kcooper/caparicio/tree-fruit/08abricate/orange412_contig.fasta\n",
      "Found 0 genes in /xdisk/kcooper/caparicio/tree-fruit/08abricate/orange363_contig.fasta\n",
      "Tip: remember that abricate is unable to find AMR-mediated SNPs.\n",
      "Done.\n",
      "Using nucl database vfdb:  2597 sequences -  2023-Nov-4\n",
      "Processing: /xdisk/kcooper/caparicio/tree-fruit/08abricate/orange363_contig.fasta\n",
      "Found 0 genes in /xdisk/kcooper/caparicio/tree-fruit/08abricate/orange363_contig.fasta\n",
      "Tip: you can use the --summary option to combine reports in a presence/absence matrix.\n",
      "Done.\n"
     ]
    },
    {
     "name": "stdout",
     "output_type": "stream",
     "text": [
      "Processing completed for /xdisk/kcooper/caparicio/tree-fruit/08abricate/orange363_contig.fasta\n"
     ]
    },
    {
     "name": "stderr",
     "output_type": "stream",
     "text": [
      "Using nucl database ncbi:  5386 sequences -  2023-Nov-4\n",
      "Processing: /xdisk/kcooper/caparicio/tree-fruit/08abricate/peach244_contis.fasta\n",
      "Found 89 genes in /xdisk/kcooper/caparicio/tree-fruit/08abricate/apple341_contig.fasta\n",
      "Tip: found a bug in abricate? Post it at https://github.com/tseemann/abricate/issues.\n",
      "Done.\n",
      "Using nucl database resfinder:  3077 sequences -  2023-Nov-4\n",
      "Processing: /xdisk/kcooper/caparicio/tree-fruit/08abricate/apple341_contig.fasta\n",
      "Found 3 genes in /xdisk/kcooper/caparicio/tree-fruit/08abricate/apple338_contig.fasta\n",
      "Tip: the abricate manual is at https://github.com/tseemann/abricate/blob/master/README.md\n",
      "Done.\n",
      "Using nucl database argannot:  2223 sequences -  2023-Nov-4\n",
      "Processing: /xdisk/kcooper/caparicio/tree-fruit/08abricate/apple338_contig.fasta\n",
      "Found 0 genes in /xdisk/kcooper/caparicio/tree-fruit/08abricate/orange412_contig.fasta\n",
      "Tip: you can use the --summary option to combine reports in a presence/absence matrix.\n",
      "Done.\n"
     ]
    },
    {
     "name": "stdout",
     "output_type": "stream",
     "text": [
      "Processing completed for /xdisk/kcooper/caparicio/tree-fruit/08abricate/orange412_contig.fasta\n"
     ]
    },
    {
     "name": "stderr",
     "output_type": "stream",
     "text": [
      "Using nucl database ncbi:  5386 sequences -  2023-Nov-4\n",
      "Processing: /xdisk/kcooper/caparicio/tree-fruit/08abricate/orange370_contigs.fasta\n",
      "Found 0 genes in /xdisk/kcooper/caparicio/tree-fruit/08abricate/orange370_contigs.fasta\n",
      "Tip: did you know? abricate was named after 'A'nti 'B'acterial 'R'esistiance\n",
      "Done.\n",
      "Using nucl database card:  2631 sequences -  2023-Nov-4\n",
      "Processing: /xdisk/kcooper/caparicio/tree-fruit/08abricate/orange370_contigs.fasta\n",
      "Found 0 genes in /xdisk/kcooper/caparicio/tree-fruit/08abricate/orange370_contigs.fasta\n",
      "Tip: found a bug in abricate? Post it at https://github.com/tseemann/abricate/issues.\n",
      "Done.\n",
      "Using nucl database resfinder:  3077 sequences -  2023-Nov-4\n",
      "Processing: /xdisk/kcooper/caparicio/tree-fruit/08abricate/orange370_contigs.fasta\n",
      "Found 0 genes in /xdisk/kcooper/caparicio/tree-fruit/08abricate/peach244_contis.fasta\n",
      "Tip: did you know? abricate was named after 'A'nti 'B'acterial 'R'esistiance\n",
      "Done.\n",
      "Using nucl database card:  2631 sequences -  2023-Nov-4\n",
      "Processing: /xdisk/kcooper/caparicio/tree-fruit/08abricate/peach244_contis.fasta\n",
      "Found 0 genes in /xdisk/kcooper/caparicio/tree-fruit/08abricate/orange370_contigs.fasta\n",
      "Tip: abricate can also find virulence factors; use --list to see all supported databases.\n",
      "Done.\n",
      "Using nucl database argannot:  2223 sequences -  2023-Nov-4\n",
      "Processing: /xdisk/kcooper/caparicio/tree-fruit/08abricate/orange370_contigs.fasta\n",
      "Found 0 genes in /xdisk/kcooper/caparicio/tree-fruit/08abricate/orange370_contigs.fasta\n",
      "Tip: it's important to realise abricate uses DNA matching, not AA.\n",
      "Done.\n",
      "Using nucl database megares:  6635 sequences -  2023-Nov-4\n",
      "Processing: /xdisk/kcooper/caparicio/tree-fruit/08abricate/orange370_contigs.fasta\n",
      "Found 2 genes in /xdisk/kcooper/caparicio/tree-fruit/08abricate/peach244_contis.fasta\n",
      "Tip: did you know? abricate was named after 'A'nti 'B'acterial 'R'esistiance\n",
      "Done.\n",
      "Using nucl database resfinder:  3077 sequences -  2023-Nov-4\n",
      "Processing: /xdisk/kcooper/caparicio/tree-fruit/08abricate/peach244_contis.fasta\n",
      "Found 0 genes in /xdisk/kcooper/caparicio/tree-fruit/08abricate/orange370_contigs.fasta\n",
      "Tip: you can use the --summary option to combine reports in a presence/absence matrix.\n",
      "Done.\n",
      "Using nucl database vfdb:  2597 sequences -  2023-Nov-4\n",
      "Processing: /xdisk/kcooper/caparicio/tree-fruit/08abricate/orange370_contigs.fasta\n",
      "Found 0 genes in /xdisk/kcooper/caparicio/tree-fruit/08abricate/orange370_contigs.fasta\n",
      "Tip: the --fofn option allows you to feed in a big list of files to run on.\n",
      "Done.\n"
     ]
    },
    {
     "name": "stdout",
     "output_type": "stream",
     "text": [
      "Processing completed for /xdisk/kcooper/caparicio/tree-fruit/08abricate/orange370_contigs.fasta\n"
     ]
    },
    {
     "name": "stderr",
     "output_type": "stream",
     "text": [
      "Using nucl database ncbi:  5386 sequences -  2023-Nov-4\n",
      "Processing: /xdisk/kcooper/caparicio/tree-fruit/08abricate/peach254_contig.fasta\n",
      "Found 0 genes in /xdisk/kcooper/caparicio/tree-fruit/08abricate/peach244_contis.fasta\n",
      "Tip: did you know? abricate was named after 'A'nti 'B'acterial 'R'esistiance\n",
      "Done.\n",
      "Using nucl database argannot:  2223 sequences -  2023-Nov-4\n",
      "Processing: /xdisk/kcooper/caparicio/tree-fruit/08abricate/peach244_contis.fasta\n",
      "Found 0 genes in /xdisk/kcooper/caparicio/tree-fruit/08abricate/peach244_contis.fasta\n",
      "Tip: abricate can also find virulence factors; use --list to see all supported databases.\n",
      "Done.\n",
      "Using nucl database megares:  6635 sequences -  2023-Nov-4\n",
      "Processing: /xdisk/kcooper/caparicio/tree-fruit/08abricate/peach244_contis.fasta\n",
      "Found 0 genes in /xdisk/kcooper/caparicio/tree-fruit/08abricate/peach254_contig.fasta\n",
      "Tip: did you know? abricate was named after 'A'nti 'B'acterial 'R'esistiance\n",
      "Done.\n",
      "Using nucl database card:  2631 sequences -  2023-Nov-4\n",
      "Processing: /xdisk/kcooper/caparicio/tree-fruit/08abricate/peach254_contig.fasta\n",
      "Found 3 genes in /xdisk/kcooper/caparicio/tree-fruit/08abricate/apple338_contig.fasta\n",
      "Tip: abricate can also find virulence factors; use --list to see all supported databases.\n",
      "Done.\n",
      "Using nucl database megares:  6635 sequences -  2023-Nov-4\n",
      "Processing: /xdisk/kcooper/caparicio/tree-fruit/08abricate/apple338_contig.fasta\n",
      "Found 3 genes in /xdisk/kcooper/caparicio/tree-fruit/08abricate/peach254_contig.fasta\n",
      "Tip: remember that abricate is unable to find AMR-mediated SNPs.\n",
      "Done.\n",
      "Using nucl database resfinder:  3077 sequences -  2023-Nov-4\n",
      "Processing: /xdisk/kcooper/caparicio/tree-fruit/08abricate/peach254_contig.fasta\n",
      "Found 17 genes in /xdisk/kcooper/caparicio/tree-fruit/08abricate/apple341_contig.fasta\n",
      "Tip: you can use the --summary option to combine reports in a presence/absence matrix.\n",
      "Done.\n",
      "Using nucl database argannot:  2223 sequences -  2023-Nov-4\n",
      "Processing: /xdisk/kcooper/caparicio/tree-fruit/08abricate/apple341_contig.fasta\n",
      "Found 0 genes in /xdisk/kcooper/caparicio/tree-fruit/08abricate/peach254_contig.fasta\n",
      "Tip: have a suggestion for abricate? Tell me at https://github.com/tseemann/abricate/issues\n",
      "Done.\n",
      "Using nucl database argannot:  2223 sequences -  2023-Nov-4\n",
      "Processing: /xdisk/kcooper/caparicio/tree-fruit/08abricate/peach254_contig.fasta\n",
      "Found 2 genes in /xdisk/kcooper/caparicio/tree-fruit/08abricate/peach244_contis.fasta\n",
      "Tip: did you know? abricate was named after 'A'nti 'B'acterial 'R'esistiance\n",
      "Done.\n",
      "Using nucl database vfdb:  2597 sequences -  2023-Nov-4\n",
      "Processing: /xdisk/kcooper/caparicio/tree-fruit/08abricate/peach244_contis.fasta\n",
      "Found 0 genes in /xdisk/kcooper/caparicio/tree-fruit/08abricate/peach254_contig.fasta\n",
      "Tip: it's important to realise abricate uses DNA matching, not AA.\n",
      "Done.\n",
      "Using nucl database megares:  6635 sequences -  2023-Nov-4\n",
      "Processing: /xdisk/kcooper/caparicio/tree-fruit/08abricate/peach254_contig.fasta\n",
      "Found 19 genes in /xdisk/kcooper/caparicio/tree-fruit/08abricate/peach244_contis.fasta\n",
      "Tip: did you know? abricate was named after 'A'nti 'B'acterial 'R'esistiance\n",
      "Done.\n"
     ]
    },
    {
     "name": "stdout",
     "output_type": "stream",
     "text": [
      "Processing completed for /xdisk/kcooper/caparicio/tree-fruit/08abricate/peach244_contis.fasta\n"
     ]
    },
    {
     "name": "stderr",
     "output_type": "stream",
     "text": [
      "Using nucl database ncbi:  5386 sequences -  2023-Nov-4\n",
      "Processing: /xdisk/kcooper/caparicio/tree-fruit/08abricate/orange400_contig.fasta\n",
      "Found 3 genes in /xdisk/kcooper/caparicio/tree-fruit/08abricate/peach254_contig.fasta\n",
      "Tip: found a bug in abricate? Post it at https://github.com/tseemann/abricate/issues.\n",
      "Done.\n",
      "Using nucl database vfdb:  2597 sequences -  2023-Nov-4\n",
      "Processing: /xdisk/kcooper/caparicio/tree-fruit/08abricate/peach254_contig.fasta\n",
      "Found 0 genes in /xdisk/kcooper/caparicio/tree-fruit/08abricate/orange400_contig.fasta\n",
      "Tip: it's important to realise abricate uses DNA matching, not AA.\n",
      "Done.\n",
      "Using nucl database card:  2631 sequences -  2023-Nov-4\n",
      "Processing: /xdisk/kcooper/caparicio/tree-fruit/08abricate/orange400_contig.fasta\n",
      "Found 19 genes in /xdisk/kcooper/caparicio/tree-fruit/08abricate/peach254_contig.fasta\n",
      "Tip: remember that abricate is unable to find AMR-mediated SNPs.\n",
      "Done.\n"
     ]
    },
    {
     "name": "stdout",
     "output_type": "stream",
     "text": [
      "Processing completed for /xdisk/kcooper/caparicio/tree-fruit/08abricate/peach254_contig.fasta\n"
     ]
    },
    {
     "name": "stderr",
     "output_type": "stream",
     "text": [
      "Using nucl database ncbi:  5386 sequences -  2023-Nov-4\n",
      "Processing: /xdisk/kcooper/caparicio/tree-fruit/08abricate/orange403_contig.fasta\n",
      "Found 0 genes in /xdisk/kcooper/caparicio/tree-fruit/08abricate/orange400_contig.fasta\n",
      "Tip: have a suggestion for abricate? Tell me at https://github.com/tseemann/abricate/issues\n",
      "Done.\n",
      "Using nucl database resfinder:  3077 sequences -  2023-Nov-4\n",
      "Processing: /xdisk/kcooper/caparicio/tree-fruit/08abricate/orange400_contig.fasta\n",
      "Found 20 genes in /xdisk/kcooper/caparicio/tree-fruit/08abricate/apple341_contig.fasta\n",
      "Tip: you can use the --summary option to combine reports in a presence/absence matrix.\n",
      "Done.\n",
      "Using nucl database megares:  6635 sequences -  2023-Nov-4\n",
      "Processing: /xdisk/kcooper/caparicio/tree-fruit/08abricate/apple341_contig.fasta\n",
      "Found 0 genes in /xdisk/kcooper/caparicio/tree-fruit/08abricate/orange400_contig.fasta\n",
      "Tip: remember that abricate is unable to find AMR-mediated SNPs.\n",
      "Done.\n",
      "Using nucl database argannot:  2223 sequences -  2023-Nov-4\n",
      "Processing: /xdisk/kcooper/caparicio/tree-fruit/08abricate/orange400_contig.fasta\n",
      "Found 0 genes in /xdisk/kcooper/caparicio/tree-fruit/08abricate/orange400_contig.fasta\n",
      "Tip: did you know? abricate was named after 'A'nti 'B'acterial 'R'esistiance\n",
      "Done.\n",
      "Using nucl database megares:  6635 sequences -  2023-Nov-4\n",
      "Processing: /xdisk/kcooper/caparicio/tree-fruit/08abricate/orange400_contig.fasta\n",
      "Found 0 genes in /xdisk/kcooper/caparicio/tree-fruit/08abricate/orange403_contig.fasta\n",
      "Tip: it's important to realise abricate uses DNA matching, not AA.\n",
      "Done.\n",
      "Using nucl database card:  2631 sequences -  2023-Nov-4\n",
      "Processing: /xdisk/kcooper/caparicio/tree-fruit/08abricate/orange403_contig.fasta\n",
      "Found 0 genes in /xdisk/kcooper/caparicio/tree-fruit/08abricate/orange400_contig.fasta\n",
      "Tip: did you know? abricate was named after 'A'nti 'B'acterial 'R'esistiance\n",
      "Done.\n",
      "Using nucl database vfdb:  2597 sequences -  2023-Nov-4\n",
      "Processing: /xdisk/kcooper/caparicio/tree-fruit/08abricate/orange400_contig.fasta\n",
      "Found 1 genes in /xdisk/kcooper/caparicio/tree-fruit/08abricate/orange403_contig.fasta\n",
      "Tip: you can use the --summary option to combine reports in a presence/absence matrix.\n",
      "Done.\n",
      "Using nucl database resfinder:  3077 sequences -  2023-Nov-4\n",
      "Processing: /xdisk/kcooper/caparicio/tree-fruit/08abricate/orange403_contig.fasta\n",
      "Found 11 genes in /xdisk/kcooper/caparicio/tree-fruit/08abricate/apple338_contig.fasta\n",
      "Tip: it's important to realise abricate uses DNA matching, not AA.\n",
      "Done.\n",
      "Using nucl database vfdb:  2597 sequences -  2023-Nov-4\n",
      "Processing: /xdisk/kcooper/caparicio/tree-fruit/08abricate/apple338_contig.fasta\n",
      "Found 0 genes in /xdisk/kcooper/caparicio/tree-fruit/08abricate/orange400_contig.fasta\n",
      "Tip: the abricate manual is at https://github.com/tseemann/abricate/blob/master/README.md\n",
      "Done.\n"
     ]
    },
    {
     "name": "stdout",
     "output_type": "stream",
     "text": [
      "Processing completed for /xdisk/kcooper/caparicio/tree-fruit/08abricate/orange400_contig.fasta\n"
     ]
    },
    {
     "name": "stderr",
     "output_type": "stream",
     "text": [
      "Using nucl database ncbi:  5386 sequences -  2023-Nov-4\n",
      "Processing: /xdisk/kcooper/caparicio/tree-fruit/08abricate/orange418_contig.fasta\n",
      "Found 0 genes in /xdisk/kcooper/caparicio/tree-fruit/08abricate/orange403_contig.fasta\n",
      "Tip: the --fofn option allows you to feed in a big list of files to run on.\n",
      "Done.\n",
      "Using nucl database argannot:  2223 sequences -  2023-Nov-4\n",
      "Processing: /xdisk/kcooper/caparicio/tree-fruit/08abricate/orange403_contig.fasta\n",
      "Found 0 genes in /xdisk/kcooper/caparicio/tree-fruit/08abricate/orange418_contig.fasta\n",
      "Tip: the --fofn option allows you to feed in a big list of files to run on.\n",
      "Done.\n",
      "Using nucl database card:  2631 sequences -  2023-Nov-4\n",
      "Processing: /xdisk/kcooper/caparicio/tree-fruit/08abricate/orange418_contig.fasta\n",
      "Found 0 genes in /xdisk/kcooper/caparicio/tree-fruit/08abricate/orange403_contig.fasta\n",
      "Tip: you can use the --summary option to combine reports in a presence/absence matrix.\n",
      "Done.\n",
      "Using nucl database megares:  6635 sequences -  2023-Nov-4\n",
      "Processing: /xdisk/kcooper/caparicio/tree-fruit/08abricate/orange403_contig.fasta\n",
      "Found 0 genes in /xdisk/kcooper/caparicio/tree-fruit/08abricate/orange418_contig.fasta\n",
      "Tip: have a suggestion for abricate? Tell me at https://github.com/tseemann/abricate/issues\n",
      "Done.\n",
      "Using nucl database resfinder:  3077 sequences -  2023-Nov-4\n",
      "Processing: /xdisk/kcooper/caparicio/tree-fruit/08abricate/orange418_contig.fasta\n",
      "Found 0 genes in /xdisk/kcooper/caparicio/tree-fruit/08abricate/orange418_contig.fasta\n",
      "Tip: the abricate manual is at https://github.com/tseemann/abricate/blob/master/README.md\n",
      "Done.\n",
      "Using nucl database argannot:  2223 sequences -  2023-Nov-4\n",
      "Processing: /xdisk/kcooper/caparicio/tree-fruit/08abricate/orange418_contig.fasta\n",
      "Found 33 genes in /xdisk/kcooper/caparicio/tree-fruit/08abricate/apple338_contig.fasta\n",
      "Tip: the --fofn option allows you to feed in a big list of files to run on.\n",
      "Done.\n"
     ]
    },
    {
     "name": "stdout",
     "output_type": "stream",
     "text": [
      "Processing completed for /xdisk/kcooper/caparicio/tree-fruit/08abricate/apple338_contig.fasta\n"
     ]
    },
    {
     "name": "stderr",
     "output_type": "stream",
     "text": [
      "Using nucl database ncbi:  5386 sequences -  2023-Nov-4\n",
      "Processing: /xdisk/kcooper/caparicio/tree-fruit/08abricate/peach205_contig.fasta\n",
      "Found 0 genes in /xdisk/kcooper/caparicio/tree-fruit/08abricate/peach205_contig.fasta\n",
      "Tip: remember that abricate is unable to find AMR-mediated SNPs.\n",
      "Done.\n",
      "Using nucl database card:  2631 sequences -  2023-Nov-4\n",
      "Processing: /xdisk/kcooper/caparicio/tree-fruit/08abricate/peach205_contig.fasta\n",
      "Found 0 genes in /xdisk/kcooper/caparicio/tree-fruit/08abricate/peach205_contig.fasta\n",
      "Tip: remember that abricate is unable to find AMR-mediated SNPs.\n",
      "Done.\n",
      "Using nucl database resfinder:  3077 sequences -  2023-Nov-4\n",
      "Processing: /xdisk/kcooper/caparicio/tree-fruit/08abricate/peach205_contig.fasta\n",
      "Found 0 genes in /xdisk/kcooper/caparicio/tree-fruit/08abricate/orange418_contig.fasta\n",
      "Tip: you can use the --summary option to combine reports in a presence/absence matrix.\n",
      "Done.\n",
      "Using nucl database megares:  6635 sequences -  2023-Nov-4\n",
      "Processing: /xdisk/kcooper/caparicio/tree-fruit/08abricate/orange418_contig.fasta\n",
      "Found 1 genes in /xdisk/kcooper/caparicio/tree-fruit/08abricate/orange403_contig.fasta\n",
      "Tip: found a bug in abricate? Post it at https://github.com/tseemann/abricate/issues.\n",
      "Done.\n",
      "Found 0 genes in /xdisk/kcooper/caparicio/tree-fruit/08abricate/peach205_contig.fasta\n",
      "Tip: you can use the --summary option to combine reports in a presence/absence matrix.\n",
      "Done.\n",
      "Using nucl database vfdb:  2597 sequences -  2023-Nov-4\n",
      "Processing: /xdisk/kcooper/caparicio/tree-fruit/08abricate/orange403_contig.fasta\n",
      "Using nucl database argannot:  2223 sequences -  2023-Nov-4\n",
      "Processing: /xdisk/kcooper/caparicio/tree-fruit/08abricate/peach205_contig.fasta\n",
      "Found 0 genes in /xdisk/kcooper/caparicio/tree-fruit/08abricate/peach205_contig.fasta\n",
      "Tip: the abricate manual is at https://github.com/tseemann/abricate/blob/master/README.md\n",
      "Done.\n",
      "Using nucl database megares:  6635 sequences -  2023-Nov-4\n",
      "Processing: /xdisk/kcooper/caparicio/tree-fruit/08abricate/peach205_contig.fasta\n",
      "Found 0 genes in /xdisk/kcooper/caparicio/tree-fruit/08abricate/peach205_contig.fasta\n",
      "Tip: it's important to realise abricate uses DNA matching, not AA.\n",
      "Done.\n",
      "Using nucl database vfdb:  2597 sequences -  2023-Nov-4\n",
      "Processing: /xdisk/kcooper/caparicio/tree-fruit/08abricate/peach205_contig.fasta\n",
      "Found 0 genes in /xdisk/kcooper/caparicio/tree-fruit/08abricate/peach205_contig.fasta\n",
      "Tip: have a suggestion for abricate? Tell me at https://github.com/tseemann/abricate/issues\n",
      "Done.\n"
     ]
    },
    {
     "name": "stdout",
     "output_type": "stream",
     "text": [
      "Processing completed for /xdisk/kcooper/caparicio/tree-fruit/08abricate/peach205_contig.fasta\n"
     ]
    },
    {
     "name": "stderr",
     "output_type": "stream",
     "text": [
      "Using nucl database ncbi:  5386 sequences -  2023-Nov-4\n",
      "Processing: /xdisk/kcooper/caparicio/tree-fruit/08abricate/orange347_contig.fasta\n",
      "Found 2 genes in /xdisk/kcooper/caparicio/tree-fruit/08abricate/orange403_contig.fasta\n",
      "Tip: abricate can also find virulence factors; use --list to see all supported databases.\n",
      "Done.\n"
     ]
    },
    {
     "name": "stdout",
     "output_type": "stream",
     "text": [
      "Processing completed for /xdisk/kcooper/caparicio/tree-fruit/08abricate/orange403_contig.fasta\n"
     ]
    },
    {
     "name": "stderr",
     "output_type": "stream",
     "text": [
      "Using nucl database ncbi:  5386 sequences -  2023-Nov-4\n",
      "Processing: /xdisk/kcooper/caparicio/tree-fruit/08abricate/orange382_contig.fasta\n",
      "Found 0 genes in /xdisk/kcooper/caparicio/tree-fruit/08abricate/orange418_contig.fasta\n",
      "Tip: the abricate manual is at https://github.com/tseemann/abricate/blob/master/README.md\n",
      "Done.\n",
      "Using nucl database vfdb:  2597 sequences -  2023-Nov-4\n",
      "Processing: /xdisk/kcooper/caparicio/tree-fruit/08abricate/orange418_contig.fasta\n",
      "Found 103 genes in /xdisk/kcooper/caparicio/tree-fruit/08abricate/apple341_contig.fasta\n",
      "Tip: remember that abricate is unable to find AMR-mediated SNPs.\n",
      "Done.\n",
      "Using nucl database vfdb:  2597 sequences -  2023-Nov-4\n",
      "Processing: /xdisk/kcooper/caparicio/tree-fruit/08abricate/apple341_contig.fasta\n",
      "Found 0 genes in /xdisk/kcooper/caparicio/tree-fruit/08abricate/orange347_contig.fasta\n",
      "Tip: it's important to realise abricate uses DNA matching, not AA.\n",
      "Done.\n",
      "Using nucl database card:  2631 sequences -  2023-Nov-4\n",
      "Processing: /xdisk/kcooper/caparicio/tree-fruit/08abricate/orange347_contig.fasta\n",
      "Found 0 genes in /xdisk/kcooper/caparicio/tree-fruit/08abricate/orange382_contig.fasta\n",
      "Tip: the --fofn option allows you to feed in a big list of files to run on.\n",
      "Done.\n",
      "Using nucl database card:  2631 sequences -  2023-Nov-4\n",
      "Processing: /xdisk/kcooper/caparicio/tree-fruit/08abricate/orange382_contig.fasta\n",
      "Found 9 genes in /xdisk/kcooper/caparicio/tree-fruit/08abricate/orange418_contig.fasta\n",
      "Tip: found a bug in abricate? Post it at https://github.com/tseemann/abricate/issues.\n",
      "Done.\n"
     ]
    },
    {
     "name": "stdout",
     "output_type": "stream",
     "text": [
      "Processing completed for /xdisk/kcooper/caparicio/tree-fruit/08abricate/orange418_contig.fasta\n"
     ]
    },
    {
     "name": "stderr",
     "output_type": "stream",
     "text": [
      "Using nucl database ncbi:  5386 sequences -  2023-Nov-4\n",
      "Processing: /xdisk/kcooper/caparicio/tree-fruit/08abricate/peach252_contig.fasta\n",
      "Found 0 genes in /xdisk/kcooper/caparicio/tree-fruit/08abricate/orange382_contig.fasta\n",
      "Tip: remember that abricate is unable to find AMR-mediated SNPs.\n",
      "Done.\n",
      "Using nucl database resfinder:  3077 sequences -  2023-Nov-4\n",
      "Processing: /xdisk/kcooper/caparicio/tree-fruit/08abricate/orange382_contig.fasta\n",
      "Found 0 genes in /xdisk/kcooper/caparicio/tree-fruit/08abricate/peach252_contig.fasta\n",
      "Tip: abricate can also find virulence factors; use --list to see all supported databases.\n",
      "Done.\n",
      "Using nucl database card:  2631 sequences -  2023-Nov-4\n",
      "Processing: /xdisk/kcooper/caparicio/tree-fruit/08abricate/peach252_contig.fasta\n",
      "Found 0 genes in /xdisk/kcooper/caparicio/tree-fruit/08abricate/orange347_contig.fasta\n",
      "Tip: have a suggestion for abricate? Tell me at https://github.com/tseemann/abricate/issues\n",
      "Done.\n",
      "Using nucl database resfinder:  3077 sequences -  2023-Nov-4\n",
      "Processing: /xdisk/kcooper/caparicio/tree-fruit/08abricate/orange347_contig.fasta\n",
      "Found 0 genes in /xdisk/kcooper/caparicio/tree-fruit/08abricate/peach252_contig.fasta\n",
      "Tip: the --fofn option allows you to feed in a big list of files to run on.\n",
      "Done.\n",
      "Using nucl database resfinder:  3077 sequences -  2023-Nov-4\n",
      "Processing: /xdisk/kcooper/caparicio/tree-fruit/08abricate/peach252_contig.fasta\n",
      "Found 0 genes in /xdisk/kcooper/caparicio/tree-fruit/08abricate/orange382_contig.fasta\n",
      "Tip: it's important to realise abricate uses DNA matching, not AA.\n",
      "Done.\n",
      "Using nucl database argannot:  2223 sequences -  2023-Nov-4\n",
      "Processing: /xdisk/kcooper/caparicio/tree-fruit/08abricate/orange382_contig.fasta\n",
      "Found 0 genes in /xdisk/kcooper/caparicio/tree-fruit/08abricate/peach252_contig.fasta\n",
      "Tip: you can use the --summary option to combine reports in a presence/absence matrix.\n",
      "Done.\n",
      "Using nucl database argannot:  2223 sequences -  2023-Nov-4\n",
      "Processing: /xdisk/kcooper/caparicio/tree-fruit/08abricate/peach252_contig.fasta\n",
      "Found 0 genes in /xdisk/kcooper/caparicio/tree-fruit/08abricate/orange382_contig.fasta\n",
      "Tip: the abricate manual is at https://github.com/tseemann/abricate/blob/master/README.md\n",
      "Done.\n",
      "Using nucl database megares:  6635 sequences -  2023-Nov-4\n",
      "Processing: /xdisk/kcooper/caparicio/tree-fruit/08abricate/orange382_contig.fasta\n",
      "Found 0 genes in /xdisk/kcooper/caparicio/tree-fruit/08abricate/peach252_contig.fasta\n",
      "Tip: abricate can also find virulence factors; use --list to see all supported databases.\n",
      "Done.\n",
      "Using nucl database megares:  6635 sequences -  2023-Nov-4\n",
      "Processing: /xdisk/kcooper/caparicio/tree-fruit/08abricate/peach252_contig.fasta\n",
      "Found 0 genes in /xdisk/kcooper/caparicio/tree-fruit/08abricate/orange347_contig.fasta\n",
      "Tip: abricate can also find virulence factors; use --list to see all supported databases.\n",
      "Done.\n",
      "Using nucl database argannot:  2223 sequences -  2023-Nov-4\n",
      "Processing: /xdisk/kcooper/caparicio/tree-fruit/08abricate/orange347_contig.fasta\n",
      "Found 0 genes in /xdisk/kcooper/caparicio/tree-fruit/08abricate/peach252_contig.fasta\n",
      "Tip: abricate can also find virulence factors; use --list to see all supported databases.\n",
      "Done.\n",
      "Using nucl database vfdb:  2597 sequences -  2023-Nov-4\n",
      "Processing: /xdisk/kcooper/caparicio/tree-fruit/08abricate/peach252_contig.fasta\n",
      "Found 0 genes in /xdisk/kcooper/caparicio/tree-fruit/08abricate/orange382_contig.fasta\n",
      "Tip: remember that abricate is unable to find AMR-mediated SNPs.\n",
      "Done.\n",
      "Using nucl database vfdb:  2597 sequences -  2023-Nov-4\n",
      "Processing: /xdisk/kcooper/caparicio/tree-fruit/08abricate/orange382_contig.fasta\n",
      "Found 0 genes in /xdisk/kcooper/caparicio/tree-fruit/08abricate/orange347_contig.fasta\n",
      "Tip: the --fofn option allows you to feed in a big list of files to run on.\n",
      "Done.\n",
      "Using nucl database megares:  6635 sequences -  2023-Nov-4\n",
      "Processing: /xdisk/kcooper/caparicio/tree-fruit/08abricate/orange347_contig.fasta\n",
      "Found 311 genes in /xdisk/kcooper/caparicio/tree-fruit/08abricate/apple341_contig.fasta\n",
      "Tip: the --fofn option allows you to feed in a big list of files to run on.\n",
      "Done.\n"
     ]
    },
    {
     "name": "stdout",
     "output_type": "stream",
     "text": [
      "Processing completed for /xdisk/kcooper/caparicio/tree-fruit/08abricate/apple341_contig.fasta\n"
     ]
    },
    {
     "name": "stderr",
     "output_type": "stream",
     "text": [
      "Using nucl database ncbi:  5386 sequences -  2023-Nov-4\n",
      "Processing: /xdisk/kcooper/caparicio/tree-fruit/08abricate/orange371_contig.fasta\n",
      "Found 10 genes in /xdisk/kcooper/caparicio/tree-fruit/08abricate/peach252_contig.fasta\n",
      "Tip: you can use the --summary option to combine reports in a presence/absence matrix.\n",
      "Done.\n"
     ]
    },
    {
     "name": "stdout",
     "output_type": "stream",
     "text": [
      "Processing completed for /xdisk/kcooper/caparicio/tree-fruit/08abricate/peach252_contig.fasta\n"
     ]
    },
    {
     "name": "stderr",
     "output_type": "stream",
     "text": [
      "Using nucl database ncbi:  5386 sequences -  2023-Nov-4\n",
      "Processing: /xdisk/kcooper/caparicio/tree-fruit/08abricate/orange402_contig.fasta\n",
      "Found 0 genes in /xdisk/kcooper/caparicio/tree-fruit/08abricate/orange382_contig.fasta\n",
      "Tip: the --fofn option allows you to feed in a big list of files to run on.\n",
      "Done.\n"
     ]
    },
    {
     "name": "stdout",
     "output_type": "stream",
     "text": [
      "Processing completed for /xdisk/kcooper/caparicio/tree-fruit/08abricate/orange382_contig.fasta\n"
     ]
    },
    {
     "name": "stderr",
     "output_type": "stream",
     "text": [
      "Using nucl database ncbi:  5386 sequences -  2023-Nov-4\n",
      "Processing: /xdisk/kcooper/caparicio/tree-fruit/08abricate/orange365_contig.fasta\n",
      "Found 0 genes in /xdisk/kcooper/caparicio/tree-fruit/08abricate/orange371_contig.fasta\n",
      "Tip: the abricate manual is at https://github.com/tseemann/abricate/blob/master/README.md\n",
      "Done.\n",
      "Using nucl database card:  2631 sequences -  2023-Nov-4\n",
      "Processing: /xdisk/kcooper/caparicio/tree-fruit/08abricate/orange371_contig.fasta\n",
      "Found 0 genes in /xdisk/kcooper/caparicio/tree-fruit/08abricate/orange402_contig.fasta\n",
      "Tip: the abricate manual is at https://github.com/tseemann/abricate/blob/master/README.md\n",
      "Done.\n",
      "Using nucl database card:  2631 sequences -  2023-Nov-4\n",
      "Processing: /xdisk/kcooper/caparicio/tree-fruit/08abricate/orange402_contig.fasta\n",
      "Found 0 genes in /xdisk/kcooper/caparicio/tree-fruit/08abricate/orange365_contig.fasta\n",
      "Tip: remember that abricate is unable to find AMR-mediated SNPs.\n",
      "Done.\n",
      "Using nucl database card:  2631 sequences -  2023-Nov-4\n",
      "Processing: /xdisk/kcooper/caparicio/tree-fruit/08abricate/orange365_contig.fasta\n",
      "Found 0 genes in /xdisk/kcooper/caparicio/tree-fruit/08abricate/orange402_contig.fasta\n",
      "Tip: remember that abricate is unable to find AMR-mediated SNPs.\n",
      "Done.\n",
      "Using nucl database resfinder:  3077 sequences -  2023-Nov-4\n",
      "Processing: /xdisk/kcooper/caparicio/tree-fruit/08abricate/orange402_contig.fasta\n",
      "Found 0 genes in /xdisk/kcooper/caparicio/tree-fruit/08abricate/orange371_contig.fasta\n",
      "Tip: found a bug in abricate? Post it at https://github.com/tseemann/abricate/issues.\n",
      "Done.\n",
      "Using nucl database resfinder:  3077 sequences -  2023-Nov-4\n",
      "Processing: /xdisk/kcooper/caparicio/tree-fruit/08abricate/orange371_contig.fasta\n",
      "Found 0 genes in /xdisk/kcooper/caparicio/tree-fruit/08abricate/orange365_contig.fasta\n",
      "Tip: remember that abricate is unable to find AMR-mediated SNPs.\n",
      "Done.\n",
      "Using nucl database resfinder:  3077 sequences -  2023-Nov-4\n",
      "Processing: /xdisk/kcooper/caparicio/tree-fruit/08abricate/orange365_contig.fasta\n",
      "Found 0 genes in /xdisk/kcooper/caparicio/tree-fruit/08abricate/orange347_contig.fasta\n",
      "Tip: you can use the --summary option to combine reports in a presence/absence matrix.\n",
      "Done.\n",
      "Using nucl database vfdb:  2597 sequences -  2023-Nov-4\n",
      "Processing: /xdisk/kcooper/caparicio/tree-fruit/08abricate/orange347_contig.fasta\n",
      "Found 0 genes in /xdisk/kcooper/caparicio/tree-fruit/08abricate/orange402_contig.fasta\n",
      "Tip: you can use the --summary option to combine reports in a presence/absence matrix.\n",
      "Done.\n",
      "Using nucl database argannot:  2223 sequences -  2023-Nov-4\n",
      "Processing: /xdisk/kcooper/caparicio/tree-fruit/08abricate/orange402_contig.fasta\n",
      "Found 0 genes in /xdisk/kcooper/caparicio/tree-fruit/08abricate/orange365_contig.fasta\n",
      "Tip: you can use the --summary option to combine reports in a presence/absence matrix.\n",
      "Done.\n",
      "Using nucl database argannot:  2223 sequences -  2023-Nov-4\n",
      "Processing: /xdisk/kcooper/caparicio/tree-fruit/08abricate/orange365_contig.fasta\n",
      "Found 0 genes in /xdisk/kcooper/caparicio/tree-fruit/08abricate/orange371_contig.fasta\n",
      "Tip: the abricate manual is at https://github.com/tseemann/abricate/blob/master/README.md\n",
      "Done.\n",
      "Using nucl database argannot:  2223 sequences -  2023-Nov-4\n",
      "Processing: /xdisk/kcooper/caparicio/tree-fruit/08abricate/orange371_contig.fasta\n",
      "Found 0 genes in /xdisk/kcooper/caparicio/tree-fruit/08abricate/orange402_contig.fasta\n",
      "Tip: you can use the --summary option to combine reports in a presence/absence matrix.\n",
      "Done.\n",
      "Using nucl database megares:  6635 sequences -  2023-Nov-4\n",
      "Processing: /xdisk/kcooper/caparicio/tree-fruit/08abricate/orange402_contig.fasta\n",
      "Found 0 genes in /xdisk/kcooper/caparicio/tree-fruit/08abricate/orange365_contig.fasta\n",
      "Tip: have a suggestion for abricate? Tell me at https://github.com/tseemann/abricate/issues\n",
      "Done.\n",
      "Using nucl database megares:  6635 sequences -  2023-Nov-4\n",
      "Processing: /xdisk/kcooper/caparicio/tree-fruit/08abricate/orange365_contig.fasta\n",
      "Found 0 genes in /xdisk/kcooper/caparicio/tree-fruit/08abricate/orange371_contig.fasta\n",
      "Tip: it's important to realise abricate uses DNA matching, not AA.\n",
      "Done.\n",
      "Using nucl database megares:  6635 sequences -  2023-Nov-4\n",
      "Processing: /xdisk/kcooper/caparicio/tree-fruit/08abricate/orange371_contig.fasta\n",
      "Found 1 genes in /xdisk/kcooper/caparicio/tree-fruit/08abricate/orange347_contig.fasta\n",
      "Tip: found a bug in abricate? Post it at https://github.com/tseemann/abricate/issues.\n",
      "Done.\n"
     ]
    },
    {
     "name": "stdout",
     "output_type": "stream",
     "text": [
      "Processing completed for /xdisk/kcooper/caparicio/tree-fruit/08abricate/orange347_contig.fasta\n"
     ]
    },
    {
     "name": "stderr",
     "output_type": "stream",
     "text": [
      "Found 0 genes in /xdisk/kcooper/caparicio/tree-fruit/08abricate/orange402_contig.fasta\n",
      "Tip: it's important to realise abricate uses DNA matching, not AA.\n",
      "Done.\n",
      "Using nucl database vfdb:  2597 sequences -  2023-Nov-4\n",
      "Processing: /xdisk/kcooper/caparicio/tree-fruit/08abricate/orange402_contig.fasta\n",
      "Found 0 genes in /xdisk/kcooper/caparicio/tree-fruit/08abricate/orange365_contig.fasta\n",
      "Tip: you can use the --summary option to combine reports in a presence/absence matrix.\n",
      "Done.\n",
      "Using nucl database vfdb:  2597 sequences -  2023-Nov-4\n",
      "Processing: /xdisk/kcooper/caparicio/tree-fruit/08abricate/orange365_contig.fasta\n",
      "Found 0 genes in /xdisk/kcooper/caparicio/tree-fruit/08abricate/orange371_contig.fasta\n",
      "Tip: you can use the --summary option to combine reports in a presence/absence matrix.\n",
      "Done.\n",
      "Using nucl database vfdb:  2597 sequences -  2023-Nov-4\n",
      "Processing: /xdisk/kcooper/caparicio/tree-fruit/08abricate/orange371_contig.fasta\n",
      "Found 0 genes in /xdisk/kcooper/caparicio/tree-fruit/08abricate/orange365_contig.fasta\n",
      "Tip: the --fofn option allows you to feed in a big list of files to run on.\n",
      "Done.\n"
     ]
    },
    {
     "name": "stdout",
     "output_type": "stream",
     "text": [
      "Processing completed for /xdisk/kcooper/caparicio/tree-fruit/08abricate/orange365_contig.fasta\n"
     ]
    },
    {
     "name": "stderr",
     "output_type": "stream",
     "text": [
      "Found 0 genes in /xdisk/kcooper/caparicio/tree-fruit/08abricate/orange402_contig.fasta\n",
      "Tip: have a suggestion for abricate? Tell me at https://github.com/tseemann/abricate/issues\n",
      "Done.\n"
     ]
    },
    {
     "name": "stdout",
     "output_type": "stream",
     "text": [
      "Processing completed for /xdisk/kcooper/caparicio/tree-fruit/08abricate/orange402_contig.fasta\n",
      "Processing completed for /xdisk/kcooper/caparicio/tree-fruit/08abricate/orange371_contig.fasta\n"
     ]
    },
    {
     "name": "stderr",
     "output_type": "stream",
     "text": [
      "Found 0 genes in /xdisk/kcooper/caparicio/tree-fruit/08abricate/orange371_contig.fasta\n",
      "Tip: found a bug in abricate? Post it at https://github.com/tseemann/abricate/issues.\n",
      "Done.\n"
     ]
    }
   ],
   "source": [
    "# Chunk 6: Run the main function with the directory containing your .fasta files\n",
    "# (If job does not finish within time limits, move finished files to another directory before restarting)\n",
    "directory_path = '/xdisk/kcooper/caparicio/tree-fruit/08abricate'\n",
    "main(directory_path)"
   ]
  },
  {
   "cell_type": "code",
   "execution_count": 13,
   "id": "87d1fe82",
   "metadata": {},
   "outputs": [],
   "source": [
    "# Chunk 7\n",
    "import glob"
   ]
  },
  {
   "cell_type": "code",
   "execution_count": 14,
   "id": "a95a3a8a",
   "metadata": {},
   "outputs": [],
   "source": [
    "# Chunk 8: Define a Function to Summarize Results\n",
    "def summarize_abricate_results(directory):\n",
    "    # Assuming the naming convention is {sample_name}_{database}.tab\n",
    "    # and you want to summarize across all such files\n",
    "    files = glob.glob(f\"{directory}/*_*.tab\")  # This matches all files ending with _database.tab\n",
    "    summary_file = f\"{directory}/summary.tab\"\n",
    "    summary_csv = f\"{directory}/summary.csv\"\n",
    "    \n",
    "    # Joining files with spaces for the command\n",
    "    files_str = \" \".join(files)\n",
    "    \n",
    "    # Summarize results into a tab file\n",
    "    summarize_command = f\"apptainer exec abricate.sif abricate --summary {files_str} > {summary_file}\"\n",
    "    os.system(summarize_command)\n",
    "    \n",
    "    # Convert summary to CSV for Phyloseq\n",
    "    summarize_csv_command = f\"apptainer exec abricate.sif abricate --summary --csv {files_str} > {summary_csv}\"\n",
    "    os.system(summarize_csv_command)\n",
    "    \n",
    "    print(\"Summarization and CSV conversion completed.\")"
   ]
  },
  {
   "cell_type": "code",
   "execution_count": 16,
   "id": "41a3e3d7",
   "metadata": {
    "scrolled": true
   },
   "outputs": [
    {
     "name": "stdout",
     "output_type": "stream",
     "text": [
      "Summarization and CSV conversion completed.\n"
     ]
    }
   ],
   "source": [
    "# Chunk 9: Call the Summarization Function\n",
    "summarize_abricate_results(directory_path)"
   ]
  }
 ],
 "metadata": {
  "kernelspec": {
   "display_name": "Python 3 (ipykernel)",
   "language": "python",
   "name": "python3"
  },
  "language_info": {
   "codemirror_mode": {
    "name": "ipython",
    "version": 3
   },
   "file_extension": ".py",
   "mimetype": "text/x-python",
   "name": "python",
   "nbconvert_exporter": "python",
   "pygments_lexer": "ipython3",
   "version": "3.8.12"
  }
 },
 "nbformat": 4,
 "nbformat_minor": 5
}
