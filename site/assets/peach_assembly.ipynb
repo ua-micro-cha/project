{
 "cells": [
  {
   "cell_type": "markdown",
   "id": "15682bda",
   "metadata": {},
   "source": [
    "### metaSPAdes Peach Assembly"
   ]
  },
  {
   "cell_type": "markdown",
   "id": "9bd378d5",
   "metadata": {},
   "source": [
    "https://ablab.github.io/spades/"
   ]
  },
  {
   "cell_type": "code",
   "execution_count": 1,
   "id": "ddc4b2b8",
   "metadata": {},
   "outputs": [],
   "source": [
    "module load spades"
   ]
  },
  {
   "cell_type": "markdown",
   "id": "e10a2b62",
   "metadata": {},
   "source": [
    "#### Change working directory"
   ]
  },
  {
   "cell_type": "code",
   "execution_count": 2,
   "id": "d8c8c7cc",
   "metadata": {},
   "outputs": [],
   "source": [
    "cd /xdisk/kcooper/caparicio/tree-fruit/"
   ]
  },
  {
   "cell_type": "markdown",
   "id": "c67f552b",
   "metadata": {},
   "source": [
    "#### Confirm directory change"
   ]
  },
  {
   "cell_type": "code",
   "execution_count": 3,
   "id": "a4ca9c36",
   "metadata": {},
   "outputs": [
    {
     "name": "stdout",
     "output_type": "stream",
     "text": [
      "/xdisk/kcooper/caparicio/tree-fruit\n"
     ]
    }
   ],
   "source": [
    "pwd"
   ]
  },
  {
   "cell_type": "markdown",
   "id": "8f21e07e",
   "metadata": {},
   "source": [
    "#### To test-run the FIRST SAMPLE, run this code"
   ]
  },
  {
   "cell_type": "code",
   "execution_count": null,
   "id": "a5da5dc8",
   "metadata": {},
   "outputs": [
    {
     "name": "stdout",
     "output_type": "stream",
     "text": [
      "Command line: /opt/ohpc/pub/apps/spades/3.15.5/bin/spades.py\t--meta\t-1\t/xdisk/kcooper/caparicio/tree-fruit/01c_fastp_reads/peaches191_1.trimmed.fastq\t-2\t/xdisk/kcooper/caparicio/tree-fruit/01c_fastp_reads/peaches191_2.trimmed.fastq\t-k\t21,33,55,77\t-o\t/xdisk/kcooper/caparicio/tree-fruit/02_assembly/peaches191\t\n",
      "\n",
      "System information:\n",
      "  SPAdes version: 3.15.5\n",
      "  Python version: 2.7.5\n",
      "  OS: Linux-3.10.0-1160.108.1.el7.x86_64-x86_64-with-centos-7.9.2009-Core\n",
      "\n",
      "Output dir: /xdisk/kcooper/caparicio/tree-fruit/02_assembly/peaches191\n",
      "Mode: read error correction and assembling\n",
      "Debug mode is turned OFF\n",
      "\n",
      "Dataset parameters:\n",
      "  Metagenomic mode\n",
      "  Reads:\n",
      "    Library number: 1, library type: paired-end\n",
      "      orientation: fr\n",
      "      left reads: ['/xdisk/kcooper/caparicio/tree-fruit/01c_fastp_reads/peaches191_1.trimmed.fastq']\n",
      "      right reads: ['/xdisk/kcooper/caparicio/tree-fruit/01c_fastp_reads/peaches191_2.trimmed.fastq']\n",
      "      interlaced reads: not specified\n",
      "      single reads: not specified\n",
      "      merged reads: not specified\n",
      "Read error correction parameters:\n",
      "  Iterations: 1\n",
      "  PHRED offset will be auto-detected\n",
      "  Corrected reads will be compressed\n",
      "Assembly parameters:\n",
      "  k: [21, 33, 55, 77]\n",
      "  Repeat resolution is enabled\n",
      "  Mismatch careful mode is turned OFF\n",
      "  MismatchCorrector will be SKIPPED\n",
      "  Coverage cutoff is turned OFF\n",
      "Other parameters:\n",
      "  Dir for temp files: /xdisk/kcooper/caparicio/tree-fruit/02_assembly/peaches191/tmp\n",
      "  Threads: 16\n",
      "  Memory limit (in Gb): 250\n",
      "\n",
      "\n",
      "======= SPAdes pipeline started. Log can be found here: /xdisk/kcooper/caparicio/tree-fruit/02_assembly/peaches191/spades.log\n",
      "\n",
      "/xdisk/kcooper/caparicio/tree-fruit/01c_fastp_reads/peaches191_2.trimmed.fastq: max reads length: 151\n",
      "/xdisk/kcooper/caparicio/tree-fruit/01c_fastp_reads/peaches191_1.trimmed.fastq: max reads length: 151\n",
      "\n",
      "Reads length: 151\n",
      "\n",
      "\n",
      "===== Before start started. \n",
      "\n",
      "\n",
      "===== Read error correction started. \n",
      "\n",
      "\n",
      "===== Read error correction started. \n",
      "\n",
      "\n",
      "== Running: /opt/ohpc/pub/apps/spades/3.15.5/bin/spades-hammer /xdisk/kcooper/caparicio/tree-fruit/02_assembly/peaches191/corrected/configs/config.info\n",
      "\n",
      "  0:00:00.000     1M / 11M   INFO    General                 (main.cpp                  :  75)   Starting BayesHammer, built from refs/heads/spades_3.15.5, git revision e757b8216f9a038fb616e9551a2d4891b2d19ad7\n",
      "  0:00:00.000     1M / 11M   INFO    General                 (main.cpp                  :  76)   Loading config from /xdisk/kcooper/caparicio/tree-fruit/02_assembly/peaches191/corrected/configs/config.info\n",
      "  0:00:00.000     1M / 11M   INFO    General                 (main.cpp                  :  78)   Maximum # of threads to use (adjusted due to OMP capabilities): 1\n",
      "  0:00:00.000     1M / 11M   INFO    General                 (memory_limit.cpp          :  54)   Memory limit set to 250 Gb\n",
      "  0:00:00.000     1M / 11M   INFO    General                 (main.cpp                  :  86)   Trying to determine PHRED offset\n",
      "  0:00:00.001     1M / 11M   INFO    General                 (main.cpp                  :  92)   Determined value is 33\n",
      "  0:00:00.001     1M / 11M   INFO    General                 (hammer_tools.cpp          :  38)   Hamming graph threshold tau=1, k=21, subkmer positions = [ 0 10 ]\n",
      "  0:00:00.001     1M / 11M   INFO    General                 (main.cpp                  : 113)   Size of aux. kmer data 24 bytes\n",
      "     === ITERATION 0 begins ===\n",
      "  0:00:00.001     1M / 11M   INFO   K-mer Counting           (kmer_data.cpp             : 283)   Estimating k-mer count\n",
      "  0:00:00.002    17M / 22M   INFO   K-mer Counting           (kmer_data.cpp             : 288)   Processing /xdisk/kcooper/caparicio/tree-fruit/01c_fastp_reads/peaches191_1.trimmed.fastq\n",
      "  0:00:46.082    17M / 22M   INFO   K-mer Counting           (kmer_data.cpp             : 297)   Processed 5439185 reads\n",
      "  0:00:46.082    17M / 22M   INFO   K-mer Counting           (kmer_data.cpp             : 288)   Processing /xdisk/kcooper/caparicio/tree-fruit/01c_fastp_reads/peaches191_2.trimmed.fastq\n",
      "  0:01:30.955    17M / 22M   INFO   K-mer Counting           (kmer_data.cpp             : 297)   Processed 10878370 reads\n",
      "  0:01:30.955    17M / 22M   INFO   K-mer Counting           (kmer_data.cpp             : 302)   Total 10878370 reads processed\n",
      "  0:01:31.160    17M / 22M   INFO   K-mer Counting           (kmer_data.cpp             : 305)   Estimated 1666092171 distinct kmers\n",
      "  0:01:31.160     1M / 22M   INFO   K-mer Counting           (kmer_data.cpp             : 309)   Filtering singleton k-mers\n",
      "  0:01:31.160  5193M / 5193M INFO   K-mer Counting           (kmer_data.cpp             : 315)   Processing /xdisk/kcooper/caparicio/tree-fruit/01c_fastp_reads/peaches191_1.trimmed.fastq\n",
      "  0:05:35.153  5193M / 5208M INFO   K-mer Counting           (kmer_data.cpp             : 324)   Processed 5439185 reads\n",
      "  0:05:35.153  5193M / 5208M INFO   K-mer Counting           (kmer_data.cpp             : 315)   Processing /xdisk/kcooper/caparicio/tree-fruit/01c_fastp_reads/peaches191_2.trimmed.fastq\n",
      "  0:10:16.760  5193M / 5208M INFO   K-mer Counting           (kmer_data.cpp             : 324)   Processed 10878370 reads\n",
      "  0:10:16.760  5193M / 5208M INFO   K-mer Counting           (kmer_data.cpp             : 329)   Total 10878370 reads processed\n",
      "  0:10:16.772  5193M / 5208M INFO    General                 (kmer_index_builder.hpp    : 243)   Splitting kmer instances into 16 files using 1 threads. This might take a while.\n",
      "  0:10:16.776  5193M / 5208M INFO    General                 (file_limit.hpp            :  42)   Open file limit set to 4096\n",
      "  0:10:16.776  5193M / 5208M INFO    General                 (kmer_splitter.hpp         :  93)   Memory available for splitting buffers: 81.643 Gb\n",
      "  0:10:16.776  5193M / 5208M INFO    General                 (kmer_splitter.hpp         : 101)   Using cell size of 4194304\n",
      "  0:10:16.778  5769M / 5769M INFO   K-mer Splitting          (kmer_data.cpp             :  97)   Processing /xdisk/kcooper/caparicio/tree-fruit/01c_fastp_reads/peaches191_1.trimmed.fastq\n",
      "  0:10:36.020  5769M / 5769M INFO   K-mer Splitting          (kmer_data.cpp             : 107)   Processed 397509 reads\n",
      "  0:10:54.858  5769M / 5769M INFO   K-mer Splitting          (kmer_data.cpp             : 107)   Processed 792612 reads\n",
      "  0:11:13.898  5769M / 5769M INFO   K-mer Splitting          (kmer_data.cpp             : 107)   Processed 1189325 reads\n",
      "  0:11:32.760  5769M / 5769M INFO   K-mer Splitting          (kmer_data.cpp             : 107)   Processed 1585515 reads\n",
      "  0:11:51.678  5769M / 5769M INFO   K-mer Splitting          (kmer_data.cpp             : 107)   Processed 1982429 reads\n",
      "  0:12:10.582  5769M / 5769M INFO   K-mer Splitting          (kmer_data.cpp             : 107)   Processed 2380585 reads\n",
      "  0:12:29.444  5769M / 5769M INFO   K-mer Splitting          (kmer_data.cpp             : 107)   Processed 2778722 reads\n",
      "  0:13:45.118  5769M / 5769M INFO   K-mer Splitting          (kmer_data.cpp             : 107)   Processed 4369761 reads\n",
      "  0:14:35.862  5769M / 5769M INFO   K-mer Splitting          (kmer_data.cpp             :  97)   Processing /xdisk/kcooper/caparicio/tree-fruit/01c_fastp_reads/peaches191_2.trimmed.fastq\n",
      "  0:17:07.187  5769M / 5769M INFO   K-mer Splitting          (kmer_data.cpp             : 107)   Processed 8628575 reads\n",
      "  0:18:53.539  5769M / 5769M INFO   K-mer Splitting          (kmer_data.cpp             : 112)   Total 10878370 reads processed\n",
      "  0:18:53.539  5193M / 5766M INFO    General                 (kmer_index_builder.hpp    : 249)   Starting k-mer counting.\n",
      "  0:20:16.841  5193M / 6103M INFO    General                 (kmer_index_builder.hpp    : 260)   K-mer counting done. There are 611897986 kmers in total.\n",
      "  0:20:16.855     5M / 6103M INFO   K-mer Index Building     (kmer_index_builder.hpp    : 395)   Building perfect hash indices\n",
      "  0:22:18.666   450M / 6103M INFO   K-mer Index Building     (kmer_index_builder.hpp    : 431)   Index built. Total 611897986 kmers, 441963536 bytes occupied (5.77826 bits per kmer).\n",
      "  0:22:18.666   450M / 6103M INFO   K-mer Counting           (kmer_data.cpp             : 354)   Arranging kmers in hash map order\n",
      "  0:24:04.705    10G / 10G   INFO    General                 (main.cpp                  : 148)   Clustering Hamming graph.\n"
     ]
    }
   ],
   "source": [
    "spades.py --meta \\\n",
    "-1 01c_fastp_reads/peaches191_1.trimmed.fastq \\\n",
    "-2 01c_fastp_reads/peaches191_2.trimmed.fastq \\\n",
    "-k 21,33,55,77 \\\n",
    "-o 02_assembly/peaches191"
   ]
  },
  {
   "cell_type": "markdown",
   "id": "5055f47f",
   "metadata": {},
   "source": [
    "#### If the above ran normally, run the following to PROCESS REMAINING"
   ]
  },
  {
   "cell_type": "code",
   "execution_count": null,
   "id": "8edfa623",
   "metadata": {},
   "outputs": [],
   "source": [
    "files1=(01c_fastp_reads/*peaches*_1.trimmed.fastq)\n",
    "\n",
    "for f1 in \"${files1[@]}\"; do\n",
    "    f2=\"${f1/_1.trimmed.fastq/_2.trimmed.fastq}\" # Constructs the path to the reverse read file\n",
    "    sample_name=$(basename \"$f1\" \"_1.trimmed.fastq\") # Extracts the sample name\n",
    "    output_dir=\"02_assembly/${sample_name}\" # Specifies the output directory based on the sample name\n",
    "\n",
    "    # Ensure a clean start by checking and cleaning any previous run data in the output directory\n",
    "    if [ \"$(ls -A $output_dir)\" ]; then\n",
    "        echo \"Output directory $output_dir is not empty. Cleaning up...\"\n",
    "        rm -rf ${output_dir:?}/{,.[!.],..?}* # This attempts to remove all files, including hidden ones\n",
    "        # Verify clean-up success\n",
    "        if [ \"$(ls -A $output_dir)\" ]; then\n",
    "            echo \"Failed to clean the directory, attempting again...\"\n",
    "            rm -rf ${output_dir:?}/{,.[!.],..?}*\n",
    "            # Final verification\n",
    "            if [ \"$(ls -A $output_dir)\" ]; then\n",
    "                echo \"Critical error: Output directory $output_dir cannot be cleaned.\"\n",
    "                exit 1 # Exit if still not clean to prevent SPAdes error\n",
    "            fi\n",
    "        fi\n",
    "    else\n",
    "        echo \"Creating output directory $output_dir\"\n",
    "        mkdir -p \"$output_dir\"\n",
    "    fi\n",
    "    \n",
    "    # Move or backup the old log file if not resuming\n",
    "    if [ -f \"${output_dir}/spades_peach.log\" ]; then\n",
    "        mv \"${output_dir}/spades_peach.log\" \"${output_dir}/spades_peach.log.backup\"\n",
    "    fi\n",
    "\n",
    "    # Creates the temporary directory only after successful cleaning verification\n",
    "    mkdir -p \"${output_dir}/tmp\" \n",
    "    temp_dir=\"${output_dir}/tmp\" # Specifies a temporary directory for SPAdes processing within the output directory\n",
    "\n",
    "    # Construct the initial SPAdes command\n",
    "    cmd=\"spades.py --meta -k 21,33,55,77 -o $output_dir --tmp-dir $temp_dir -1 $f1 -2 $f2\"\n",
    "    \n",
    "    # If a previous SPAdes log exists, modify the command to resume from the last checkpoint\n",
    "    if [ -f \"${output_dir}/spades_peach.log\" ]; then\n",
    "        echo \"Attempting to resume SPAdes assembly in $output_dir\"\n",
    "        cmd=\"spades.py -o $output_dir --restart-from last\"\n",
    "    else\n",
    "        echo \"Starting new SPAdes assembly in $output_dir\"\n",
    "    fi\n",
    "    \n",
    "    echo \"Running command: $cmd\"\n",
    "    eval $cmd\n",
    "    \n",
    "    # Check for successful completion and clean up temporary files\n",
    "    if [ -f \"${output_dir}/contigs.fasta\" ]; then\n",
    "        echo \"Assembly completed successfully for $sample_name. Cleaning up temporary files.\"\n",
    "        rm -rf \"$temp_dir\"\n",
    "    else\n",
    "        echo \"Assembly incomplete or failed for $sample_name. Temporary files retained for troubleshooting.\"\n",
    "    fi\n",
    "done"
   ]
  }
 ],
 "metadata": {
  "kernelspec": {
   "display_name": "Bash",
   "language": "bash",
   "name": "bash"
  },
  "language_info": {
   "codemirror_mode": "shell",
   "file_extension": ".sh",
   "mimetype": "text/x-sh",
   "name": "bash"
  }
 },
 "nbformat": 4,
 "nbformat_minor": 5
}
