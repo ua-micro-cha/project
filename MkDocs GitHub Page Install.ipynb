{
 "cells": [
  {
   "cell_type": "markdown",
   "id": "54a2fb95-3fc8-49a4-97f1-e60cf09cd924",
   "metadata": {},
   "source": [
    "# MkDocs GitHub Pages"
   ]
  },
  {
   "cell_type": "markdown",
   "id": "15731f14-bc02-4320-965b-cdb7054aee14",
   "metadata": {},
   "source": [
    "## Install MkDocs and the necessary Python extensions "
   ]
  },
  {
   "cell_type": "code",
   "execution_count": 2,
   "id": "3ff9a1c9-d8fa-4e13-8e71-e0984251252e",
   "metadata": {},
   "outputs": [
    {
     "name": "stdout",
     "output_type": "stream",
     "text": [
      "README.md       \u001b[0m\u001b[34;42mdocs\u001b[0m/                 \u001b[34;42mmkdocs-material\u001b[0m/\n",
      "Untitled.ipynb  micro_cha_push.ipynb  mkdocs.yml\n"
     ]
    }
   ],
   "source": [
    "ls"
   ]
  },
  {
   "cell_type": "code",
   "execution_count": 3,
   "id": "1314f834-fb58-4b62-9cf7-b3d96c2aaaa8",
   "metadata": {},
   "outputs": [
    {
     "name": "stdout",
     "output_type": "stream",
     "text": [
      "Requirement already satisfied: mkdocs in /usr/local/python/3.10.13/lib/python3.10/site-packages (1.6.0)\n",
      "Requirement already satisfied: pymdown-extensions in /usr/local/python/3.10.13/lib/python3.10/site-packages (10.8.1)\n",
      "Requirement already satisfied: click>=7.0 in /usr/local/python/3.10.13/lib/python3.10/site-packages (from mkdocs) (8.1.7)\n",
      "Requirement already satisfied: ghp-import>=1.0 in /usr/local/python/3.10.13/lib/python3.10/site-packages (from mkdocs) (2.1.0)\n",
      "Requirement already satisfied: jinja2>=2.11.1 in /home/codespace/.local/lib/python3.10/site-packages (from mkdocs) (3.1.3)\n",
      "Requirement already satisfied: markdown>=3.3.6 in /usr/local/python/3.10.13/lib/python3.10/site-packages (from mkdocs) (3.6)\n",
      "Requirement already satisfied: markupsafe>=2.0.1 in /home/codespace/.local/lib/python3.10/site-packages (from mkdocs) (2.1.5)\n",
      "Requirement already satisfied: mergedeep>=1.3.4 in /usr/local/python/3.10.13/lib/python3.10/site-packages (from mkdocs) (1.3.4)\n",
      "Requirement already satisfied: mkdocs-get-deps>=0.2.0 in /usr/local/python/3.10.13/lib/python3.10/site-packages (from mkdocs) (0.2.0)\n",
      "Requirement already satisfied: packaging>=20.5 in /home/codespace/.local/lib/python3.10/site-packages (from mkdocs) (24.0)\n",
      "Requirement already satisfied: pathspec>=0.11.1 in /usr/local/python/3.10.13/lib/python3.10/site-packages (from mkdocs) (0.12.1)\n",
      "Requirement already satisfied: pyyaml-env-tag>=0.1 in /usr/local/python/3.10.13/lib/python3.10/site-packages (from mkdocs) (0.1)\n",
      "Requirement already satisfied: pyyaml>=5.1 in /home/codespace/.local/lib/python3.10/site-packages (from mkdocs) (6.0.1)\n",
      "Requirement already satisfied: watchdog>=2.0 in /usr/local/python/3.10.13/lib/python3.10/site-packages (from mkdocs) (4.0.0)\n",
      "Requirement already satisfied: python-dateutil>=2.8.1 in /home/codespace/.local/lib/python3.10/site-packages (from ghp-import>=1.0->mkdocs) (2.9.0.post0)\n",
      "Requirement already satisfied: platformdirs>=2.2.0 in /home/codespace/.local/lib/python3.10/site-packages (from mkdocs-get-deps>=0.2.0->mkdocs) (4.2.0)\n",
      "Requirement already satisfied: six>=1.5 in /home/codespace/.local/lib/python3.10/site-packages (from python-dateutil>=2.8.1->ghp-import>=1.0->mkdocs) (1.16.0)\n"
     ]
    }
   ],
   "source": [
    "!pip install mkdocs pymdown-extensions"
   ]
  },
  {
   "cell_type": "markdown",
   "id": "23cb6b7e-2070-4d56-be4c-a595a805559f",
   "metadata": {},
   "source": [
    "Before deploying, verify the MkDocs setup"
   ]
  },
  {
   "cell_type": "markdown",
   "id": "a3173133-89ae-495e-a3e8-4cb4f8bca8c5",
   "metadata": {},
   "source": [
    "## Build site locally"
   ]
  },
  {
   "cell_type": "code",
   "execution_count": 5,
   "id": "da60fad9-6075-44e4-ab61-fb632186c096",
   "metadata": {},
   "outputs": [
    {
     "name": "stdout",
     "output_type": "stream",
     "text": [
      "\u001b[31mERROR   -  \u001b[0mConfig value 'markdown_extensions': Failed to load extension\n",
      "           'pymdownx.tildey'.\n",
      "           ModuleNotFoundError: No module named 'pymdownx.tildey'\n",
      "\n",
      "Aborted with a configuration error!\n"
     ]
    }
   ],
   "source": [
    "!mkdocs build"
   ]
  },
  {
   "cell_type": "code",
   "execution_count": 2,
   "id": "218bdd98-5a9c-4df9-b81e-28b98a0f4ad0",
   "metadata": {},
   "outputs": [
    {
     "name": "stdout",
     "output_type": "stream",
     "text": [
      "Requirement already satisfied: mkdocs-table-reader-plugin in /usr/local/python/3.10.13/lib/python3.10/site-packages (2.1.0)\n",
      "Requirement already satisfied: mkdocs>=1.0 in /usr/local/python/3.10.13/lib/python3.10/site-packages (from mkdocs-table-reader-plugin) (1.6.0)\n",
      "Requirement already satisfied: pandas>=1.1 in /home/codespace/.local/lib/python3.10/site-packages (from mkdocs-table-reader-plugin) (2.2.1)\n",
      "Requirement already satisfied: tabulate>=0.8.7 in /usr/local/python/3.10.13/lib/python3.10/site-packages (from mkdocs-table-reader-plugin) (0.9.0)\n",
      "Requirement already satisfied: PyYAML>=5.4.1 in /home/codespace/.local/lib/python3.10/site-packages (from mkdocs-table-reader-plugin) (6.0.1)\n",
      "Requirement already satisfied: click>=7.0 in /usr/local/python/3.10.13/lib/python3.10/site-packages (from mkdocs>=1.0->mkdocs-table-reader-plugin) (8.1.7)\n",
      "Requirement already satisfied: ghp-import>=1.0 in /usr/local/python/3.10.13/lib/python3.10/site-packages (from mkdocs>=1.0->mkdocs-table-reader-plugin) (2.1.0)\n",
      "Requirement already satisfied: jinja2>=2.11.1 in /home/codespace/.local/lib/python3.10/site-packages (from mkdocs>=1.0->mkdocs-table-reader-plugin) (3.1.3)\n",
      "Requirement already satisfied: markdown>=3.3.6 in /usr/local/python/3.10.13/lib/python3.10/site-packages (from mkdocs>=1.0->mkdocs-table-reader-plugin) (3.6)\n",
      "Requirement already satisfied: markupsafe>=2.0.1 in /home/codespace/.local/lib/python3.10/site-packages (from mkdocs>=1.0->mkdocs-table-reader-plugin) (2.1.5)\n",
      "Requirement already satisfied: mergedeep>=1.3.4 in /usr/local/python/3.10.13/lib/python3.10/site-packages (from mkdocs>=1.0->mkdocs-table-reader-plugin) (1.3.4)\n",
      "Requirement already satisfied: mkdocs-get-deps>=0.2.0 in /usr/local/python/3.10.13/lib/python3.10/site-packages (from mkdocs>=1.0->mkdocs-table-reader-plugin) (0.2.0)\n",
      "Requirement already satisfied: packaging>=20.5 in /home/codespace/.local/lib/python3.10/site-packages (from mkdocs>=1.0->mkdocs-table-reader-plugin) (24.0)\n",
      "Requirement already satisfied: pathspec>=0.11.1 in /usr/local/python/3.10.13/lib/python3.10/site-packages (from mkdocs>=1.0->mkdocs-table-reader-plugin) (0.12.1)\n",
      "Requirement already satisfied: pyyaml-env-tag>=0.1 in /usr/local/python/3.10.13/lib/python3.10/site-packages (from mkdocs>=1.0->mkdocs-table-reader-plugin) (0.1)\n",
      "Requirement already satisfied: watchdog>=2.0 in /usr/local/python/3.10.13/lib/python3.10/site-packages (from mkdocs>=1.0->mkdocs-table-reader-plugin) (4.0.0)\n",
      "Requirement already satisfied: numpy<2,>=1.22.4 in /home/codespace/.local/lib/python3.10/site-packages (from pandas>=1.1->mkdocs-table-reader-plugin) (1.26.4)\n",
      "Requirement already satisfied: python-dateutil>=2.8.2 in /home/codespace/.local/lib/python3.10/site-packages (from pandas>=1.1->mkdocs-table-reader-plugin) (2.9.0.post0)\n",
      "Requirement already satisfied: pytz>=2020.1 in /home/codespace/.local/lib/python3.10/site-packages (from pandas>=1.1->mkdocs-table-reader-plugin) (2024.1)\n",
      "Requirement already satisfied: tzdata>=2022.7 in /home/codespace/.local/lib/python3.10/site-packages (from pandas>=1.1->mkdocs-table-reader-plugin) (2024.1)\n",
      "Requirement already satisfied: platformdirs>=2.2.0 in /home/codespace/.local/lib/python3.10/site-packages (from mkdocs-get-deps>=0.2.0->mkdocs>=1.0->mkdocs-table-reader-plugin) (4.2.0)\n",
      "Requirement already satisfied: six>=1.5 in /home/codespace/.local/lib/python3.10/site-packages (from python-dateutil>=2.8.2->pandas>=1.1->mkdocs-table-reader-plugin) (1.16.0)\n"
     ]
    }
   ],
   "source": [
    "!pip install mkdocs-table-reader-plugin"
   ]
  }
 ],
 "metadata": {
  "kernelspec": {
   "display_name": "Python 3 (ipykernel)",
   "language": "python",
   "name": "python3"
  },
  "language_info": {
   "codemirror_mode": {
    "name": "ipython",
    "version": 3
   },
   "file_extension": ".py",
   "mimetype": "text/x-python",
   "name": "python",
   "nbconvert_exporter": "python",
   "pygments_lexer": "ipython3",
   "version": "3.10.13"
  }
 },
 "nbformat": 4,
 "nbformat_minor": 5
}
