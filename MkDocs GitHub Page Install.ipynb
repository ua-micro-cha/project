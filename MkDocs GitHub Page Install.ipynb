{
 "cells": [
  {
   "cell_type": "markdown",
   "id": "54a2fb95-3fc8-49a4-97f1-e60cf09cd924",
   "metadata": {},
   "source": [
    "# MkDocs GitHub Pages"
   ]
  },
  {
   "cell_type": "markdown",
   "id": "15731f14-bc02-4320-965b-cdb7054aee14",
   "metadata": {},
   "source": [
    "## Install MkDocs and the necessary Python extensions "
   ]
  },
  {
   "cell_type": "code",
   "execution_count": 2,
   "id": "3ff9a1c9-d8fa-4e13-8e71-e0984251252e",
   "metadata": {},
   "outputs": [
    {
     "name": "stdout",
     "output_type": "stream",
     "text": [
      "README.md       \u001b[0m\u001b[34;42mdocs\u001b[0m/                 \u001b[34;42mmkdocs-material\u001b[0m/\n",
      "Untitled.ipynb  micro_cha_push.ipynb  mkdocs.yml\n"
     ]
    }
   ],
   "source": [
    "ls"
   ]
  },
  {
   "cell_type": "code",
   "execution_count": 3,
   "id": "1314f834-fb58-4b62-9cf7-b3d96c2aaaa8",
   "metadata": {},
   "outputs": [
    {
     "name": "stdout",
     "output_type": "stream",
     "text": [
      "Requirement already satisfied: mkdocs in /usr/local/python/3.10.13/lib/python3.10/site-packages (1.6.0)\n",
      "Requirement already satisfied: pymdown-extensions in /usr/local/python/3.10.13/lib/python3.10/site-packages (10.8.1)\n",
      "Requirement already satisfied: click>=7.0 in /usr/local/python/3.10.13/lib/python3.10/site-packages (from mkdocs) (8.1.7)\n",
      "Requirement already satisfied: ghp-import>=1.0 in /usr/local/python/3.10.13/lib/python3.10/site-packages (from mkdocs) (2.1.0)\n",
      "Requirement already satisfied: jinja2>=2.11.1 in /home/codespace/.local/lib/python3.10/site-packages (from mkdocs) (3.1.3)\n",
      "Requirement already satisfied: markdown>=3.3.6 in /usr/local/python/3.10.13/lib/python3.10/site-packages (from mkdocs) (3.6)\n",
      "Requirement already satisfied: markupsafe>=2.0.1 in /home/codespace/.local/lib/python3.10/site-packages (from mkdocs) (2.1.5)\n",
      "Requirement already satisfied: mergedeep>=1.3.4 in /usr/local/python/3.10.13/lib/python3.10/site-packages (from mkdocs) (1.3.4)\n",
      "Requirement already satisfied: mkdocs-get-deps>=0.2.0 in /usr/local/python/3.10.13/lib/python3.10/site-packages (from mkdocs) (0.2.0)\n",
      "Requirement already satisfied: packaging>=20.5 in /home/codespace/.local/lib/python3.10/site-packages (from mkdocs) (24.0)\n",
      "Requirement already satisfied: pathspec>=0.11.1 in /usr/local/python/3.10.13/lib/python3.10/site-packages (from mkdocs) (0.12.1)\n",
      "Requirement already satisfied: pyyaml-env-tag>=0.1 in /usr/local/python/3.10.13/lib/python3.10/site-packages (from mkdocs) (0.1)\n",
      "Requirement already satisfied: pyyaml>=5.1 in /home/codespace/.local/lib/python3.10/site-packages (from mkdocs) (6.0.1)\n",
      "Requirement already satisfied: watchdog>=2.0 in /usr/local/python/3.10.13/lib/python3.10/site-packages (from mkdocs) (4.0.0)\n",
      "Requirement already satisfied: python-dateutil>=2.8.1 in /home/codespace/.local/lib/python3.10/site-packages (from ghp-import>=1.0->mkdocs) (2.9.0.post0)\n",
      "Requirement already satisfied: platformdirs>=2.2.0 in /home/codespace/.local/lib/python3.10/site-packages (from mkdocs-get-deps>=0.2.0->mkdocs) (4.2.0)\n",
      "Requirement already satisfied: six>=1.5 in /home/codespace/.local/lib/python3.10/site-packages (from python-dateutil>=2.8.1->ghp-import>=1.0->mkdocs) (1.16.0)\n"
     ]
    }
   ],
   "source": [
    "!pip install mkdocs pymdown-extensions"
   ]
  },
  {
   "cell_type": "markdown",
   "id": "23cb6b7e-2070-4d56-be4c-a595a805559f",
   "metadata": {},
   "source": [
    "Before deploying, verify the MkDocs setup"
   ]
  },
  {
   "cell_type": "markdown",
   "id": "a3173133-89ae-495e-a3e8-4cb4f8bca8c5",
   "metadata": {},
   "source": [
    "## Build site locally"
   ]
  },
  {
   "cell_type": "code",
   "execution_count": 5,
   "id": "da60fad9-6075-44e4-ab61-fb632186c096",
   "metadata": {},
   "outputs": [
    {
     "name": "stdout",
     "output_type": "stream",
     "text": [
      "\u001b[31mERROR   -  \u001b[0mConfig value 'markdown_extensions': Failed to load extension\n",
      "           'pymdownx.tildey'.\n",
      "           ModuleNotFoundError: No module named 'pymdownx.tildey'\n",
      "\n",
      "Aborted with a configuration error!\n"
     ]
    }
   ],
   "source": [
    "!mkdocs build"
   ]
  },
  {
   "cell_type": "code",
   "execution_count": 2,
   "id": "218bdd98-5a9c-4df9-b81e-28b98a0f4ad0",
   "metadata": {},
   "outputs": [
    {
     "name": "stdout",
     "output_type": "stream",
     "text": [
      "Requirement already satisfied: mkdocs-table-reader-plugin in /usr/local/python/3.10.13/lib/python3.10/site-packages (2.1.0)\n",
      "Requirement already satisfied: mkdocs>=1.0 in /usr/local/python/3.10.13/lib/python3.10/site-packages (from mkdocs-table-reader-plugin) (1.6.0)\n",
      "Requirement already satisfied: pandas>=1.1 in /home/codespace/.local/lib/python3.10/site-packages (from mkdocs-table-reader-plugin) (2.2.1)\n",
      "Requirement already satisfied: tabulate>=0.8.7 in /usr/local/python/3.10.13/lib/python3.10/site-packages (from mkdocs-table-reader-plugin) (0.9.0)\n",
      "Requirement already satisfied: PyYAML>=5.4.1 in /home/codespace/.local/lib/python3.10/site-packages (from mkdocs-table-reader-plugin) (6.0.1)\n",
      "Requirement already satisfied: click>=7.0 in /usr/local/python/3.10.13/lib/python3.10/site-packages (from mkdocs>=1.0->mkdocs-table-reader-plugin) (8.1.7)\n",
      "Requirement already satisfied: ghp-import>=1.0 in /usr/local/python/3.10.13/lib/python3.10/site-packages (from mkdocs>=1.0->mkdocs-table-reader-plugin) (2.1.0)\n",
      "Requirement already satisfied: jinja2>=2.11.1 in /home/codespace/.local/lib/python3.10/site-packages (from mkdocs>=1.0->mkdocs-table-reader-plugin) (3.1.3)\n",
      "Requirement already satisfied: markdown>=3.3.6 in /usr/local/python/3.10.13/lib/python3.10/site-packages (from mkdocs>=1.0->mkdocs-table-reader-plugin) (3.6)\n",
      "Requirement already satisfied: markupsafe>=2.0.1 in /home/codespace/.local/lib/python3.10/site-packages (from mkdocs>=1.0->mkdocs-table-reader-plugin) (2.1.5)\n",
      "Requirement already satisfied: mergedeep>=1.3.4 in /usr/local/python/3.10.13/lib/python3.10/site-packages (from mkdocs>=1.0->mkdocs-table-reader-plugin) (1.3.4)\n",
      "Requirement already satisfied: mkdocs-get-deps>=0.2.0 in /usr/local/python/3.10.13/lib/python3.10/site-packages (from mkdocs>=1.0->mkdocs-table-reader-plugin) (0.2.0)\n",
      "Requirement already satisfied: packaging>=20.5 in /home/codespace/.local/lib/python3.10/site-packages (from mkdocs>=1.0->mkdocs-table-reader-plugin) (24.0)\n",
      "Requirement already satisfied: pathspec>=0.11.1 in /usr/local/python/3.10.13/lib/python3.10/site-packages (from mkdocs>=1.0->mkdocs-table-reader-plugin) (0.12.1)\n",
      "Requirement already satisfied: pyyaml-env-tag>=0.1 in /usr/local/python/3.10.13/lib/python3.10/site-packages (from mkdocs>=1.0->mkdocs-table-reader-plugin) (0.1)\n",
      "Requirement already satisfied: watchdog>=2.0 in /usr/local/python/3.10.13/lib/python3.10/site-packages (from mkdocs>=1.0->mkdocs-table-reader-plugin) (4.0.0)\n",
      "Requirement already satisfied: numpy<2,>=1.22.4 in /home/codespace/.local/lib/python3.10/site-packages (from pandas>=1.1->mkdocs-table-reader-plugin) (1.26.4)\n",
      "Requirement already satisfied: python-dateutil>=2.8.2 in /home/codespace/.local/lib/python3.10/site-packages (from pandas>=1.1->mkdocs-table-reader-plugin) (2.9.0.post0)\n",
      "Requirement already satisfied: pytz>=2020.1 in /home/codespace/.local/lib/python3.10/site-packages (from pandas>=1.1->mkdocs-table-reader-plugin) (2024.1)\n",
      "Requirement already satisfied: tzdata>=2022.7 in /home/codespace/.local/lib/python3.10/site-packages (from pandas>=1.1->mkdocs-table-reader-plugin) (2024.1)\n",
      "Requirement already satisfied: platformdirs>=2.2.0 in /home/codespace/.local/lib/python3.10/site-packages (from mkdocs-get-deps>=0.2.0->mkdocs>=1.0->mkdocs-table-reader-plugin) (4.2.0)\n",
      "Requirement already satisfied: six>=1.5 in /home/codespace/.local/lib/python3.10/site-packages (from python-dateutil>=2.8.2->pandas>=1.1->mkdocs-table-reader-plugin) (1.16.0)\n"
     ]
    }
   ],
   "source": [
    "!pip install mkdocs-table-reader-plugin"
   ]
  },
  {
   "cell_type": "code",
   "execution_count": 1,
   "id": "4b0a922d-8b77-4f65-86fa-027e65e3a492",
   "metadata": {},
   "outputs": [
    {
     "name": "stdout",
     "output_type": "stream",
     "text": [
      "/home/codespace/.python/current/bin/python\n"
     ]
    }
   ],
   "source": [
    "!which python"
   ]
  },
  {
   "cell_type": "code",
   "execution_count": 2,
   "id": "1cb18c75-81d0-4997-8b29-48268b360b33",
   "metadata": {},
   "outputs": [
    {
     "name": "stdout",
     "output_type": "stream",
     "text": [
      "[Errno 20] Not a directory: '/home/codespace/.python/current/bin/python'\n",
      "/workspaces/project\n"
     ]
    },
    {
     "name": "stderr",
     "output_type": "stream",
     "text": [
      "/home/codespace/.local/lib/python3.10/site-packages/IPython/core/magics/osm.py:393: UserWarning: This is now an optional IPython functionality, using bookmarks requires you to install the `pickleshare` library.\n",
      "  bkms = self.shell.db.get('bookmarks', {})\n"
     ]
    }
   ],
   "source": [
    "cd /home/codespace/.python/current/bin/python"
   ]
  },
  {
   "cell_type": "code",
   "execution_count": 3,
   "id": "cc9c3f7a-6ae3-4d93-b63a-53abb4ae124c",
   "metadata": {},
   "outputs": [
    {
     "name": "stdout",
     "output_type": "stream",
     "text": [
      "/home/codespace/.python/current/bin/mkdocs\n"
     ]
    }
   ],
   "source": [
    "!which mkdocs"
   ]
  },
  {
   "cell_type": "code",
   "execution_count": 5,
   "id": "cc1428e1-b3ea-4ac3-a768-52712c708b2d",
   "metadata": {},
   "outputs": [
    {
     "name": "stdout",
     "output_type": "stream",
     "text": [
      "[Errno 20] Not a directory: '/home/codespace/.python/current/bin/mkdocs'\n",
      "/workspaces/project\n"
     ]
    }
   ],
   "source": [
    "cd /home/codespace/.python/current/bin/mkdocs"
   ]
  },
  {
   "cell_type": "code",
   "execution_count": 1,
   "id": "a19e9ed0-6a2d-4858-8f1b-11cef4c67377",
   "metadata": {},
   "outputs": [
    {
     "name": "stdout",
     "output_type": "stream",
     "text": [
      "Package                    Version\n",
      "-------------------------- --------------\n",
      "anyio                      4.3.0\n",
      "argon2-cffi                23.1.0\n",
      "argon2-cffi-bindings       21.2.0\n",
      "arrow                      1.3.0\n",
      "asttokens                  2.4.1\n",
      "async-lru                  2.0.4\n",
      "attrs                      23.2.0\n",
      "Babel                      2.14.0\n",
      "beautifulsoup4             4.12.3\n",
      "bleach                     6.1.0\n",
      "certifi                    2024.2.2\n",
      "cffi                       1.16.0\n",
      "charset-normalizer         3.3.2\n",
      "click                      8.1.7\n",
      "colorama                   0.4.6\n",
      "comm                       0.2.2\n",
      "contourpy                  1.2.1\n",
      "csscompressor              0.9.5\n",
      "cycler                     0.12.1\n",
      "debugpy                    1.8.1\n",
      "decorator                  5.1.1\n",
      "defusedxml                 0.7.1\n",
      "exceptiongroup             1.2.0\n",
      "executing                  2.0.1\n",
      "fastjsonschema             2.19.1\n",
      "filelock                   3.13.3\n",
      "fonttools                  4.50.0\n",
      "fqdn                       1.5.1\n",
      "fsspec                     2024.3.1\n",
      "ghp-import                 2.1.0\n",
      "gitdb                      4.0.11\n",
      "GitPython                  3.1.43\n",
      "h11                        0.14.0\n",
      "htmlmin2                   0.1.13\n",
      "httpcore                   1.0.5\n",
      "httpx                      0.27.0\n",
      "idna                       3.6\n",
      "ipykernel                  6.29.4\n",
      "ipython                    8.23.0\n",
      "isoduration                20.11.0\n",
      "jedi                       0.19.1\n",
      "Jinja2                     3.1.3\n",
      "joblib                     1.3.2\n",
      "jsmin                      3.0.1\n",
      "json5                      0.9.24\n",
      "jsonpointer                2.4\n",
      "jsonschema                 4.21.1\n",
      "jsonschema-specifications  2023.12.1\n",
      "jupyter_client             8.6.1\n",
      "jupyter_core               5.7.2\n",
      "jupyter-events             0.10.0\n",
      "jupyter-lsp                2.2.4\n",
      "jupyter_server             2.13.0\n",
      "jupyter-server-mathjax     0.2.6\n",
      "jupyter_server_terminals   0.5.3\n",
      "jupyterlab                 4.1.5\n",
      "jupyterlab_git             0.50.0\n",
      "jupyterlab_pygments        0.3.0\n",
      "jupyterlab_server          2.25.4\n",
      "kiwisolver                 1.4.5\n",
      "Markdown                   3.6\n",
      "MarkupSafe                 2.1.5\n",
      "matplotlib                 3.8.3\n",
      "matplotlib-inline          0.1.6\n",
      "mergedeep                  1.3.4\n",
      "mistune                    3.0.2\n",
      "mkdocs                     1.6.0\n",
      "mkdocs-get-deps            0.2.0\n",
      "mkdocs-material            9.5.20\n",
      "mkdocs-material-extensions 1.3.1\n",
      "mkdocs-minify-plugin       0.8.0\n",
      "mkdocs-table-reader-plugin 2.1.0\n",
      "mpmath                     1.3.0\n",
      "nbclient                   0.10.0\n",
      "nbconvert                  7.16.3\n",
      "nbdime                     4.0.1\n",
      "nbformat                   5.10.3\n",
      "nest-asyncio               1.6.0\n",
      "networkx                   3.2.1\n",
      "notebook_shim              0.2.4\n",
      "numpy                      1.26.4\n",
      "nvidia-cublas-cu12         12.1.3.1\n",
      "nvidia-cuda-cupti-cu12     12.1.105\n",
      "nvidia-cuda-nvrtc-cu12     12.1.105\n",
      "nvidia-cuda-runtime-cu12   12.1.105\n",
      "nvidia-cudnn-cu12          8.9.2.26\n",
      "nvidia-cufft-cu12          11.0.2.54\n",
      "nvidia-curand-cu12         10.3.2.106\n",
      "nvidia-cusolver-cu12       11.4.5.107\n",
      "nvidia-cusparse-cu12       12.1.0.106\n",
      "nvidia-nccl-cu12           2.19.3\n",
      "nvidia-nvjitlink-cu12      12.4.99\n",
      "nvidia-nvtx-cu12           12.1.105\n",
      "overrides                  7.7.0\n",
      "packaging                  24.0\n",
      "paginate                   0.5.6\n",
      "pandas                     2.2.1\n",
      "pandocfilters              1.5.1\n",
      "parso                      0.8.3\n",
      "pathspec                   0.12.1\n",
      "pexpect                    4.9.0\n",
      "pillow                     10.3.0\n",
      "pip                        24.0\n",
      "platformdirs               4.2.0\n",
      "plotly                     5.20.0\n",
      "prometheus_client          0.20.0\n",
      "prompt-toolkit             3.0.43\n",
      "psutil                     5.9.8\n",
      "ptyprocess                 0.7.0\n",
      "pure-eval                  0.2.2\n",
      "pycparser                  2.22\n",
      "Pygments                   2.17.2\n",
      "pymdown-extensions         10.8.1\n",
      "pyparsing                  3.1.2\n",
      "python-dateutil            2.9.0.post0\n",
      "python-json-logger         2.0.7\n",
      "pytz                       2024.1\n",
      "PyYAML                     6.0.1\n",
      "pyyaml_env_tag             0.1\n",
      "pyzmq                      25.1.2\n",
      "referencing                0.34.0\n",
      "regex                      2024.4.28\n",
      "requests                   2.31.0\n",
      "rfc3339-validator          0.1.4\n",
      "rfc3986-validator          0.1.1\n",
      "rpds-py                    0.18.0\n",
      "scikit-learn               1.4.1.post1\n",
      "scipy                      1.13.0\n",
      "seaborn                    0.13.2\n",
      "Send2Trash                 1.8.2\n",
      "setuptools                 68.2.2\n",
      "six                        1.16.0\n",
      "smmap                      5.0.1\n",
      "sniffio                    1.3.1\n",
      "soupsieve                  2.5\n",
      "stack-data                 0.6.3\n",
      "sympy                      1.12\n",
      "tabulate                   0.9.0\n",
      "tenacity                   8.2.3\n",
      "terminado                  0.18.1\n",
      "threadpoolctl              3.4.0\n",
      "tinycss2                   1.2.1\n",
      "tomli                      2.0.1\n",
      "torch                      2.2.2\n",
      "tornado                    6.4\n",
      "traitlets                  5.14.2\n",
      "triton                     2.2.0\n",
      "types-python-dateutil      2.9.0.20240316\n",
      "typing_extensions          4.10.0\n",
      "tzdata                     2024.1\n",
      "uri-template               1.3.0\n",
      "urllib3                    2.0.7\n",
      "watchdog                   4.0.0\n",
      "wcwidth                    0.2.13\n",
      "webcolors                  1.13\n",
      "webencodings               0.5.1\n",
      "websocket-client           1.7.0\n"
     ]
    }
   ],
   "source": [
    "!pip list"
   ]
  },
  {
   "cell_type": "code",
   "execution_count": null,
   "id": "222a0e56-9a53-4b65-b042-45b87f1b8959",
   "metadata": {},
   "outputs": [],
   "source": []
  },
  {
   "cell_type": "code",
   "execution_count": 1,
   "id": "1a25d8a7-639c-4582-a709-21fa53e4826d",
   "metadata": {},
   "outputs": [
    {
     "data": {
      "text/plain": [
       "'/workspaces/project'"
      ]
     },
     "execution_count": 1,
     "metadata": {},
     "output_type": "execute_result"
    }
   ],
   "source": [
    "pwd"
   ]
  },
  {
   "cell_type": "code",
   "execution_count": null,
   "id": "c6fa0c5a-bf3b-481b-ac1a-040c9e9fadb4",
   "metadata": {},
   "outputs": [],
   "source": [
    "# In a Jupyter notebook cell\n",
    "import os\n",
    "os._exit(00)  # This is one way to restart the kernel programmatically"
   ]
  },
  {
   "cell_type": "code",
   "execution_count": 1,
   "id": "b850018c-46ce-4853-ab35-16936df98c15",
   "metadata": {
    "scrolled": true
   },
   "outputs": [
    {
     "name": "stdout",
     "output_type": "stream",
     "text": [
      "Note: you may need to restart the kernel to use updated packages.\n"
     ]
    }
   ],
   "source": [
    "pip freeze > requirements.txt"
   ]
  },
  {
   "cell_type": "code",
   "execution_count": 2,
   "id": "597209ab-7728-4bea-a7c7-f1dbeb386d37",
   "metadata": {},
   "outputs": [
    {
     "name": "stdout",
     "output_type": "stream",
     "text": [
      "Requirement already satisfied: anyio==4.3.0 in /home/codespace/.local/lib/python3.10/site-packages (from -r requirements.txt (line 1)) (4.3.0)\n",
      "Requirement already satisfied: argon2-cffi==23.1.0 in /home/codespace/.local/lib/python3.10/site-packages (from -r requirements.txt (line 2)) (23.1.0)\n",
      "Requirement already satisfied: argon2-cffi-bindings==21.2.0 in /home/codespace/.local/lib/python3.10/site-packages (from -r requirements.txt (line 3)) (21.2.0)\n",
      "Requirement already satisfied: arrow==1.3.0 in /home/codespace/.local/lib/python3.10/site-packages (from -r requirements.txt (line 4)) (1.3.0)\n",
      "Requirement already satisfied: asttokens==2.4.1 in /home/codespace/.local/lib/python3.10/site-packages (from -r requirements.txt (line 5)) (2.4.1)\n",
      "Requirement already satisfied: async-lru==2.0.4 in /home/codespace/.local/lib/python3.10/site-packages (from -r requirements.txt (line 6)) (2.0.4)\n",
      "Requirement already satisfied: attrs==23.2.0 in /home/codespace/.local/lib/python3.10/site-packages (from -r requirements.txt (line 7)) (23.2.0)\n",
      "Requirement already satisfied: Babel==2.14.0 in /home/codespace/.local/lib/python3.10/site-packages (from -r requirements.txt (line 8)) (2.14.0)\n",
      "Requirement already satisfied: beautifulsoup4==4.12.3 in /home/codespace/.local/lib/python3.10/site-packages (from -r requirements.txt (line 9)) (4.12.3)\n",
      "Requirement already satisfied: bleach==6.1.0 in /home/codespace/.local/lib/python3.10/site-packages (from -r requirements.txt (line 10)) (6.1.0)\n",
      "Requirement already satisfied: certifi==2024.2.2 in /home/codespace/.local/lib/python3.10/site-packages (from -r requirements.txt (line 11)) (2024.2.2)\n",
      "Requirement already satisfied: cffi==1.16.0 in /home/codespace/.local/lib/python3.10/site-packages (from -r requirements.txt (line 12)) (1.16.0)\n",
      "Requirement already satisfied: charset-normalizer==3.3.2 in /home/codespace/.local/lib/python3.10/site-packages (from -r requirements.txt (line 13)) (3.3.2)\n",
      "Requirement already satisfied: click==8.1.7 in /usr/local/python/3.10.13/lib/python3.10/site-packages (from -r requirements.txt (line 14)) (8.1.7)\n",
      "Requirement already satisfied: colorama==0.4.6 in /home/codespace/.local/lib/python3.10/site-packages (from -r requirements.txt (line 15)) (0.4.6)\n",
      "Requirement already satisfied: comm==0.2.2 in /home/codespace/.local/lib/python3.10/site-packages (from -r requirements.txt (line 16)) (0.2.2)\n",
      "Requirement already satisfied: contourpy==1.2.1 in /home/codespace/.local/lib/python3.10/site-packages (from -r requirements.txt (line 17)) (1.2.1)\n",
      "Requirement already satisfied: csscompressor==0.9.5 in /usr/local/python/3.10.13/lib/python3.10/site-packages (from -r requirements.txt (line 18)) (0.9.5)\n",
      "Requirement already satisfied: cycler==0.12.1 in /home/codespace/.local/lib/python3.10/site-packages (from -r requirements.txt (line 19)) (0.12.1)\n",
      "Requirement already satisfied: debugpy==1.8.1 in /home/codespace/.local/lib/python3.10/site-packages (from -r requirements.txt (line 20)) (1.8.1)\n",
      "Requirement already satisfied: decorator==5.1.1 in /home/codespace/.local/lib/python3.10/site-packages (from -r requirements.txt (line 21)) (5.1.1)\n",
      "Requirement already satisfied: defusedxml==0.7.1 in /home/codespace/.local/lib/python3.10/site-packages (from -r requirements.txt (line 22)) (0.7.1)\n",
      "Requirement already satisfied: exceptiongroup==1.2.0 in /home/codespace/.local/lib/python3.10/site-packages (from -r requirements.txt (line 23)) (1.2.0)\n",
      "Requirement already satisfied: executing==2.0.1 in /home/codespace/.local/lib/python3.10/site-packages (from -r requirements.txt (line 24)) (2.0.1)\n",
      "Requirement already satisfied: fastjsonschema==2.19.1 in /home/codespace/.local/lib/python3.10/site-packages (from -r requirements.txt (line 25)) (2.19.1)\n",
      "Requirement already satisfied: filelock==3.13.3 in /home/codespace/.local/lib/python3.10/site-packages (from -r requirements.txt (line 26)) (3.13.3)\n",
      "Requirement already satisfied: fonttools==4.50.0 in /home/codespace/.local/lib/python3.10/site-packages (from -r requirements.txt (line 27)) (4.50.0)\n",
      "Requirement already satisfied: fqdn==1.5.1 in /home/codespace/.local/lib/python3.10/site-packages (from -r requirements.txt (line 28)) (1.5.1)\n",
      "Requirement already satisfied: fsspec==2024.3.1 in /home/codespace/.local/lib/python3.10/site-packages (from -r requirements.txt (line 29)) (2024.3.1)\n",
      "Requirement already satisfied: ghp-import==2.1.0 in /usr/local/python/3.10.13/lib/python3.10/site-packages (from -r requirements.txt (line 30)) (2.1.0)\n",
      "Requirement already satisfied: gitdb==4.0.11 in /home/codespace/.local/lib/python3.10/site-packages (from -r requirements.txt (line 31)) (4.0.11)\n",
      "Requirement already satisfied: GitPython==3.1.43 in /home/codespace/.local/lib/python3.10/site-packages (from -r requirements.txt (line 32)) (3.1.43)\n",
      "Requirement already satisfied: h11==0.14.0 in /home/codespace/.local/lib/python3.10/site-packages (from -r requirements.txt (line 33)) (0.14.0)\n",
      "Requirement already satisfied: htmlmin2==0.1.13 in /usr/local/python/3.10.13/lib/python3.10/site-packages (from -r requirements.txt (line 34)) (0.1.13)\n",
      "Requirement already satisfied: httpcore==1.0.5 in /home/codespace/.local/lib/python3.10/site-packages (from -r requirements.txt (line 35)) (1.0.5)\n",
      "Requirement already satisfied: httpx==0.27.0 in /home/codespace/.local/lib/python3.10/site-packages (from -r requirements.txt (line 36)) (0.27.0)\n",
      "Requirement already satisfied: idna==3.6 in /home/codespace/.local/lib/python3.10/site-packages (from -r requirements.txt (line 37)) (3.6)\n",
      "Requirement already satisfied: ipykernel==6.29.4 in /home/codespace/.local/lib/python3.10/site-packages (from -r requirements.txt (line 38)) (6.29.4)\n",
      "Requirement already satisfied: ipython==8.23.0 in /home/codespace/.local/lib/python3.10/site-packages (from -r requirements.txt (line 39)) (8.23.0)\n",
      "Requirement already satisfied: isoduration==20.11.0 in /home/codespace/.local/lib/python3.10/site-packages (from -r requirements.txt (line 40)) (20.11.0)\n",
      "Requirement already satisfied: jedi==0.19.1 in /home/codespace/.local/lib/python3.10/site-packages (from -r requirements.txt (line 41)) (0.19.1)\n",
      "Requirement already satisfied: Jinja2==3.1.3 in /home/codespace/.local/lib/python3.10/site-packages (from -r requirements.txt (line 42)) (3.1.3)\n",
      "Requirement already satisfied: joblib==1.3.2 in /home/codespace/.local/lib/python3.10/site-packages (from -r requirements.txt (line 43)) (1.3.2)\n",
      "Requirement already satisfied: jsmin==3.0.1 in /usr/local/python/3.10.13/lib/python3.10/site-packages (from -r requirements.txt (line 44)) (3.0.1)\n",
      "Requirement already satisfied: json5==0.9.24 in /home/codespace/.local/lib/python3.10/site-packages (from -r requirements.txt (line 45)) (0.9.24)\n",
      "Requirement already satisfied: jsonpointer==2.4 in /home/codespace/.local/lib/python3.10/site-packages (from -r requirements.txt (line 46)) (2.4)\n",
      "Requirement already satisfied: jsonschema==4.21.1 in /home/codespace/.local/lib/python3.10/site-packages (from -r requirements.txt (line 47)) (4.21.1)\n",
      "Requirement already satisfied: jsonschema-specifications==2023.12.1 in /home/codespace/.local/lib/python3.10/site-packages (from -r requirements.txt (line 48)) (2023.12.1)\n",
      "Requirement already satisfied: jupyter-events==0.10.0 in /home/codespace/.local/lib/python3.10/site-packages (from -r requirements.txt (line 49)) (0.10.0)\n",
      "Requirement already satisfied: jupyter-lsp==2.2.4 in /home/codespace/.local/lib/python3.10/site-packages (from -r requirements.txt (line 50)) (2.2.4)\n",
      "Requirement already satisfied: jupyter-server-mathjax==0.2.6 in /home/codespace/.local/lib/python3.10/site-packages (from -r requirements.txt (line 51)) (0.2.6)\n",
      "Requirement already satisfied: jupyter_client==8.6.1 in /home/codespace/.local/lib/python3.10/site-packages (from -r requirements.txt (line 52)) (8.6.1)\n",
      "Requirement already satisfied: jupyter_core==5.7.2 in /home/codespace/.local/lib/python3.10/site-packages (from -r requirements.txt (line 53)) (5.7.2)\n",
      "Requirement already satisfied: jupyter_server==2.13.0 in /home/codespace/.local/lib/python3.10/site-packages (from -r requirements.txt (line 54)) (2.13.0)\n",
      "Requirement already satisfied: jupyter_server_terminals==0.5.3 in /home/codespace/.local/lib/python3.10/site-packages (from -r requirements.txt (line 55)) (0.5.3)\n",
      "Requirement already satisfied: jupyterlab==4.1.5 in /home/codespace/.local/lib/python3.10/site-packages (from -r requirements.txt (line 56)) (4.1.5)\n",
      "Requirement already satisfied: jupyterlab_git==0.50.0 in /home/codespace/.local/lib/python3.10/site-packages (from -r requirements.txt (line 57)) (0.50.0)\n",
      "Requirement already satisfied: jupyterlab_pygments==0.3.0 in /home/codespace/.local/lib/python3.10/site-packages (from -r requirements.txt (line 58)) (0.3.0)\n",
      "Requirement already satisfied: jupyterlab_server==2.25.4 in /home/codespace/.local/lib/python3.10/site-packages (from -r requirements.txt (line 59)) (2.25.4)\n",
      "Requirement already satisfied: kiwisolver==1.4.5 in /home/codespace/.local/lib/python3.10/site-packages (from -r requirements.txt (line 60)) (1.4.5)\n",
      "Requirement already satisfied: Markdown==3.6 in /usr/local/python/3.10.13/lib/python3.10/site-packages (from -r requirements.txt (line 61)) (3.6)\n",
      "Requirement already satisfied: MarkupSafe==2.1.5 in /home/codespace/.local/lib/python3.10/site-packages (from -r requirements.txt (line 62)) (2.1.5)\n",
      "Requirement already satisfied: matplotlib==3.8.3 in /home/codespace/.local/lib/python3.10/site-packages (from -r requirements.txt (line 63)) (3.8.3)\n",
      "Requirement already satisfied: matplotlib-inline==0.1.6 in /home/codespace/.local/lib/python3.10/site-packages (from -r requirements.txt (line 64)) (0.1.6)\n",
      "Requirement already satisfied: mergedeep==1.3.4 in /usr/local/python/3.10.13/lib/python3.10/site-packages (from -r requirements.txt (line 65)) (1.3.4)\n",
      "Requirement already satisfied: mistune==3.0.2 in /home/codespace/.local/lib/python3.10/site-packages (from -r requirements.txt (line 66)) (3.0.2)\n",
      "Requirement already satisfied: mkdocs==1.6.0 in /usr/local/python/3.10.13/lib/python3.10/site-packages (from -r requirements.txt (line 67)) (1.6.0)\n",
      "Requirement already satisfied: mkdocs-get-deps==0.2.0 in /usr/local/python/3.10.13/lib/python3.10/site-packages (from -r requirements.txt (line 68)) (0.2.0)\n",
      "Requirement already satisfied: mkdocs-material==9.5.20 in /usr/local/python/3.10.13/lib/python3.10/site-packages (from -r requirements.txt (line 69)) (9.5.20)\n",
      "Requirement already satisfied: mkdocs-material-extensions==1.3.1 in /usr/local/python/3.10.13/lib/python3.10/site-packages (from -r requirements.txt (line 70)) (1.3.1)\n",
      "Requirement already satisfied: mkdocs-minify-plugin==0.8.0 in /usr/local/python/3.10.13/lib/python3.10/site-packages (from -r requirements.txt (line 71)) (0.8.0)\n",
      "Requirement already satisfied: mkdocs-table-reader-plugin==2.1.0 in /usr/local/python/3.10.13/lib/python3.10/site-packages (from -r requirements.txt (line 72)) (2.1.0)\n",
      "Requirement already satisfied: mpmath==1.3.0 in /home/codespace/.local/lib/python3.10/site-packages (from -r requirements.txt (line 73)) (1.3.0)\n",
      "Requirement already satisfied: nbclient==0.10.0 in /home/codespace/.local/lib/python3.10/site-packages (from -r requirements.txt (line 74)) (0.10.0)\n",
      "Requirement already satisfied: nbconvert==7.16.3 in /home/codespace/.local/lib/python3.10/site-packages (from -r requirements.txt (line 75)) (7.16.3)\n",
      "Requirement already satisfied: nbdime==4.0.1 in /home/codespace/.local/lib/python3.10/site-packages (from -r requirements.txt (line 76)) (4.0.1)\n",
      "Requirement already satisfied: nbformat==5.10.3 in /home/codespace/.local/lib/python3.10/site-packages (from -r requirements.txt (line 77)) (5.10.3)\n",
      "Requirement already satisfied: nest-asyncio==1.6.0 in /home/codespace/.local/lib/python3.10/site-packages (from -r requirements.txt (line 78)) (1.6.0)\n",
      "Requirement already satisfied: networkx==3.2.1 in /home/codespace/.local/lib/python3.10/site-packages (from -r requirements.txt (line 79)) (3.2.1)\n",
      "Requirement already satisfied: notebook_shim==0.2.4 in /home/codespace/.local/lib/python3.10/site-packages (from -r requirements.txt (line 80)) (0.2.4)\n",
      "Requirement already satisfied: numpy==1.26.4 in /home/codespace/.local/lib/python3.10/site-packages (from -r requirements.txt (line 81)) (1.26.4)\n",
      "Requirement already satisfied: nvidia-cublas-cu12==12.1.3.1 in /home/codespace/.local/lib/python3.10/site-packages (from -r requirements.txt (line 82)) (12.1.3.1)\n",
      "Requirement already satisfied: nvidia-cuda-cupti-cu12==12.1.105 in /home/codespace/.local/lib/python3.10/site-packages (from -r requirements.txt (line 83)) (12.1.105)\n",
      "Requirement already satisfied: nvidia-cuda-nvrtc-cu12==12.1.105 in /home/codespace/.local/lib/python3.10/site-packages (from -r requirements.txt (line 84)) (12.1.105)\n",
      "Requirement already satisfied: nvidia-cuda-runtime-cu12==12.1.105 in /home/codespace/.local/lib/python3.10/site-packages (from -r requirements.txt (line 85)) (12.1.105)\n",
      "Requirement already satisfied: nvidia-cudnn-cu12==8.9.2.26 in /home/codespace/.local/lib/python3.10/site-packages (from -r requirements.txt (line 86)) (8.9.2.26)\n",
      "Requirement already satisfied: nvidia-cufft-cu12==11.0.2.54 in /home/codespace/.local/lib/python3.10/site-packages (from -r requirements.txt (line 87)) (11.0.2.54)\n",
      "Requirement already satisfied: nvidia-curand-cu12==10.3.2.106 in /home/codespace/.local/lib/python3.10/site-packages (from -r requirements.txt (line 88)) (10.3.2.106)\n",
      "Requirement already satisfied: nvidia-cusolver-cu12==11.4.5.107 in /home/codespace/.local/lib/python3.10/site-packages (from -r requirements.txt (line 89)) (11.4.5.107)\n",
      "Requirement already satisfied: nvidia-cusparse-cu12==12.1.0.106 in /home/codespace/.local/lib/python3.10/site-packages (from -r requirements.txt (line 90)) (12.1.0.106)\n",
      "Requirement already satisfied: nvidia-nccl-cu12==2.19.3 in /home/codespace/.local/lib/python3.10/site-packages (from -r requirements.txt (line 91)) (2.19.3)\n",
      "Requirement already satisfied: nvidia-nvjitlink-cu12==12.4.99 in /home/codespace/.local/lib/python3.10/site-packages (from -r requirements.txt (line 92)) (12.4.99)\n",
      "Requirement already satisfied: nvidia-nvtx-cu12==12.1.105 in /home/codespace/.local/lib/python3.10/site-packages (from -r requirements.txt (line 93)) (12.1.105)\n",
      "Requirement already satisfied: overrides==7.7.0 in /home/codespace/.local/lib/python3.10/site-packages (from -r requirements.txt (line 94)) (7.7.0)\n",
      "Requirement already satisfied: packaging==24.0 in /home/codespace/.local/lib/python3.10/site-packages (from -r requirements.txt (line 95)) (24.0)\n",
      "Requirement already satisfied: paginate==0.5.6 in /usr/local/python/3.10.13/lib/python3.10/site-packages (from -r requirements.txt (line 96)) (0.5.6)\n",
      "Requirement already satisfied: pandas==2.2.1 in /home/codespace/.local/lib/python3.10/site-packages (from -r requirements.txt (line 97)) (2.2.1)\n",
      "Requirement already satisfied: pandocfilters==1.5.1 in /home/codespace/.local/lib/python3.10/site-packages (from -r requirements.txt (line 98)) (1.5.1)\n",
      "Requirement already satisfied: parso==0.8.3 in /home/codespace/.local/lib/python3.10/site-packages (from -r requirements.txt (line 99)) (0.8.3)\n",
      "Requirement already satisfied: pathspec==0.12.1 in /usr/local/python/3.10.13/lib/python3.10/site-packages (from -r requirements.txt (line 100)) (0.12.1)\n",
      "Requirement already satisfied: pexpect==4.9.0 in /home/codespace/.local/lib/python3.10/site-packages (from -r requirements.txt (line 101)) (4.9.0)\n",
      "Requirement already satisfied: pillow==10.3.0 in /home/codespace/.local/lib/python3.10/site-packages (from -r requirements.txt (line 102)) (10.3.0)\n",
      "Requirement already satisfied: platformdirs==4.2.0 in /home/codespace/.local/lib/python3.10/site-packages (from -r requirements.txt (line 103)) (4.2.0)\n",
      "Requirement already satisfied: plotly==5.20.0 in /home/codespace/.local/lib/python3.10/site-packages (from -r requirements.txt (line 104)) (5.20.0)\n",
      "Requirement already satisfied: prometheus_client==0.20.0 in /home/codespace/.local/lib/python3.10/site-packages (from -r requirements.txt (line 105)) (0.20.0)\n",
      "Requirement already satisfied: prompt-toolkit==3.0.43 in /home/codespace/.local/lib/python3.10/site-packages (from -r requirements.txt (line 106)) (3.0.43)\n",
      "Requirement already satisfied: psutil==5.9.8 in /home/codespace/.local/lib/python3.10/site-packages (from -r requirements.txt (line 107)) (5.9.8)\n",
      "Requirement already satisfied: ptyprocess==0.7.0 in /home/codespace/.local/lib/python3.10/site-packages (from -r requirements.txt (line 108)) (0.7.0)\n",
      "Requirement already satisfied: pure-eval==0.2.2 in /home/codespace/.local/lib/python3.10/site-packages (from -r requirements.txt (line 109)) (0.2.2)\n",
      "Requirement already satisfied: pycparser==2.22 in /home/codespace/.local/lib/python3.10/site-packages (from -r requirements.txt (line 110)) (2.22)\n",
      "Requirement already satisfied: Pygments==2.17.2 in /home/codespace/.local/lib/python3.10/site-packages (from -r requirements.txt (line 111)) (2.17.2)\n",
      "Requirement already satisfied: pymdown-extensions==10.8.1 in /usr/local/python/3.10.13/lib/python3.10/site-packages (from -r requirements.txt (line 112)) (10.8.1)\n",
      "Requirement already satisfied: pyparsing==3.1.2 in /home/codespace/.local/lib/python3.10/site-packages (from -r requirements.txt (line 113)) (3.1.2)\n",
      "Requirement already satisfied: python-dateutil==2.9.0.post0 in /home/codespace/.local/lib/python3.10/site-packages (from -r requirements.txt (line 114)) (2.9.0.post0)\n",
      "Requirement already satisfied: python-json-logger==2.0.7 in /home/codespace/.local/lib/python3.10/site-packages (from -r requirements.txt (line 115)) (2.0.7)\n",
      "Requirement already satisfied: pytz==2024.1 in /home/codespace/.local/lib/python3.10/site-packages (from -r requirements.txt (line 116)) (2024.1)\n",
      "Requirement already satisfied: PyYAML==6.0.1 in /home/codespace/.local/lib/python3.10/site-packages (from -r requirements.txt (line 117)) (6.0.1)\n",
      "Requirement already satisfied: pyyaml_env_tag==0.1 in /usr/local/python/3.10.13/lib/python3.10/site-packages (from -r requirements.txt (line 118)) (0.1)\n",
      "Requirement already satisfied: pyzmq==25.1.2 in /home/codespace/.local/lib/python3.10/site-packages (from -r requirements.txt (line 119)) (25.1.2)\n",
      "Requirement already satisfied: referencing==0.34.0 in /home/codespace/.local/lib/python3.10/site-packages (from -r requirements.txt (line 120)) (0.34.0)\n",
      "Requirement already satisfied: regex==2024.4.28 in /usr/local/python/3.10.13/lib/python3.10/site-packages (from -r requirements.txt (line 121)) (2024.4.28)\n",
      "Requirement already satisfied: requests==2.31.0 in /home/codespace/.local/lib/python3.10/site-packages (from -r requirements.txt (line 122)) (2.31.0)\n",
      "Requirement already satisfied: rfc3339-validator==0.1.4 in /home/codespace/.local/lib/python3.10/site-packages (from -r requirements.txt (line 123)) (0.1.4)\n",
      "Requirement already satisfied: rfc3986-validator==0.1.1 in /home/codespace/.local/lib/python3.10/site-packages (from -r requirements.txt (line 124)) (0.1.1)\n",
      "Requirement already satisfied: rpds-py==0.18.0 in /home/codespace/.local/lib/python3.10/site-packages (from -r requirements.txt (line 125)) (0.18.0)\n",
      "Requirement already satisfied: scikit-learn==1.4.1.post1 in /home/codespace/.local/lib/python3.10/site-packages (from -r requirements.txt (line 126)) (1.4.1.post1)\n",
      "Requirement already satisfied: scipy==1.13.0 in /home/codespace/.local/lib/python3.10/site-packages (from -r requirements.txt (line 127)) (1.13.0)\n",
      "Requirement already satisfied: seaborn==0.13.2 in /home/codespace/.local/lib/python3.10/site-packages (from -r requirements.txt (line 128)) (0.13.2)\n",
      "Requirement already satisfied: Send2Trash==1.8.2 in /home/codespace/.local/lib/python3.10/site-packages (from -r requirements.txt (line 129)) (1.8.2)\n",
      "Requirement already satisfied: six==1.16.0 in /home/codespace/.local/lib/python3.10/site-packages (from -r requirements.txt (line 130)) (1.16.0)\n",
      "Requirement already satisfied: smmap==5.0.1 in /home/codespace/.local/lib/python3.10/site-packages (from -r requirements.txt (line 131)) (5.0.1)\n",
      "Requirement already satisfied: sniffio==1.3.1 in /home/codespace/.local/lib/python3.10/site-packages (from -r requirements.txt (line 132)) (1.3.1)\n",
      "Requirement already satisfied: soupsieve==2.5 in /home/codespace/.local/lib/python3.10/site-packages (from -r requirements.txt (line 133)) (2.5)\n",
      "Requirement already satisfied: stack-data==0.6.3 in /home/codespace/.local/lib/python3.10/site-packages (from -r requirements.txt (line 134)) (0.6.3)\n",
      "Requirement already satisfied: sympy==1.12 in /home/codespace/.local/lib/python3.10/site-packages (from -r requirements.txt (line 135)) (1.12)\n",
      "Requirement already satisfied: tabulate==0.9.0 in /usr/local/python/3.10.13/lib/python3.10/site-packages (from -r requirements.txt (line 136)) (0.9.0)\n",
      "Requirement already satisfied: tenacity==8.2.3 in /home/codespace/.local/lib/python3.10/site-packages (from -r requirements.txt (line 137)) (8.2.3)\n",
      "Requirement already satisfied: terminado==0.18.1 in /home/codespace/.local/lib/python3.10/site-packages (from -r requirements.txt (line 138)) (0.18.1)\n",
      "Requirement already satisfied: threadpoolctl==3.4.0 in /home/codespace/.local/lib/python3.10/site-packages (from -r requirements.txt (line 139)) (3.4.0)\n",
      "Requirement already satisfied: tinycss2==1.2.1 in /home/codespace/.local/lib/python3.10/site-packages (from -r requirements.txt (line 140)) (1.2.1)\n",
      "Requirement already satisfied: tomli==2.0.1 in /home/codespace/.local/lib/python3.10/site-packages (from -r requirements.txt (line 141)) (2.0.1)\n",
      "Requirement already satisfied: torch==2.2.2 in /home/codespace/.local/lib/python3.10/site-packages (from -r requirements.txt (line 142)) (2.2.2)\n",
      "Requirement already satisfied: tornado==6.4 in /home/codespace/.local/lib/python3.10/site-packages (from -r requirements.txt (line 143)) (6.4)\n",
      "Requirement already satisfied: traitlets==5.14.2 in /home/codespace/.local/lib/python3.10/site-packages (from -r requirements.txt (line 144)) (5.14.2)\n",
      "Requirement already satisfied: triton==2.2.0 in /home/codespace/.local/lib/python3.10/site-packages (from -r requirements.txt (line 145)) (2.2.0)\n",
      "Requirement already satisfied: types-python-dateutil==2.9.0.20240316 in /home/codespace/.local/lib/python3.10/site-packages (from -r requirements.txt (line 146)) (2.9.0.20240316)\n",
      "Requirement already satisfied: typing_extensions==4.10.0 in /home/codespace/.local/lib/python3.10/site-packages (from -r requirements.txt (line 147)) (4.10.0)\n",
      "Requirement already satisfied: tzdata==2024.1 in /home/codespace/.local/lib/python3.10/site-packages (from -r requirements.txt (line 148)) (2024.1)\n",
      "Requirement already satisfied: uri-template==1.3.0 in /home/codespace/.local/lib/python3.10/site-packages (from -r requirements.txt (line 149)) (1.3.0)\n",
      "Requirement already satisfied: urllib3==2.0.7 in /usr/local/python/3.10.13/lib/python3.10/site-packages (from -r requirements.txt (line 150)) (2.0.7)\n",
      "Requirement already satisfied: watchdog==4.0.0 in /usr/local/python/3.10.13/lib/python3.10/site-packages (from -r requirements.txt (line 151)) (4.0.0)\n",
      "Requirement already satisfied: wcwidth==0.2.13 in /home/codespace/.local/lib/python3.10/site-packages (from -r requirements.txt (line 152)) (0.2.13)\n",
      "Requirement already satisfied: webcolors==1.13 in /home/codespace/.local/lib/python3.10/site-packages (from -r requirements.txt (line 153)) (1.13)\n",
      "Requirement already satisfied: webencodings==0.5.1 in /home/codespace/.local/lib/python3.10/site-packages (from -r requirements.txt (line 154)) (0.5.1)\n",
      "Requirement already satisfied: websocket-client==1.7.0 in /home/codespace/.local/lib/python3.10/site-packages (from -r requirements.txt (line 155)) (1.7.0)\n",
      "Note: you may need to restart the kernel to use updated packages.\n"
     ]
    }
   ],
   "source": [
    "pip install -r requirements.txt"
   ]
  },
  {
   "cell_type": "code",
   "execution_count": 3,
   "id": "50674e48-8e87-467f-a24d-9b89489c2945",
   "metadata": {},
   "outputs": [
    {
     "name": "stderr",
     "output_type": "stream",
     "text": [
      "ERROR   -  Config value 'plugins': The \"optimize\" plugin is not installed\n"
     ]
    },
    {
     "name": "stdout",
     "output_type": "stream",
     "text": [
      "\n",
      "Aborted with a configuration error!\n"
     ]
    },
    {
     "ename": "CalledProcessError",
     "evalue": "Command 'b'mkdocs build\\n'' returned non-zero exit status 1.",
     "output_type": "error",
     "traceback": [
      "\u001b[0;31m---------------------------------------------------------------------------\u001b[0m",
      "\u001b[0;31mCalledProcessError\u001b[0m                        Traceback (most recent call last)",
      "Cell \u001b[0;32mIn[3], line 1\u001b[0m\n\u001b[0;32m----> 1\u001b[0m \u001b[43mget_ipython\u001b[49m\u001b[43m(\u001b[49m\u001b[43m)\u001b[49m\u001b[38;5;241;43m.\u001b[39;49m\u001b[43mrun_cell_magic\u001b[49m\u001b[43m(\u001b[49m\u001b[38;5;124;43m'\u001b[39;49m\u001b[38;5;124;43mbash\u001b[39;49m\u001b[38;5;124;43m'\u001b[39;49m\u001b[43m,\u001b[49m\u001b[43m \u001b[49m\u001b[38;5;124;43m'\u001b[39;49m\u001b[38;5;124;43m'\u001b[39;49m\u001b[43m,\u001b[49m\u001b[43m \u001b[49m\u001b[38;5;124;43m'\u001b[39;49m\u001b[38;5;124;43mmkdocs build\u001b[39;49m\u001b[38;5;130;43;01m\\n\u001b[39;49;00m\u001b[38;5;124;43m'\u001b[39;49m\u001b[43m)\u001b[49m\n",
      "File \u001b[0;32m~/.local/lib/python3.10/site-packages/IPython/core/interactiveshell.py:2541\u001b[0m, in \u001b[0;36mInteractiveShell.run_cell_magic\u001b[0;34m(self, magic_name, line, cell)\u001b[0m\n\u001b[1;32m   2539\u001b[0m \u001b[38;5;28;01mwith\u001b[39;00m \u001b[38;5;28mself\u001b[39m\u001b[38;5;241m.\u001b[39mbuiltin_trap:\n\u001b[1;32m   2540\u001b[0m     args \u001b[38;5;241m=\u001b[39m (magic_arg_s, cell)\n\u001b[0;32m-> 2541\u001b[0m     result \u001b[38;5;241m=\u001b[39m \u001b[43mfn\u001b[49m\u001b[43m(\u001b[49m\u001b[38;5;241;43m*\u001b[39;49m\u001b[43margs\u001b[49m\u001b[43m,\u001b[49m\u001b[43m \u001b[49m\u001b[38;5;241;43m*\u001b[39;49m\u001b[38;5;241;43m*\u001b[39;49m\u001b[43mkwargs\u001b[49m\u001b[43m)\u001b[49m\n\u001b[1;32m   2543\u001b[0m \u001b[38;5;66;03m# The code below prevents the output from being displayed\u001b[39;00m\n\u001b[1;32m   2544\u001b[0m \u001b[38;5;66;03m# when using magics with decorator @output_can_be_silenced\u001b[39;00m\n\u001b[1;32m   2545\u001b[0m \u001b[38;5;66;03m# when the last Python token in the expression is a ';'.\u001b[39;00m\n\u001b[1;32m   2546\u001b[0m \u001b[38;5;28;01mif\u001b[39;00m \u001b[38;5;28mgetattr\u001b[39m(fn, magic\u001b[38;5;241m.\u001b[39mMAGIC_OUTPUT_CAN_BE_SILENCED, \u001b[38;5;28;01mFalse\u001b[39;00m):\n",
      "File \u001b[0;32m~/.local/lib/python3.10/site-packages/IPython/core/magics/script.py:155\u001b[0m, in \u001b[0;36mScriptMagics._make_script_magic.<locals>.named_script_magic\u001b[0;34m(line, cell)\u001b[0m\n\u001b[1;32m    153\u001b[0m \u001b[38;5;28;01melse\u001b[39;00m:\n\u001b[1;32m    154\u001b[0m     line \u001b[38;5;241m=\u001b[39m script\n\u001b[0;32m--> 155\u001b[0m \u001b[38;5;28;01mreturn\u001b[39;00m \u001b[38;5;28;43mself\u001b[39;49m\u001b[38;5;241;43m.\u001b[39;49m\u001b[43mshebang\u001b[49m\u001b[43m(\u001b[49m\u001b[43mline\u001b[49m\u001b[43m,\u001b[49m\u001b[43m \u001b[49m\u001b[43mcell\u001b[49m\u001b[43m)\u001b[49m\n",
      "File \u001b[0;32m~/.local/lib/python3.10/site-packages/IPython/core/magics/script.py:315\u001b[0m, in \u001b[0;36mScriptMagics.shebang\u001b[0;34m(self, line, cell)\u001b[0m\n\u001b[1;32m    310\u001b[0m \u001b[38;5;28;01mif\u001b[39;00m args\u001b[38;5;241m.\u001b[39mraise_error \u001b[38;5;129;01mand\u001b[39;00m p\u001b[38;5;241m.\u001b[39mreturncode \u001b[38;5;241m!=\u001b[39m \u001b[38;5;241m0\u001b[39m:\n\u001b[1;32m    311\u001b[0m     \u001b[38;5;66;03m# If we get here and p.returncode is still None, we must have\u001b[39;00m\n\u001b[1;32m    312\u001b[0m     \u001b[38;5;66;03m# killed it but not yet seen its return code. We don't wait for it,\u001b[39;00m\n\u001b[1;32m    313\u001b[0m     \u001b[38;5;66;03m# in case it's stuck in uninterruptible sleep. -9 = SIGKILL\u001b[39;00m\n\u001b[1;32m    314\u001b[0m     rc \u001b[38;5;241m=\u001b[39m p\u001b[38;5;241m.\u001b[39mreturncode \u001b[38;5;129;01mor\u001b[39;00m \u001b[38;5;241m-\u001b[39m\u001b[38;5;241m9\u001b[39m\n\u001b[0;32m--> 315\u001b[0m     \u001b[38;5;28;01mraise\u001b[39;00m CalledProcessError(rc, cell)\n",
      "\u001b[0;31mCalledProcessError\u001b[0m: Command 'b'mkdocs build\\n'' returned non-zero exit status 1."
     ]
    }
   ],
   "source": [
    "%%bash\n",
    "mkdocs build"
   ]
  },
  {
   "cell_type": "code",
   "execution_count": 36,
   "id": "99c6c8cd",
   "metadata": {},
   "outputs": [
    {
     "name": "stderr",
     "output_type": "stream",
     "text": [
      "INFO    -  Cleaning site directory\n",
      "INFO    -  Building documentation to directory: c:\\Users\\Owner\\Documents\\GitHub\\project\\site\n",
      "INFO    -  Documentation built in 0.41 seconds\n"
     ]
    }
   ],
   "source": [
    "!mkdocs build --clean\n"
   ]
  },
  {
   "cell_type": "code",
   "execution_count": 10,
   "id": "f73f7ff3",
   "metadata": {},
   "outputs": [
    {
     "name": "stdout",
     "output_type": "stream",
     "text": [
      "Collecting mkdocs-table-reader-plugin\n",
      "  Downloading mkdocs_table_reader_plugin-2.2.1-py3-none-any.whl.metadata (3.1 kB)\n",
      "Requirement already satisfied: mkdocs>=1.0 in c:\\users\\owner\\appdata\\local\\programs\\python\\python310\\lib\\site-packages (from mkdocs-table-reader-plugin) (1.6.0)\n",
      "Collecting pandas>=1.1 (from mkdocs-table-reader-plugin)\n",
      "  Downloading pandas-2.2.2-cp310-cp310-win_amd64.whl.metadata (19 kB)\n",
      "Collecting tabulate>=0.8.7 (from mkdocs-table-reader-plugin)\n",
      "  Downloading tabulate-0.9.0-py3-none-any.whl.metadata (34 kB)\n",
      "Requirement already satisfied: PyYAML>=5.4.1 in c:\\users\\owner\\appdata\\local\\programs\\python\\python310\\lib\\site-packages (from mkdocs-table-reader-plugin) (6.0.1)\n",
      "Requirement already satisfied: click>=7.0 in c:\\users\\owner\\appdata\\local\\programs\\python\\python310\\lib\\site-packages (from mkdocs>=1.0->mkdocs-table-reader-plugin) (8.1.7)\n",
      "Requirement already satisfied: colorama>=0.4 in c:\\users\\owner\\appdata\\local\\programs\\python\\python310\\lib\\site-packages (from mkdocs>=1.0->mkdocs-table-reader-plugin) (0.4.6)\n",
      "Requirement already satisfied: ghp-import>=1.0 in c:\\users\\owner\\appdata\\local\\programs\\python\\python310\\lib\\site-packages (from mkdocs>=1.0->mkdocs-table-reader-plugin) (2.1.0)\n",
      "Requirement already satisfied: jinja2>=2.11.1 in c:\\users\\owner\\appdata\\local\\programs\\python\\python310\\lib\\site-packages (from mkdocs>=1.0->mkdocs-table-reader-plugin) (3.1.4)\n",
      "Requirement already satisfied: markdown>=3.3.6 in c:\\users\\owner\\appdata\\local\\programs\\python\\python310\\lib\\site-packages (from mkdocs>=1.0->mkdocs-table-reader-plugin) (3.6)\n",
      "Requirement already satisfied: markupsafe>=2.0.1 in c:\\users\\owner\\appdata\\local\\programs\\python\\python310\\lib\\site-packages (from mkdocs>=1.0->mkdocs-table-reader-plugin) (2.1.5)\n",
      "Requirement already satisfied: mergedeep>=1.3.4 in c:\\users\\owner\\appdata\\local\\programs\\python\\python310\\lib\\site-packages (from mkdocs>=1.0->mkdocs-table-reader-plugin) (1.3.4)\n",
      "Requirement already satisfied: mkdocs-get-deps>=0.2.0 in c:\\users\\owner\\appdata\\local\\programs\\python\\python310\\lib\\site-packages (from mkdocs>=1.0->mkdocs-table-reader-plugin) (0.2.0)\n",
      "Requirement already satisfied: packaging>=20.5 in c:\\users\\owner\\appdata\\local\\programs\\python\\python310\\lib\\site-packages (from mkdocs>=1.0->mkdocs-table-reader-plugin) (23.1)\n",
      "Requirement already satisfied: pathspec>=0.11.1 in c:\\users\\owner\\appdata\\local\\programs\\python\\python310\\lib\\site-packages (from mkdocs>=1.0->mkdocs-table-reader-plugin) (0.12.1)\n",
      "Requirement already satisfied: pyyaml-env-tag>=0.1 in c:\\users\\owner\\appdata\\local\\programs\\python\\python310\\lib\\site-packages (from mkdocs>=1.0->mkdocs-table-reader-plugin) (0.1)\n",
      "Requirement already satisfied: watchdog>=2.0 in c:\\users\\owner\\appdata\\local\\programs\\python\\python310\\lib\\site-packages (from mkdocs>=1.0->mkdocs-table-reader-plugin) (4.0.0)\n",
      "Requirement already satisfied: numpy>=1.22.4 in c:\\users\\owner\\appdata\\local\\programs\\python\\python310\\lib\\site-packages (from pandas>=1.1->mkdocs-table-reader-plugin) (1.25.2)\n",
      "Requirement already satisfied: python-dateutil>=2.8.2 in c:\\users\\owner\\appdata\\roaming\\python\\python310\\site-packages (from pandas>=1.1->mkdocs-table-reader-plugin) (2.9.0.post0)\n",
      "Collecting pytz>=2020.1 (from pandas>=1.1->mkdocs-table-reader-plugin)\n",
      "  Downloading pytz-2024.1-py2.py3-none-any.whl.metadata (22 kB)\n",
      "Collecting tzdata>=2022.7 (from pandas>=1.1->mkdocs-table-reader-plugin)\n",
      "  Downloading tzdata-2024.1-py2.py3-none-any.whl.metadata (1.4 kB)\n",
      "Requirement already satisfied: platformdirs>=2.2.0 in c:\\users\\owner\\appdata\\roaming\\python\\python310\\site-packages (from mkdocs-get-deps>=0.2.0->mkdocs>=1.0->mkdocs-table-reader-plugin) (4.2.1)\n",
      "Requirement already satisfied: six>=1.5 in c:\\users\\owner\\appdata\\roaming\\python\\python310\\site-packages (from python-dateutil>=2.8.2->pandas>=1.1->mkdocs-table-reader-plugin) (1.16.0)\n",
      "Downloading mkdocs_table_reader_plugin-2.2.1-py3-none-any.whl (9.5 kB)\n",
      "Downloading pandas-2.2.2-cp310-cp310-win_amd64.whl (11.6 MB)\n",
      "   ---------------------------------------- 0.0/11.6 MB ? eta -:--:--\n",
      "   ---------------------------------------- 0.1/11.6 MB 2.0 MB/s eta 0:00:06\n",
      "    --------------------------------------- 0.2/11.6 MB 2.8 MB/s eta 0:00:05\n",
      "   - -------------------------------------- 0.4/11.6 MB 2.9 MB/s eta 0:00:04\n",
      "   -- ------------------------------------- 0.8/11.6 MB 4.1 MB/s eta 0:00:03\n",
      "   --- ------------------------------------ 0.9/11.6 MB 4.4 MB/s eta 0:00:03\n",
      "   --- ------------------------------------ 0.9/11.6 MB 3.7 MB/s eta 0:00:03\n",
      "   --- ------------------------------------ 1.0/11.6 MB 3.2 MB/s eta 0:00:04\n",
      "   --------- ------------------------------ 2.7/11.6 MB 7.8 MB/s eta 0:00:02\n",
      "   ---------- ----------------------------- 3.0/11.6 MB 7.7 MB/s eta 0:00:02\n",
      "   ----------- ---------------------------- 3.4/11.6 MB 7.2 MB/s eta 0:00:02\n",
      "   ------------- -------------------------- 3.9/11.6 MB 7.5 MB/s eta 0:00:02\n",
      "   -------------- ------------------------- 4.2/11.6 MB 7.5 MB/s eta 0:00:01\n",
      "   --------------- ------------------------ 4.6/11.6 MB 7.3 MB/s eta 0:00:01\n",
      "   ---------------- ----------------------- 4.9/11.6 MB 7.2 MB/s eta 0:00:01\n",
      "   ----------------- ---------------------- 5.2/11.6 MB 7.2 MB/s eta 0:00:01\n",
      "   ------------------- -------------------- 5.5/11.6 MB 7.4 MB/s eta 0:00:01\n",
      "   -------------------- ------------------- 5.9/11.6 MB 7.4 MB/s eta 0:00:01\n",
      "   --------------------- ------------------ 6.2/11.6 MB 7.3 MB/s eta 0:00:01\n",
      "   ---------------------- ----------------- 6.5/11.6 MB 7.4 MB/s eta 0:00:01\n",
      "   ----------------------- ---------------- 6.8/11.6 MB 7.3 MB/s eta 0:00:01\n",
      "   ----------------------- ---------------- 6.8/11.6 MB 7.0 MB/s eta 0:00:01\n",
      "   ------------------------ --------------- 7.0/11.6 MB 6.9 MB/s eta 0:00:01\n",
      "   ------------------------- -------------- 7.4/11.6 MB 7.0 MB/s eta 0:00:01\n",
      "   -------------------------- ------------- 7.8/11.6 MB 6.9 MB/s eta 0:00:01\n",
      "   --------------------------- ------------ 8.1/11.6 MB 6.9 MB/s eta 0:00:01\n",
      "   ----------------------------- ---------- 8.5/11.6 MB 7.0 MB/s eta 0:00:01\n",
      "   ------------------------------ --------- 8.9/11.6 MB 7.0 MB/s eta 0:00:01\n",
      "   -------------------------------- ------- 9.3/11.6 MB 7.0 MB/s eta 0:00:01\n",
      "   --------------------------------- ------ 9.7/11.6 MB 7.1 MB/s eta 0:00:01\n",
      "   ---------------------------------- ----- 10.0/11.6 MB 7.1 MB/s eta 0:00:01\n",
      "   ----------------------------------- ---- 10.3/11.6 MB 7.3 MB/s eta 0:00:01\n",
      "   ------------------------------------ --- 10.7/11.6 MB 7.6 MB/s eta 0:00:01\n",
      "   -------------------------------------- - 11.1/11.6 MB 7.6 MB/s eta 0:00:01\n",
      "   ---------------------------------------  11.5/11.6 MB 8.2 MB/s eta 0:00:01\n",
      "   ---------------------------------------- 11.6/11.6 MB 7.9 MB/s eta 0:00:00\n",
      "Downloading tabulate-0.9.0-py3-none-any.whl (35 kB)\n",
      "Downloading pytz-2024.1-py2.py3-none-any.whl (505 kB)\n",
      "   ---------------------------------------- 0.0/505.5 kB ? eta -:--:--\n",
      "   -- ------------------------------------- 30.7/505.5 kB ? eta -:--:--\n",
      "   ------ --------------------------------- 81.9/505.5 kB 2.2 MB/s eta 0:00:01\n",
      "   ------------ --------------------------- 163.8/505.5 kB 1.9 MB/s eta 0:00:01\n",
      "   ------------ --------------------------- 163.8/505.5 kB 1.9 MB/s eta 0:00:01\n",
      "   ---------------------------------------  501.8/505.5 kB 2.9 MB/s eta 0:00:01\n",
      "   ---------------------------------------- 505.5/505.5 kB 2.6 MB/s eta 0:00:00\n",
      "Downloading tzdata-2024.1-py2.py3-none-any.whl (345 kB)\n",
      "   ---------------------------------------- 0.0/345.4 kB ? eta -:--:--\n",
      "   ----------------- ---------------------- 153.6/345.4 kB 3.1 MB/s eta 0:00:01\n",
      "   ------------------------------------- -- 327.7/345.4 kB 3.4 MB/s eta 0:00:01\n",
      "   ---------------------------------------- 345.4/345.4 kB 3.6 MB/s eta 0:00:00\n",
      "Installing collected packages: pytz, tzdata, tabulate, pandas, mkdocs-table-reader-plugin\n",
      "Successfully installed mkdocs-table-reader-plugin-2.2.1 pandas-2.2.2 pytz-2024.1 tabulate-0.9.0 tzdata-2024.1\n"
     ]
    }
   ],
   "source": [
    "!pip install mkdocs-table-reader-plugin"
   ]
  },
  {
   "cell_type": "code",
   "execution_count": 34,
   "id": "8af274af",
   "metadata": {},
   "outputs": [
    {
     "name": "stdout",
     "output_type": "stream",
     "text": [
      "\n",
      "Aborted with a configuration error!\n"
     ]
    },
    {
     "name": "stderr",
     "output_type": "stream",
     "text": [
      "ERROR   -  Config value 'plugins': Plugin 'material/group' option 'plugins': Required configuration not provided.\n"
     ]
    }
   ],
   "source": [
    "!mkdocs build"
   ]
  },
  {
   "cell_type": "code",
   "execution_count": 37,
   "id": "fb7dc8c8",
   "metadata": {},
   "outputs": [
    {
     "name": "stderr",
     "output_type": "stream",
     "text": [
      "warning: in the working copy of 'site/404.html', LF will be replaced by CRLF the next time Git touches it\n",
      "warning: in the working copy of 'site/assets/javascripts/bundle.a7c05c9e.min.js', LF will be replaced by CRLF the next time Git touches it\n",
      "warning: in the working copy of 'site/assets/javascripts/bundle.a7c05c9e.min.js.map', LF will be replaced by CRLF the next time Git touches it\n",
      "warning: in the working copy of 'site/assets/javascripts/lunr/min/lunr.da.min.js', LF will be replaced by CRLF the next time Git touches it\n",
      "warning: in the working copy of 'site/assets/javascripts/lunr/min/lunr.de.min.js', LF will be replaced by CRLF the next time Git touches it\n",
      "warning: in the working copy of 'site/assets/javascripts/lunr/min/lunr.du.min.js', LF will be replaced by CRLF the next time Git touches it\n",
      "warning: in the working copy of 'site/assets/javascripts/lunr/min/lunr.es.min.js', LF will be replaced by CRLF the next time Git touches it\n",
      "warning: in the working copy of 'site/assets/javascripts/lunr/min/lunr.fi.min.js', LF will be replaced by CRLF the next time Git touches it\n",
      "warning: in the working copy of 'site/assets/javascripts/lunr/min/lunr.fr.min.js', LF will be replaced by CRLF the next time Git touches it\n",
      "warning: in the working copy of 'site/assets/javascripts/lunr/min/lunr.hu.min.js', LF will be replaced by CRLF the next time Git touches it\n",
      "warning: in the working copy of 'site/assets/javascripts/lunr/min/lunr.it.min.js', LF will be replaced by CRLF the next time Git touches it\n",
      "warning: in the working copy of 'site/assets/javascripts/lunr/min/lunr.nl.min.js', LF will be replaced by CRLF the next time Git touches it\n",
      "warning: in the working copy of 'site/assets/javascripts/lunr/min/lunr.no.min.js', LF will be replaced by CRLF the next time Git touches it\n",
      "warning: in the working copy of 'site/assets/javascripts/lunr/min/lunr.pt.min.js', LF will be replaced by CRLF the next time Git touches it\n",
      "warning: in the working copy of 'site/assets/javascripts/lunr/min/lunr.ro.min.js', LF will be replaced by CRLF the next time Git touches it\n",
      "warning: in the working copy of 'site/assets/javascripts/lunr/min/lunr.ru.min.js', LF will be replaced by CRLF the next time Git touches it\n",
      "warning: in the working copy of 'site/assets/javascripts/lunr/min/lunr.sv.min.js', LF will be replaced by CRLF the next time Git touches it\n",
      "warning: in the working copy of 'site/assets/javascripts/lunr/min/lunr.tr.min.js', LF will be replaced by CRLF the next time Git touches it\n",
      "warning: in the working copy of 'site/assets/javascripts/lunr/tinyseg.js', LF will be replaced by CRLF the next time Git touches it\n",
      "warning: in the working copy of 'site/assets/javascripts/lunr/wordcut.js', LF will be replaced by CRLF the next time Git touches it\n",
      "warning: in the working copy of 'site/assets/javascripts/workers/search.b8dbb3d2.min.js', LF will be replaced by CRLF the next time Git touches it\n",
      "warning: in the working copy of 'site/assets/javascripts/workers/search.b8dbb3d2.min.js.map', LF will be replaced by CRLF the next time Git touches it\n",
      "warning: in the working copy of 'site/date2/index.html', LF will be replaced by CRLF the next time Git touches it\n",
      "warning: in the working copy of 'site/index.html', LF will be replaced by CRLF the next time Git touches it\n",
      "warning: in the working copy of 'site/sitemap.xml', LF will be replaced by CRLF the next time Git touches it\n"
     ]
    }
   ],
   "source": [
    "!git add ."
   ]
  },
  {
   "cell_type": "code",
   "execution_count": 38,
   "id": "55502aff",
   "metadata": {},
   "outputs": [
    {
     "name": "stdout",
     "output_type": "stream",
     "text": [
      "[main 7619b7f] insider build^2\n",
      " 1 file changed, 6 deletions(-)\n"
     ]
    }
   ],
   "source": [
    "!git commit -m \"insider build^2\""
   ]
  },
  {
   "cell_type": "code",
   "execution_count": 39,
   "id": "f8ec9974",
   "metadata": {},
   "outputs": [
    {
     "name": "stdout",
     "output_type": "stream",
     "text": [
      "Already up to date.\n"
     ]
    },
    {
     "name": "stderr",
     "output_type": "stream",
     "text": [
      "From https://github.com/ua-micro-cha/project\n",
      " * branch            main       -> FETCH_HEAD\n"
     ]
    }
   ],
   "source": [
    "!git pull origin main"
   ]
  },
  {
   "cell_type": "code",
   "execution_count": 40,
   "id": "140a5da9",
   "metadata": {},
   "outputs": [
    {
     "name": "stderr",
     "output_type": "stream",
     "text": [
      "To https://github.com/ua-micro-cha/project.git\n",
      "   bb5b663..7619b7f  main -> main\n"
     ]
    }
   ],
   "source": [
    "!git push origin main"
   ]
  },
  {
   "cell_type": "code",
   "execution_count": 31,
   "id": "153a94df",
   "metadata": {},
   "outputs": [],
   "source": [
    "!git add mkdocs.yml"
   ]
  },
  {
   "cell_type": "code",
   "execution_count": 32,
   "id": "7ef8c32e",
   "metadata": {},
   "outputs": [
    {
     "name": "stdout",
     "output_type": "stream",
     "text": [
      "On branch main\n",
      "Your branch is up to date with 'origin/main'.\n",
      "\n",
      "nothing to commit, working tree clean\n"
     ]
    }
   ],
   "source": [
    "!git commit -m \"Remove mkdocs-git-revision-date-localized plugin\""
   ]
  },
  {
   "cell_type": "code",
   "execution_count": 33,
   "id": "45025fd8",
   "metadata": {},
   "outputs": [
    {
     "name": "stderr",
     "output_type": "stream",
     "text": [
      "Everything up-to-date\n"
     ]
    }
   ],
   "source": [
    "!git push"
   ]
  }
 ],
 "metadata": {
  "kernelspec": {
   "display_name": "Python 3 (ipykernel)",
   "language": "python",
   "name": "python3"
  },
  "language_info": {
   "codemirror_mode": {
    "name": "ipython",
    "version": 3
   },
   "file_extension": ".py",
   "mimetype": "text/x-python",
   "name": "python",
   "nbconvert_exporter": "python",
   "pygments_lexer": "ipython3",
   "version": "3.10.11"
  }
 },
 "nbformat": 4,
 "nbformat_minor": 5
}
