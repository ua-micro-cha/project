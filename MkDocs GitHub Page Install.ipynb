{
 "cells": [
  {
   "cell_type": "markdown",
   "id": "54a2fb95-3fc8-49a4-97f1-e60cf09cd924",
   "metadata": {},
   "source": [
    "# MkDocs GitHub Pages"
   ]
  },
  {
   "cell_type": "markdown",
   "id": "15731f14-bc02-4320-965b-cdb7054aee14",
   "metadata": {},
   "source": [
    "## Install MkDocs and the necessary Python extensions "
   ]
  },
  {
   "cell_type": "code",
   "execution_count": 2,
   "id": "3ff9a1c9-d8fa-4e13-8e71-e0984251252e",
   "metadata": {},
   "outputs": [
    {
     "name": "stdout",
     "output_type": "stream",
     "text": [
      "README.md       \u001b[0m\u001b[34;42mdocs\u001b[0m/                 \u001b[34;42mmkdocs-material\u001b[0m/\n",
      "Untitled.ipynb  micro_cha_push.ipynb  mkdocs.yml\n"
     ]
    }
   ],
   "source": [
    "ls"
   ]
  },
  {
   "cell_type": "code",
   "execution_count": 3,
   "id": "1314f834-fb58-4b62-9cf7-b3d96c2aaaa8",
   "metadata": {},
   "outputs": [
    {
     "name": "stdout",
     "output_type": "stream",
     "text": [
      "Requirement already satisfied: mkdocs in /usr/local/python/3.10.13/lib/python3.10/site-packages (1.6.0)\n",
      "Requirement already satisfied: pymdown-extensions in /usr/local/python/3.10.13/lib/python3.10/site-packages (10.8.1)\n",
      "Requirement already satisfied: click>=7.0 in /usr/local/python/3.10.13/lib/python3.10/site-packages (from mkdocs) (8.1.7)\n",
      "Requirement already satisfied: ghp-import>=1.0 in /usr/local/python/3.10.13/lib/python3.10/site-packages (from mkdocs) (2.1.0)\n",
      "Requirement already satisfied: jinja2>=2.11.1 in /home/codespace/.local/lib/python3.10/site-packages (from mkdocs) (3.1.3)\n",
      "Requirement already satisfied: markdown>=3.3.6 in /usr/local/python/3.10.13/lib/python3.10/site-packages (from mkdocs) (3.6)\n",
      "Requirement already satisfied: markupsafe>=2.0.1 in /home/codespace/.local/lib/python3.10/site-packages (from mkdocs) (2.1.5)\n",
      "Requirement already satisfied: mergedeep>=1.3.4 in /usr/local/python/3.10.13/lib/python3.10/site-packages (from mkdocs) (1.3.4)\n",
      "Requirement already satisfied: mkdocs-get-deps>=0.2.0 in /usr/local/python/3.10.13/lib/python3.10/site-packages (from mkdocs) (0.2.0)\n",
      "Requirement already satisfied: packaging>=20.5 in /home/codespace/.local/lib/python3.10/site-packages (from mkdocs) (24.0)\n",
      "Requirement already satisfied: pathspec>=0.11.1 in /usr/local/python/3.10.13/lib/python3.10/site-packages (from mkdocs) (0.12.1)\n",
      "Requirement already satisfied: pyyaml-env-tag>=0.1 in /usr/local/python/3.10.13/lib/python3.10/site-packages (from mkdocs) (0.1)\n",
      "Requirement already satisfied: pyyaml>=5.1 in /home/codespace/.local/lib/python3.10/site-packages (from mkdocs) (6.0.1)\n",
      "Requirement already satisfied: watchdog>=2.0 in /usr/local/python/3.10.13/lib/python3.10/site-packages (from mkdocs) (4.0.0)\n",
      "Requirement already satisfied: python-dateutil>=2.8.1 in /home/codespace/.local/lib/python3.10/site-packages (from ghp-import>=1.0->mkdocs) (2.9.0.post0)\n",
      "Requirement already satisfied: platformdirs>=2.2.0 in /home/codespace/.local/lib/python3.10/site-packages (from mkdocs-get-deps>=0.2.0->mkdocs) (4.2.0)\n",
      "Requirement already satisfied: six>=1.5 in /home/codespace/.local/lib/python3.10/site-packages (from python-dateutil>=2.8.1->ghp-import>=1.0->mkdocs) (1.16.0)\n"
     ]
    }
   ],
   "source": [
    "!pip install mkdocs pymdown-extensions"
   ]
  },
  {
   "cell_type": "markdown",
   "id": "23cb6b7e-2070-4d56-be4c-a595a805559f",
   "metadata": {},
   "source": [
    "Before deploying, verify the MkDocs setup"
   ]
  },
  {
   "cell_type": "markdown",
   "id": "a3173133-89ae-495e-a3e8-4cb4f8bca8c5",
   "metadata": {},
   "source": [
    "## Build site locally"
   ]
  },
  {
   "cell_type": "code",
   "execution_count": 5,
   "id": "da60fad9-6075-44e4-ab61-fb632186c096",
   "metadata": {},
   "outputs": [
    {
     "name": "stdout",
     "output_type": "stream",
     "text": [
      "\u001b[31mERROR   -  \u001b[0mConfig value 'markdown_extensions': Failed to load extension\n",
      "           'pymdownx.tildey'.\n",
      "           ModuleNotFoundError: No module named 'pymdownx.tildey'\n",
      "\n",
      "Aborted with a configuration error!\n"
     ]
    }
   ],
   "source": [
    "!mkdocs build"
   ]
  },
  {
   "cell_type": "code",
   "execution_count": 2,
   "id": "218bdd98-5a9c-4df9-b81e-28b98a0f4ad0",
   "metadata": {},
   "outputs": [
    {
     "name": "stdout",
     "output_type": "stream",
     "text": [
      "Requirement already satisfied: mkdocs-table-reader-plugin in /usr/local/python/3.10.13/lib/python3.10/site-packages (2.1.0)\n",
      "Requirement already satisfied: mkdocs>=1.0 in /usr/local/python/3.10.13/lib/python3.10/site-packages (from mkdocs-table-reader-plugin) (1.6.0)\n",
      "Requirement already satisfied: pandas>=1.1 in /home/codespace/.local/lib/python3.10/site-packages (from mkdocs-table-reader-plugin) (2.2.1)\n",
      "Requirement already satisfied: tabulate>=0.8.7 in /usr/local/python/3.10.13/lib/python3.10/site-packages (from mkdocs-table-reader-plugin) (0.9.0)\n",
      "Requirement already satisfied: PyYAML>=5.4.1 in /home/codespace/.local/lib/python3.10/site-packages (from mkdocs-table-reader-plugin) (6.0.1)\n",
      "Requirement already satisfied: click>=7.0 in /usr/local/python/3.10.13/lib/python3.10/site-packages (from mkdocs>=1.0->mkdocs-table-reader-plugin) (8.1.7)\n",
      "Requirement already satisfied: ghp-import>=1.0 in /usr/local/python/3.10.13/lib/python3.10/site-packages (from mkdocs>=1.0->mkdocs-table-reader-plugin) (2.1.0)\n",
      "Requirement already satisfied: jinja2>=2.11.1 in /home/codespace/.local/lib/python3.10/site-packages (from mkdocs>=1.0->mkdocs-table-reader-plugin) (3.1.3)\n",
      "Requirement already satisfied: markdown>=3.3.6 in /usr/local/python/3.10.13/lib/python3.10/site-packages (from mkdocs>=1.0->mkdocs-table-reader-plugin) (3.6)\n",
      "Requirement already satisfied: markupsafe>=2.0.1 in /home/codespace/.local/lib/python3.10/site-packages (from mkdocs>=1.0->mkdocs-table-reader-plugin) (2.1.5)\n",
      "Requirement already satisfied: mergedeep>=1.3.4 in /usr/local/python/3.10.13/lib/python3.10/site-packages (from mkdocs>=1.0->mkdocs-table-reader-plugin) (1.3.4)\n",
      "Requirement already satisfied: mkdocs-get-deps>=0.2.0 in /usr/local/python/3.10.13/lib/python3.10/site-packages (from mkdocs>=1.0->mkdocs-table-reader-plugin) (0.2.0)\n",
      "Requirement already satisfied: packaging>=20.5 in /home/codespace/.local/lib/python3.10/site-packages (from mkdocs>=1.0->mkdocs-table-reader-plugin) (24.0)\n",
      "Requirement already satisfied: pathspec>=0.11.1 in /usr/local/python/3.10.13/lib/python3.10/site-packages (from mkdocs>=1.0->mkdocs-table-reader-plugin) (0.12.1)\n",
      "Requirement already satisfied: pyyaml-env-tag>=0.1 in /usr/local/python/3.10.13/lib/python3.10/site-packages (from mkdocs>=1.0->mkdocs-table-reader-plugin) (0.1)\n",
      "Requirement already satisfied: watchdog>=2.0 in /usr/local/python/3.10.13/lib/python3.10/site-packages (from mkdocs>=1.0->mkdocs-table-reader-plugin) (4.0.0)\n",
      "Requirement already satisfied: numpy<2,>=1.22.4 in /home/codespace/.local/lib/python3.10/site-packages (from pandas>=1.1->mkdocs-table-reader-plugin) (1.26.4)\n",
      "Requirement already satisfied: python-dateutil>=2.8.2 in /home/codespace/.local/lib/python3.10/site-packages (from pandas>=1.1->mkdocs-table-reader-plugin) (2.9.0.post0)\n",
      "Requirement already satisfied: pytz>=2020.1 in /home/codespace/.local/lib/python3.10/site-packages (from pandas>=1.1->mkdocs-table-reader-plugin) (2024.1)\n",
      "Requirement already satisfied: tzdata>=2022.7 in /home/codespace/.local/lib/python3.10/site-packages (from pandas>=1.1->mkdocs-table-reader-plugin) (2024.1)\n",
      "Requirement already satisfied: platformdirs>=2.2.0 in /home/codespace/.local/lib/python3.10/site-packages (from mkdocs-get-deps>=0.2.0->mkdocs>=1.0->mkdocs-table-reader-plugin) (4.2.0)\n",
      "Requirement already satisfied: six>=1.5 in /home/codespace/.local/lib/python3.10/site-packages (from python-dateutil>=2.8.2->pandas>=1.1->mkdocs-table-reader-plugin) (1.16.0)\n"
     ]
    }
   ],
   "source": [
    "!pip install mkdocs-table-reader-plugin"
   ]
  },
  {
   "cell_type": "code",
   "execution_count": 1,
   "id": "4b0a922d-8b77-4f65-86fa-027e65e3a492",
   "metadata": {},
   "outputs": [
    {
     "name": "stdout",
     "output_type": "stream",
     "text": [
      "/home/codespace/.python/current/bin/python\n"
     ]
    }
   ],
   "source": [
    "!which python"
   ]
  },
  {
   "cell_type": "code",
   "execution_count": 2,
   "id": "1cb18c75-81d0-4997-8b29-48268b360b33",
   "metadata": {},
   "outputs": [
    {
     "name": "stdout",
     "output_type": "stream",
     "text": [
      "[Errno 20] Not a directory: '/home/codespace/.python/current/bin/python'\n",
      "/workspaces/project\n"
     ]
    },
    {
     "name": "stderr",
     "output_type": "stream",
     "text": [
      "/home/codespace/.local/lib/python3.10/site-packages/IPython/core/magics/osm.py:393: UserWarning: This is now an optional IPython functionality, using bookmarks requires you to install the `pickleshare` library.\n",
      "  bkms = self.shell.db.get('bookmarks', {})\n"
     ]
    }
   ],
   "source": [
    "cd /home/codespace/.python/current/bin/python"
   ]
  },
  {
   "cell_type": "code",
   "execution_count": 3,
   "id": "cc9c3f7a-6ae3-4d93-b63a-53abb4ae124c",
   "metadata": {},
   "outputs": [
    {
     "name": "stdout",
     "output_type": "stream",
     "text": [
      "/home/codespace/.python/current/bin/mkdocs\n"
     ]
    }
   ],
   "source": [
    "!which mkdocs"
   ]
  },
  {
   "cell_type": "code",
   "execution_count": 5,
   "id": "cc1428e1-b3ea-4ac3-a768-52712c708b2d",
   "metadata": {},
   "outputs": [
    {
     "name": "stdout",
     "output_type": "stream",
     "text": [
      "[Errno 20] Not a directory: '/home/codespace/.python/current/bin/mkdocs'\n",
      "/workspaces/project\n"
     ]
    }
   ],
   "source": [
    "cd /home/codespace/.python/current/bin/mkdocs"
   ]
  },
  {
   "cell_type": "code",
   "execution_count": 6,
   "id": "a19e9ed0-6a2d-4858-8f1b-11cef4c67377",
   "metadata": {},
   "outputs": [
    {
     "name": "stdout",
     "output_type": "stream",
     "text": [
      "Package                    Version\n",
      "-------------------------- --------------\n",
      "anyio                      4.3.0\n",
      "argon2-cffi                23.1.0\n",
      "argon2-cffi-bindings       21.2.0\n",
      "arrow                      1.3.0\n",
      "asttokens                  2.4.1\n",
      "async-lru                  2.0.4\n",
      "attrs                      23.2.0\n",
      "Babel                      2.14.0\n",
      "beautifulsoup4             4.12.3\n",
      "bleach                     6.1.0\n",
      "certifi                    2024.2.2\n",
      "cffi                       1.16.0\n",
      "charset-normalizer         3.3.2\n",
      "click                      8.1.7\n",
      "colorama                   0.4.6\n",
      "comm                       0.2.2\n",
      "contourpy                  1.2.1\n",
      "csscompressor              0.9.5\n",
      "cycler                     0.12.1\n",
      "debugpy                    1.8.1\n",
      "decorator                  5.1.1\n",
      "defusedxml                 0.7.1\n",
      "exceptiongroup             1.2.0\n",
      "executing                  2.0.1\n",
      "fastjsonschema             2.19.1\n",
      "filelock                   3.13.3\n",
      "fonttools                  4.50.0\n",
      "fqdn                       1.5.1\n",
      "fsspec                     2024.3.1\n",
      "ghp-import                 2.1.0\n",
      "gitdb                      4.0.11\n",
      "GitPython                  3.1.43\n",
      "h11                        0.14.0\n",
      "htmlmin2                   0.1.13\n",
      "httpcore                   1.0.5\n",
      "httpx                      0.27.0\n",
      "idna                       3.6\n",
      "ipykernel                  6.29.4\n",
      "ipython                    8.23.0\n",
      "isoduration                20.11.0\n",
      "jedi                       0.19.1\n",
      "Jinja2                     3.1.3\n",
      "joblib                     1.3.2\n",
      "jsmin                      3.0.1\n",
      "json5                      0.9.24\n",
      "jsonpointer                2.4\n",
      "jsonschema                 4.21.1\n",
      "jsonschema-specifications  2023.12.1\n",
      "jupyter_client             8.6.1\n",
      "jupyter_core               5.7.2\n",
      "jupyter-events             0.10.0\n",
      "jupyter-lsp                2.2.4\n",
      "jupyter_server             2.13.0\n",
      "jupyter-server-mathjax     0.2.6\n",
      "jupyter_server_terminals   0.5.3\n",
      "jupyterlab                 4.1.5\n",
      "jupyterlab_git             0.50.0\n",
      "jupyterlab_pygments        0.3.0\n",
      "jupyterlab_server          2.25.4\n",
      "kiwisolver                 1.4.5\n",
      "Markdown                   3.6\n",
      "MarkupSafe                 2.1.5\n",
      "matplotlib                 3.8.3\n",
      "matplotlib-inline          0.1.6\n",
      "mergedeep                  1.3.4\n",
      "mistune                    3.0.2\n",
      "mkdocs                     1.6.0\n",
      "mkdocs-get-deps            0.2.0\n",
      "mkdocs-material            9.5.20\n",
      "mkdocs-material-extensions 1.3.1\n",
      "mkdocs-minify-plugin       0.8.0\n",
      "mkdocs-table-reader-plugin 2.1.0\n",
      "mpmath                     1.3.0\n",
      "nbclient                   0.10.0\n",
      "nbconvert                  7.16.3\n",
      "nbdime                     4.0.1\n",
      "nbformat                   5.10.3\n",
      "nest-asyncio               1.6.0\n",
      "networkx                   3.2.1\n",
      "notebook_shim              0.2.4\n",
      "numpy                      1.26.4\n",
      "nvidia-cublas-cu12         12.1.3.1\n",
      "nvidia-cuda-cupti-cu12     12.1.105\n",
      "nvidia-cuda-nvrtc-cu12     12.1.105\n",
      "nvidia-cuda-runtime-cu12   12.1.105\n",
      "nvidia-cudnn-cu12          8.9.2.26\n",
      "nvidia-cufft-cu12          11.0.2.54\n",
      "nvidia-curand-cu12         10.3.2.106\n",
      "nvidia-cusolver-cu12       11.4.5.107\n",
      "nvidia-cusparse-cu12       12.1.0.106\n",
      "nvidia-nccl-cu12           2.19.3\n",
      "nvidia-nvjitlink-cu12      12.4.99\n",
      "nvidia-nvtx-cu12           12.1.105\n",
      "overrides                  7.7.0\n",
      "packaging                  24.0\n",
      "paginate                   0.5.6\n",
      "pandas                     2.2.1\n",
      "pandocfilters              1.5.1\n",
      "parso                      0.8.3\n",
      "pathspec                   0.12.1\n",
      "pexpect                    4.9.0\n",
      "pillow                     10.3.0\n",
      "pip                        24.0\n",
      "platformdirs               4.2.0\n",
      "plotly                     5.20.0\n",
      "prometheus_client          0.20.0\n",
      "prompt-toolkit             3.0.43\n",
      "psutil                     5.9.8\n",
      "ptyprocess                 0.7.0\n",
      "pure-eval                  0.2.2\n",
      "pycparser                  2.22\n",
      "Pygments                   2.17.2\n",
      "pymdown-extensions         10.8.1\n",
      "pyparsing                  3.1.2\n",
      "python-dateutil            2.9.0.post0\n",
      "python-json-logger         2.0.7\n",
      "pytz                       2024.1\n",
      "PyYAML                     6.0.1\n",
      "pyyaml_env_tag             0.1\n",
      "pyzmq                      25.1.2\n",
      "referencing                0.34.0\n",
      "regex                      2024.4.28\n",
      "requests                   2.31.0\n",
      "rfc3339-validator          0.1.4\n",
      "rfc3986-validator          0.1.1\n",
      "rpds-py                    0.18.0\n",
      "scikit-learn               1.4.1.post1\n",
      "scipy                      1.13.0\n",
      "seaborn                    0.13.2\n",
      "Send2Trash                 1.8.2\n",
      "setuptools                 68.2.2\n",
      "six                        1.16.0\n",
      "smmap                      5.0.1\n",
      "sniffio                    1.3.1\n",
      "soupsieve                  2.5\n",
      "stack-data                 0.6.3\n",
      "sympy                      1.12\n",
      "tabulate                   0.9.0\n",
      "tenacity                   8.2.3\n",
      "terminado                  0.18.1\n",
      "threadpoolctl              3.4.0\n",
      "tinycss2                   1.2.1\n",
      "tomli                      2.0.1\n",
      "torch                      2.2.2\n",
      "tornado                    6.4\n",
      "traitlets                  5.14.2\n",
      "triton                     2.2.0\n",
      "types-python-dateutil      2.9.0.20240316\n",
      "typing_extensions          4.10.0\n",
      "tzdata                     2024.1\n",
      "uri-template               1.3.0\n",
      "urllib3                    2.0.7\n",
      "watchdog                   4.0.0\n",
      "wcwidth                    0.2.13\n",
      "webcolors                  1.13\n",
      "webencodings               0.5.1\n",
      "websocket-client           1.7.0\n"
     ]
    }
   ],
   "source": [
    "!pip list"
   ]
  }
 ],
 "metadata": {
  "kernelspec": {
   "display_name": "Python 3 (ipykernel)",
   "language": "python",
   "name": "python3"
  },
  "language_info": {
   "codemirror_mode": {
    "name": "ipython",
    "version": 3
   },
   "file_extension": ".py",
   "mimetype": "text/x-python",
   "name": "python",
   "nbconvert_exporter": "python",
   "pygments_lexer": "ipython3",
   "version": "3.10.13"
  }
 },
 "nbformat": 4,
 "nbformat_minor": 5
}
